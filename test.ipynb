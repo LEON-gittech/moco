{
 "cells": [
  {
   "cell_type": "code",
   "execution_count": 1,
   "metadata": {},
   "outputs": [],
   "source": [
    "import argparse\n",
    "import builtins\n",
    "import math\n",
    "import os\n",
    "import random\n",
    "import shutil\n",
    "import time\n",
    "import warnings\n",
    "import sys\n",
    "sys.path.append(\"/opt/tiger/moco\")\n",
    "import torch\n",
    "import torch.backends.cudnn as cudnn\n",
    "import torch.distributed as dist\n",
    "import torch.multiprocessing as mp\n",
    "import torch.nn as nn\n",
    "import torch.nn.parallel\n",
    "import torch.optim\n",
    "import torch.utils.data\n",
    "import torch.utils.data.distributed\n",
    "import torchvision.datasets as datasets\n",
    "import torchvision.models as models\n",
    "import torchvision.transforms as transforms"
   ]
  },
  {
   "cell_type": "code",
   "execution_count": 2,
   "metadata": {},
   "outputs": [],
   "source": [
    "checkpoint = torch.load(\"/mnt/bn/data-tns-live-llm/leon/experiments/llm/face/trained_model/checkpoint_0099.pth.tar\")"
   ]
  },
  {
   "cell_type": "code",
   "execution_count": 5,
   "metadata": {},
   "outputs": [
    {
     "name": "stdout",
     "output_type": "stream",
     "text": [
      "dict_keys(['epoch', 'arch', 'state_dict', 'optimizer'])\n",
      "odict_keys(['module.queue', 'module.queue_ptr', 'module.encoder_q.conv1.weight', 'module.encoder_q.bn1.weight', 'module.encoder_q.bn1.bias', 'module.encoder_q.bn1.running_mean', 'module.encoder_q.bn1.running_var', 'module.encoder_q.bn1.num_batches_tracked', 'module.encoder_q.layer1.0.conv1.weight', 'module.encoder_q.layer1.0.bn1.weight', 'module.encoder_q.layer1.0.bn1.bias', 'module.encoder_q.layer1.0.bn1.running_mean', 'module.encoder_q.layer1.0.bn1.running_var', 'module.encoder_q.layer1.0.bn1.num_batches_tracked', 'module.encoder_q.layer1.0.conv2.weight', 'module.encoder_q.layer1.0.bn2.weight', 'module.encoder_q.layer1.0.bn2.bias', 'module.encoder_q.layer1.0.bn2.running_mean', 'module.encoder_q.layer1.0.bn2.running_var', 'module.encoder_q.layer1.0.bn2.num_batches_tracked', 'module.encoder_q.layer1.0.conv3.weight', 'module.encoder_q.layer1.0.bn3.weight', 'module.encoder_q.layer1.0.bn3.bias', 'module.encoder_q.layer1.0.bn3.running_mean', 'module.encoder_q.layer1.0.bn3.running_var', 'module.encoder_q.layer1.0.bn3.num_batches_tracked', 'module.encoder_q.layer1.0.downsample.0.weight', 'module.encoder_q.layer1.0.downsample.1.weight', 'module.encoder_q.layer1.0.downsample.1.bias', 'module.encoder_q.layer1.0.downsample.1.running_mean', 'module.encoder_q.layer1.0.downsample.1.running_var', 'module.encoder_q.layer1.0.downsample.1.num_batches_tracked', 'module.encoder_q.layer1.1.conv1.weight', 'module.encoder_q.layer1.1.bn1.weight', 'module.encoder_q.layer1.1.bn1.bias', 'module.encoder_q.layer1.1.bn1.running_mean', 'module.encoder_q.layer1.1.bn1.running_var', 'module.encoder_q.layer1.1.bn1.num_batches_tracked', 'module.encoder_q.layer1.1.conv2.weight', 'module.encoder_q.layer1.1.bn2.weight', 'module.encoder_q.layer1.1.bn2.bias', 'module.encoder_q.layer1.1.bn2.running_mean', 'module.encoder_q.layer1.1.bn2.running_var', 'module.encoder_q.layer1.1.bn2.num_batches_tracked', 'module.encoder_q.layer1.1.conv3.weight', 'module.encoder_q.layer1.1.bn3.weight', 'module.encoder_q.layer1.1.bn3.bias', 'module.encoder_q.layer1.1.bn3.running_mean', 'module.encoder_q.layer1.1.bn3.running_var', 'module.encoder_q.layer1.1.bn3.num_batches_tracked', 'module.encoder_q.layer1.2.conv1.weight', 'module.encoder_q.layer1.2.bn1.weight', 'module.encoder_q.layer1.2.bn1.bias', 'module.encoder_q.layer1.2.bn1.running_mean', 'module.encoder_q.layer1.2.bn1.running_var', 'module.encoder_q.layer1.2.bn1.num_batches_tracked', 'module.encoder_q.layer1.2.conv2.weight', 'module.encoder_q.layer1.2.bn2.weight', 'module.encoder_q.layer1.2.bn2.bias', 'module.encoder_q.layer1.2.bn2.running_mean', 'module.encoder_q.layer1.2.bn2.running_var', 'module.encoder_q.layer1.2.bn2.num_batches_tracked', 'module.encoder_q.layer1.2.conv3.weight', 'module.encoder_q.layer1.2.bn3.weight', 'module.encoder_q.layer1.2.bn3.bias', 'module.encoder_q.layer1.2.bn3.running_mean', 'module.encoder_q.layer1.2.bn3.running_var', 'module.encoder_q.layer1.2.bn3.num_batches_tracked', 'module.encoder_q.layer2.0.conv1.weight', 'module.encoder_q.layer2.0.bn1.weight', 'module.encoder_q.layer2.0.bn1.bias', 'module.encoder_q.layer2.0.bn1.running_mean', 'module.encoder_q.layer2.0.bn1.running_var', 'module.encoder_q.layer2.0.bn1.num_batches_tracked', 'module.encoder_q.layer2.0.conv2.weight', 'module.encoder_q.layer2.0.bn2.weight', 'module.encoder_q.layer2.0.bn2.bias', 'module.encoder_q.layer2.0.bn2.running_mean', 'module.encoder_q.layer2.0.bn2.running_var', 'module.encoder_q.layer2.0.bn2.num_batches_tracked', 'module.encoder_q.layer2.0.conv3.weight', 'module.encoder_q.layer2.0.bn3.weight', 'module.encoder_q.layer2.0.bn3.bias', 'module.encoder_q.layer2.0.bn3.running_mean', 'module.encoder_q.layer2.0.bn3.running_var', 'module.encoder_q.layer2.0.bn3.num_batches_tracked', 'module.encoder_q.layer2.0.downsample.0.weight', 'module.encoder_q.layer2.0.downsample.1.weight', 'module.encoder_q.layer2.0.downsample.1.bias', 'module.encoder_q.layer2.0.downsample.1.running_mean', 'module.encoder_q.layer2.0.downsample.1.running_var', 'module.encoder_q.layer2.0.downsample.1.num_batches_tracked', 'module.encoder_q.layer2.1.conv1.weight', 'module.encoder_q.layer2.1.bn1.weight', 'module.encoder_q.layer2.1.bn1.bias', 'module.encoder_q.layer2.1.bn1.running_mean', 'module.encoder_q.layer2.1.bn1.running_var', 'module.encoder_q.layer2.1.bn1.num_batches_tracked', 'module.encoder_q.layer2.1.conv2.weight', 'module.encoder_q.layer2.1.bn2.weight', 'module.encoder_q.layer2.1.bn2.bias', 'module.encoder_q.layer2.1.bn2.running_mean', 'module.encoder_q.layer2.1.bn2.running_var', 'module.encoder_q.layer2.1.bn2.num_batches_tracked', 'module.encoder_q.layer2.1.conv3.weight', 'module.encoder_q.layer2.1.bn3.weight', 'module.encoder_q.layer2.1.bn3.bias', 'module.encoder_q.layer2.1.bn3.running_mean', 'module.encoder_q.layer2.1.bn3.running_var', 'module.encoder_q.layer2.1.bn3.num_batches_tracked', 'module.encoder_q.layer2.2.conv1.weight', 'module.encoder_q.layer2.2.bn1.weight', 'module.encoder_q.layer2.2.bn1.bias', 'module.encoder_q.layer2.2.bn1.running_mean', 'module.encoder_q.layer2.2.bn1.running_var', 'module.encoder_q.layer2.2.bn1.num_batches_tracked', 'module.encoder_q.layer2.2.conv2.weight', 'module.encoder_q.layer2.2.bn2.weight', 'module.encoder_q.layer2.2.bn2.bias', 'module.encoder_q.layer2.2.bn2.running_mean', 'module.encoder_q.layer2.2.bn2.running_var', 'module.encoder_q.layer2.2.bn2.num_batches_tracked', 'module.encoder_q.layer2.2.conv3.weight', 'module.encoder_q.layer2.2.bn3.weight', 'module.encoder_q.layer2.2.bn3.bias', 'module.encoder_q.layer2.2.bn3.running_mean', 'module.encoder_q.layer2.2.bn3.running_var', 'module.encoder_q.layer2.2.bn3.num_batches_tracked', 'module.encoder_q.layer2.3.conv1.weight', 'module.encoder_q.layer2.3.bn1.weight', 'module.encoder_q.layer2.3.bn1.bias', 'module.encoder_q.layer2.3.bn1.running_mean', 'module.encoder_q.layer2.3.bn1.running_var', 'module.encoder_q.layer2.3.bn1.num_batches_tracked', 'module.encoder_q.layer2.3.conv2.weight', 'module.encoder_q.layer2.3.bn2.weight', 'module.encoder_q.layer2.3.bn2.bias', 'module.encoder_q.layer2.3.bn2.running_mean', 'module.encoder_q.layer2.3.bn2.running_var', 'module.encoder_q.layer2.3.bn2.num_batches_tracked', 'module.encoder_q.layer2.3.conv3.weight', 'module.encoder_q.layer2.3.bn3.weight', 'module.encoder_q.layer2.3.bn3.bias', 'module.encoder_q.layer2.3.bn3.running_mean', 'module.encoder_q.layer2.3.bn3.running_var', 'module.encoder_q.layer2.3.bn3.num_batches_tracked', 'module.encoder_q.layer3.0.conv1.weight', 'module.encoder_q.layer3.0.bn1.weight', 'module.encoder_q.layer3.0.bn1.bias', 'module.encoder_q.layer3.0.bn1.running_mean', 'module.encoder_q.layer3.0.bn1.running_var', 'module.encoder_q.layer3.0.bn1.num_batches_tracked', 'module.encoder_q.layer3.0.conv2.weight', 'module.encoder_q.layer3.0.bn2.weight', 'module.encoder_q.layer3.0.bn2.bias', 'module.encoder_q.layer3.0.bn2.running_mean', 'module.encoder_q.layer3.0.bn2.running_var', 'module.encoder_q.layer3.0.bn2.num_batches_tracked', 'module.encoder_q.layer3.0.conv3.weight', 'module.encoder_q.layer3.0.bn3.weight', 'module.encoder_q.layer3.0.bn3.bias', 'module.encoder_q.layer3.0.bn3.running_mean', 'module.encoder_q.layer3.0.bn3.running_var', 'module.encoder_q.layer3.0.bn3.num_batches_tracked', 'module.encoder_q.layer3.0.downsample.0.weight', 'module.encoder_q.layer3.0.downsample.1.weight', 'module.encoder_q.layer3.0.downsample.1.bias', 'module.encoder_q.layer3.0.downsample.1.running_mean', 'module.encoder_q.layer3.0.downsample.1.running_var', 'module.encoder_q.layer3.0.downsample.1.num_batches_tracked', 'module.encoder_q.layer3.1.conv1.weight', 'module.encoder_q.layer3.1.bn1.weight', 'module.encoder_q.layer3.1.bn1.bias', 'module.encoder_q.layer3.1.bn1.running_mean', 'module.encoder_q.layer3.1.bn1.running_var', 'module.encoder_q.layer3.1.bn1.num_batches_tracked', 'module.encoder_q.layer3.1.conv2.weight', 'module.encoder_q.layer3.1.bn2.weight', 'module.encoder_q.layer3.1.bn2.bias', 'module.encoder_q.layer3.1.bn2.running_mean', 'module.encoder_q.layer3.1.bn2.running_var', 'module.encoder_q.layer3.1.bn2.num_batches_tracked', 'module.encoder_q.layer3.1.conv3.weight', 'module.encoder_q.layer3.1.bn3.weight', 'module.encoder_q.layer3.1.bn3.bias', 'module.encoder_q.layer3.1.bn3.running_mean', 'module.encoder_q.layer3.1.bn3.running_var', 'module.encoder_q.layer3.1.bn3.num_batches_tracked', 'module.encoder_q.layer3.2.conv1.weight', 'module.encoder_q.layer3.2.bn1.weight', 'module.encoder_q.layer3.2.bn1.bias', 'module.encoder_q.layer3.2.bn1.running_mean', 'module.encoder_q.layer3.2.bn1.running_var', 'module.encoder_q.layer3.2.bn1.num_batches_tracked', 'module.encoder_q.layer3.2.conv2.weight', 'module.encoder_q.layer3.2.bn2.weight', 'module.encoder_q.layer3.2.bn2.bias', 'module.encoder_q.layer3.2.bn2.running_mean', 'module.encoder_q.layer3.2.bn2.running_var', 'module.encoder_q.layer3.2.bn2.num_batches_tracked', 'module.encoder_q.layer3.2.conv3.weight', 'module.encoder_q.layer3.2.bn3.weight', 'module.encoder_q.layer3.2.bn3.bias', 'module.encoder_q.layer3.2.bn3.running_mean', 'module.encoder_q.layer3.2.bn3.running_var', 'module.encoder_q.layer3.2.bn3.num_batches_tracked', 'module.encoder_q.layer3.3.conv1.weight', 'module.encoder_q.layer3.3.bn1.weight', 'module.encoder_q.layer3.3.bn1.bias', 'module.encoder_q.layer3.3.bn1.running_mean', 'module.encoder_q.layer3.3.bn1.running_var', 'module.encoder_q.layer3.3.bn1.num_batches_tracked', 'module.encoder_q.layer3.3.conv2.weight', 'module.encoder_q.layer3.3.bn2.weight', 'module.encoder_q.layer3.3.bn2.bias', 'module.encoder_q.layer3.3.bn2.running_mean', 'module.encoder_q.layer3.3.bn2.running_var', 'module.encoder_q.layer3.3.bn2.num_batches_tracked', 'module.encoder_q.layer3.3.conv3.weight', 'module.encoder_q.layer3.3.bn3.weight', 'module.encoder_q.layer3.3.bn3.bias', 'module.encoder_q.layer3.3.bn3.running_mean', 'module.encoder_q.layer3.3.bn3.running_var', 'module.encoder_q.layer3.3.bn3.num_batches_tracked', 'module.encoder_q.layer3.4.conv1.weight', 'module.encoder_q.layer3.4.bn1.weight', 'module.encoder_q.layer3.4.bn1.bias', 'module.encoder_q.layer3.4.bn1.running_mean', 'module.encoder_q.layer3.4.bn1.running_var', 'module.encoder_q.layer3.4.bn1.num_batches_tracked', 'module.encoder_q.layer3.4.conv2.weight', 'module.encoder_q.layer3.4.bn2.weight', 'module.encoder_q.layer3.4.bn2.bias', 'module.encoder_q.layer3.4.bn2.running_mean', 'module.encoder_q.layer3.4.bn2.running_var', 'module.encoder_q.layer3.4.bn2.num_batches_tracked', 'module.encoder_q.layer3.4.conv3.weight', 'module.encoder_q.layer3.4.bn3.weight', 'module.encoder_q.layer3.4.bn3.bias', 'module.encoder_q.layer3.4.bn3.running_mean', 'module.encoder_q.layer3.4.bn3.running_var', 'module.encoder_q.layer3.4.bn3.num_batches_tracked', 'module.encoder_q.layer3.5.conv1.weight', 'module.encoder_q.layer3.5.bn1.weight', 'module.encoder_q.layer3.5.bn1.bias', 'module.encoder_q.layer3.5.bn1.running_mean', 'module.encoder_q.layer3.5.bn1.running_var', 'module.encoder_q.layer3.5.bn1.num_batches_tracked', 'module.encoder_q.layer3.5.conv2.weight', 'module.encoder_q.layer3.5.bn2.weight', 'module.encoder_q.layer3.5.bn2.bias', 'module.encoder_q.layer3.5.bn2.running_mean', 'module.encoder_q.layer3.5.bn2.running_var', 'module.encoder_q.layer3.5.bn2.num_batches_tracked', 'module.encoder_q.layer3.5.conv3.weight', 'module.encoder_q.layer3.5.bn3.weight', 'module.encoder_q.layer3.5.bn3.bias', 'module.encoder_q.layer3.5.bn3.running_mean', 'module.encoder_q.layer3.5.bn3.running_var', 'module.encoder_q.layer3.5.bn3.num_batches_tracked', 'module.encoder_q.layer4.0.conv1.weight', 'module.encoder_q.layer4.0.bn1.weight', 'module.encoder_q.layer4.0.bn1.bias', 'module.encoder_q.layer4.0.bn1.running_mean', 'module.encoder_q.layer4.0.bn1.running_var', 'module.encoder_q.layer4.0.bn1.num_batches_tracked', 'module.encoder_q.layer4.0.conv2.weight', 'module.encoder_q.layer4.0.bn2.weight', 'module.encoder_q.layer4.0.bn2.bias', 'module.encoder_q.layer4.0.bn2.running_mean', 'module.encoder_q.layer4.0.bn2.running_var', 'module.encoder_q.layer4.0.bn2.num_batches_tracked', 'module.encoder_q.layer4.0.conv3.weight', 'module.encoder_q.layer4.0.bn3.weight', 'module.encoder_q.layer4.0.bn3.bias', 'module.encoder_q.layer4.0.bn3.running_mean', 'module.encoder_q.layer4.0.bn3.running_var', 'module.encoder_q.layer4.0.bn3.num_batches_tracked', 'module.encoder_q.layer4.0.downsample.0.weight', 'module.encoder_q.layer4.0.downsample.1.weight', 'module.encoder_q.layer4.0.downsample.1.bias', 'module.encoder_q.layer4.0.downsample.1.running_mean', 'module.encoder_q.layer4.0.downsample.1.running_var', 'module.encoder_q.layer4.0.downsample.1.num_batches_tracked', 'module.encoder_q.layer4.1.conv1.weight', 'module.encoder_q.layer4.1.bn1.weight', 'module.encoder_q.layer4.1.bn1.bias', 'module.encoder_q.layer4.1.bn1.running_mean', 'module.encoder_q.layer4.1.bn1.running_var', 'module.encoder_q.layer4.1.bn1.num_batches_tracked', 'module.encoder_q.layer4.1.conv2.weight', 'module.encoder_q.layer4.1.bn2.weight', 'module.encoder_q.layer4.1.bn2.bias', 'module.encoder_q.layer4.1.bn2.running_mean', 'module.encoder_q.layer4.1.bn2.running_var', 'module.encoder_q.layer4.1.bn2.num_batches_tracked', 'module.encoder_q.layer4.1.conv3.weight', 'module.encoder_q.layer4.1.bn3.weight', 'module.encoder_q.layer4.1.bn3.bias', 'module.encoder_q.layer4.1.bn3.running_mean', 'module.encoder_q.layer4.1.bn3.running_var', 'module.encoder_q.layer4.1.bn3.num_batches_tracked', 'module.encoder_q.layer4.2.conv1.weight', 'module.encoder_q.layer4.2.bn1.weight', 'module.encoder_q.layer4.2.bn1.bias', 'module.encoder_q.layer4.2.bn1.running_mean', 'module.encoder_q.layer4.2.bn1.running_var', 'module.encoder_q.layer4.2.bn1.num_batches_tracked', 'module.encoder_q.layer4.2.conv2.weight', 'module.encoder_q.layer4.2.bn2.weight', 'module.encoder_q.layer4.2.bn2.bias', 'module.encoder_q.layer4.2.bn2.running_mean', 'module.encoder_q.layer4.2.bn2.running_var', 'module.encoder_q.layer4.2.bn2.num_batches_tracked', 'module.encoder_q.layer4.2.conv3.weight', 'module.encoder_q.layer4.2.bn3.weight', 'module.encoder_q.layer4.2.bn3.bias', 'module.encoder_q.layer4.2.bn3.running_mean', 'module.encoder_q.layer4.2.bn3.running_var', 'module.encoder_q.layer4.2.bn3.num_batches_tracked', 'module.encoder_q.fc.weight', 'module.encoder_q.fc.bias', 'module.encoder_k.conv1.weight', 'module.encoder_k.bn1.weight', 'module.encoder_k.bn1.bias', 'module.encoder_k.bn1.running_mean', 'module.encoder_k.bn1.running_var', 'module.encoder_k.bn1.num_batches_tracked', 'module.encoder_k.layer1.0.conv1.weight', 'module.encoder_k.layer1.0.bn1.weight', 'module.encoder_k.layer1.0.bn1.bias', 'module.encoder_k.layer1.0.bn1.running_mean', 'module.encoder_k.layer1.0.bn1.running_var', 'module.encoder_k.layer1.0.bn1.num_batches_tracked', 'module.encoder_k.layer1.0.conv2.weight', 'module.encoder_k.layer1.0.bn2.weight', 'module.encoder_k.layer1.0.bn2.bias', 'module.encoder_k.layer1.0.bn2.running_mean', 'module.encoder_k.layer1.0.bn2.running_var', 'module.encoder_k.layer1.0.bn2.num_batches_tracked', 'module.encoder_k.layer1.0.conv3.weight', 'module.encoder_k.layer1.0.bn3.weight', 'module.encoder_k.layer1.0.bn3.bias', 'module.encoder_k.layer1.0.bn3.running_mean', 'module.encoder_k.layer1.0.bn3.running_var', 'module.encoder_k.layer1.0.bn3.num_batches_tracked', 'module.encoder_k.layer1.0.downsample.0.weight', 'module.encoder_k.layer1.0.downsample.1.weight', 'module.encoder_k.layer1.0.downsample.1.bias', 'module.encoder_k.layer1.0.downsample.1.running_mean', 'module.encoder_k.layer1.0.downsample.1.running_var', 'module.encoder_k.layer1.0.downsample.1.num_batches_tracked', 'module.encoder_k.layer1.1.conv1.weight', 'module.encoder_k.layer1.1.bn1.weight', 'module.encoder_k.layer1.1.bn1.bias', 'module.encoder_k.layer1.1.bn1.running_mean', 'module.encoder_k.layer1.1.bn1.running_var', 'module.encoder_k.layer1.1.bn1.num_batches_tracked', 'module.encoder_k.layer1.1.conv2.weight', 'module.encoder_k.layer1.1.bn2.weight', 'module.encoder_k.layer1.1.bn2.bias', 'module.encoder_k.layer1.1.bn2.running_mean', 'module.encoder_k.layer1.1.bn2.running_var', 'module.encoder_k.layer1.1.bn2.num_batches_tracked', 'module.encoder_k.layer1.1.conv3.weight', 'module.encoder_k.layer1.1.bn3.weight', 'module.encoder_k.layer1.1.bn3.bias', 'module.encoder_k.layer1.1.bn3.running_mean', 'module.encoder_k.layer1.1.bn3.running_var', 'module.encoder_k.layer1.1.bn3.num_batches_tracked', 'module.encoder_k.layer1.2.conv1.weight', 'module.encoder_k.layer1.2.bn1.weight', 'module.encoder_k.layer1.2.bn1.bias', 'module.encoder_k.layer1.2.bn1.running_mean', 'module.encoder_k.layer1.2.bn1.running_var', 'module.encoder_k.layer1.2.bn1.num_batches_tracked', 'module.encoder_k.layer1.2.conv2.weight', 'module.encoder_k.layer1.2.bn2.weight', 'module.encoder_k.layer1.2.bn2.bias', 'module.encoder_k.layer1.2.bn2.running_mean', 'module.encoder_k.layer1.2.bn2.running_var', 'module.encoder_k.layer1.2.bn2.num_batches_tracked', 'module.encoder_k.layer1.2.conv3.weight', 'module.encoder_k.layer1.2.bn3.weight', 'module.encoder_k.layer1.2.bn3.bias', 'module.encoder_k.layer1.2.bn3.running_mean', 'module.encoder_k.layer1.2.bn3.running_var', 'module.encoder_k.layer1.2.bn3.num_batches_tracked', 'module.encoder_k.layer2.0.conv1.weight', 'module.encoder_k.layer2.0.bn1.weight', 'module.encoder_k.layer2.0.bn1.bias', 'module.encoder_k.layer2.0.bn1.running_mean', 'module.encoder_k.layer2.0.bn1.running_var', 'module.encoder_k.layer2.0.bn1.num_batches_tracked', 'module.encoder_k.layer2.0.conv2.weight', 'module.encoder_k.layer2.0.bn2.weight', 'module.encoder_k.layer2.0.bn2.bias', 'module.encoder_k.layer2.0.bn2.running_mean', 'module.encoder_k.layer2.0.bn2.running_var', 'module.encoder_k.layer2.0.bn2.num_batches_tracked', 'module.encoder_k.layer2.0.conv3.weight', 'module.encoder_k.layer2.0.bn3.weight', 'module.encoder_k.layer2.0.bn3.bias', 'module.encoder_k.layer2.0.bn3.running_mean', 'module.encoder_k.layer2.0.bn3.running_var', 'module.encoder_k.layer2.0.bn3.num_batches_tracked', 'module.encoder_k.layer2.0.downsample.0.weight', 'module.encoder_k.layer2.0.downsample.1.weight', 'module.encoder_k.layer2.0.downsample.1.bias', 'module.encoder_k.layer2.0.downsample.1.running_mean', 'module.encoder_k.layer2.0.downsample.1.running_var', 'module.encoder_k.layer2.0.downsample.1.num_batches_tracked', 'module.encoder_k.layer2.1.conv1.weight', 'module.encoder_k.layer2.1.bn1.weight', 'module.encoder_k.layer2.1.bn1.bias', 'module.encoder_k.layer2.1.bn1.running_mean', 'module.encoder_k.layer2.1.bn1.running_var', 'module.encoder_k.layer2.1.bn1.num_batches_tracked', 'module.encoder_k.layer2.1.conv2.weight', 'module.encoder_k.layer2.1.bn2.weight', 'module.encoder_k.layer2.1.bn2.bias', 'module.encoder_k.layer2.1.bn2.running_mean', 'module.encoder_k.layer2.1.bn2.running_var', 'module.encoder_k.layer2.1.bn2.num_batches_tracked', 'module.encoder_k.layer2.1.conv3.weight', 'module.encoder_k.layer2.1.bn3.weight', 'module.encoder_k.layer2.1.bn3.bias', 'module.encoder_k.layer2.1.bn3.running_mean', 'module.encoder_k.layer2.1.bn3.running_var', 'module.encoder_k.layer2.1.bn3.num_batches_tracked', 'module.encoder_k.layer2.2.conv1.weight', 'module.encoder_k.layer2.2.bn1.weight', 'module.encoder_k.layer2.2.bn1.bias', 'module.encoder_k.layer2.2.bn1.running_mean', 'module.encoder_k.layer2.2.bn1.running_var', 'module.encoder_k.layer2.2.bn1.num_batches_tracked', 'module.encoder_k.layer2.2.conv2.weight', 'module.encoder_k.layer2.2.bn2.weight', 'module.encoder_k.layer2.2.bn2.bias', 'module.encoder_k.layer2.2.bn2.running_mean', 'module.encoder_k.layer2.2.bn2.running_var', 'module.encoder_k.layer2.2.bn2.num_batches_tracked', 'module.encoder_k.layer2.2.conv3.weight', 'module.encoder_k.layer2.2.bn3.weight', 'module.encoder_k.layer2.2.bn3.bias', 'module.encoder_k.layer2.2.bn3.running_mean', 'module.encoder_k.layer2.2.bn3.running_var', 'module.encoder_k.layer2.2.bn3.num_batches_tracked', 'module.encoder_k.layer2.3.conv1.weight', 'module.encoder_k.layer2.3.bn1.weight', 'module.encoder_k.layer2.3.bn1.bias', 'module.encoder_k.layer2.3.bn1.running_mean', 'module.encoder_k.layer2.3.bn1.running_var', 'module.encoder_k.layer2.3.bn1.num_batches_tracked', 'module.encoder_k.layer2.3.conv2.weight', 'module.encoder_k.layer2.3.bn2.weight', 'module.encoder_k.layer2.3.bn2.bias', 'module.encoder_k.layer2.3.bn2.running_mean', 'module.encoder_k.layer2.3.bn2.running_var', 'module.encoder_k.layer2.3.bn2.num_batches_tracked', 'module.encoder_k.layer2.3.conv3.weight', 'module.encoder_k.layer2.3.bn3.weight', 'module.encoder_k.layer2.3.bn3.bias', 'module.encoder_k.layer2.3.bn3.running_mean', 'module.encoder_k.layer2.3.bn3.running_var', 'module.encoder_k.layer2.3.bn3.num_batches_tracked', 'module.encoder_k.layer3.0.conv1.weight', 'module.encoder_k.layer3.0.bn1.weight', 'module.encoder_k.layer3.0.bn1.bias', 'module.encoder_k.layer3.0.bn1.running_mean', 'module.encoder_k.layer3.0.bn1.running_var', 'module.encoder_k.layer3.0.bn1.num_batches_tracked', 'module.encoder_k.layer3.0.conv2.weight', 'module.encoder_k.layer3.0.bn2.weight', 'module.encoder_k.layer3.0.bn2.bias', 'module.encoder_k.layer3.0.bn2.running_mean', 'module.encoder_k.layer3.0.bn2.running_var', 'module.encoder_k.layer3.0.bn2.num_batches_tracked', 'module.encoder_k.layer3.0.conv3.weight', 'module.encoder_k.layer3.0.bn3.weight', 'module.encoder_k.layer3.0.bn3.bias', 'module.encoder_k.layer3.0.bn3.running_mean', 'module.encoder_k.layer3.0.bn3.running_var', 'module.encoder_k.layer3.0.bn3.num_batches_tracked', 'module.encoder_k.layer3.0.downsample.0.weight', 'module.encoder_k.layer3.0.downsample.1.weight', 'module.encoder_k.layer3.0.downsample.1.bias', 'module.encoder_k.layer3.0.downsample.1.running_mean', 'module.encoder_k.layer3.0.downsample.1.running_var', 'module.encoder_k.layer3.0.downsample.1.num_batches_tracked', 'module.encoder_k.layer3.1.conv1.weight', 'module.encoder_k.layer3.1.bn1.weight', 'module.encoder_k.layer3.1.bn1.bias', 'module.encoder_k.layer3.1.bn1.running_mean', 'module.encoder_k.layer3.1.bn1.running_var', 'module.encoder_k.layer3.1.bn1.num_batches_tracked', 'module.encoder_k.layer3.1.conv2.weight', 'module.encoder_k.layer3.1.bn2.weight', 'module.encoder_k.layer3.1.bn2.bias', 'module.encoder_k.layer3.1.bn2.running_mean', 'module.encoder_k.layer3.1.bn2.running_var', 'module.encoder_k.layer3.1.bn2.num_batches_tracked', 'module.encoder_k.layer3.1.conv3.weight', 'module.encoder_k.layer3.1.bn3.weight', 'module.encoder_k.layer3.1.bn3.bias', 'module.encoder_k.layer3.1.bn3.running_mean', 'module.encoder_k.layer3.1.bn3.running_var', 'module.encoder_k.layer3.1.bn3.num_batches_tracked', 'module.encoder_k.layer3.2.conv1.weight', 'module.encoder_k.layer3.2.bn1.weight', 'module.encoder_k.layer3.2.bn1.bias', 'module.encoder_k.layer3.2.bn1.running_mean', 'module.encoder_k.layer3.2.bn1.running_var', 'module.encoder_k.layer3.2.bn1.num_batches_tracked', 'module.encoder_k.layer3.2.conv2.weight', 'module.encoder_k.layer3.2.bn2.weight', 'module.encoder_k.layer3.2.bn2.bias', 'module.encoder_k.layer3.2.bn2.running_mean', 'module.encoder_k.layer3.2.bn2.running_var', 'module.encoder_k.layer3.2.bn2.num_batches_tracked', 'module.encoder_k.layer3.2.conv3.weight', 'module.encoder_k.layer3.2.bn3.weight', 'module.encoder_k.layer3.2.bn3.bias', 'module.encoder_k.layer3.2.bn3.running_mean', 'module.encoder_k.layer3.2.bn3.running_var', 'module.encoder_k.layer3.2.bn3.num_batches_tracked', 'module.encoder_k.layer3.3.conv1.weight', 'module.encoder_k.layer3.3.bn1.weight', 'module.encoder_k.layer3.3.bn1.bias', 'module.encoder_k.layer3.3.bn1.running_mean', 'module.encoder_k.layer3.3.bn1.running_var', 'module.encoder_k.layer3.3.bn1.num_batches_tracked', 'module.encoder_k.layer3.3.conv2.weight', 'module.encoder_k.layer3.3.bn2.weight', 'module.encoder_k.layer3.3.bn2.bias', 'module.encoder_k.layer3.3.bn2.running_mean', 'module.encoder_k.layer3.3.bn2.running_var', 'module.encoder_k.layer3.3.bn2.num_batches_tracked', 'module.encoder_k.layer3.3.conv3.weight', 'module.encoder_k.layer3.3.bn3.weight', 'module.encoder_k.layer3.3.bn3.bias', 'module.encoder_k.layer3.3.bn3.running_mean', 'module.encoder_k.layer3.3.bn3.running_var', 'module.encoder_k.layer3.3.bn3.num_batches_tracked', 'module.encoder_k.layer3.4.conv1.weight', 'module.encoder_k.layer3.4.bn1.weight', 'module.encoder_k.layer3.4.bn1.bias', 'module.encoder_k.layer3.4.bn1.running_mean', 'module.encoder_k.layer3.4.bn1.running_var', 'module.encoder_k.layer3.4.bn1.num_batches_tracked', 'module.encoder_k.layer3.4.conv2.weight', 'module.encoder_k.layer3.4.bn2.weight', 'module.encoder_k.layer3.4.bn2.bias', 'module.encoder_k.layer3.4.bn2.running_mean', 'module.encoder_k.layer3.4.bn2.running_var', 'module.encoder_k.layer3.4.bn2.num_batches_tracked', 'module.encoder_k.layer3.4.conv3.weight', 'module.encoder_k.layer3.4.bn3.weight', 'module.encoder_k.layer3.4.bn3.bias', 'module.encoder_k.layer3.4.bn3.running_mean', 'module.encoder_k.layer3.4.bn3.running_var', 'module.encoder_k.layer3.4.bn3.num_batches_tracked', 'module.encoder_k.layer3.5.conv1.weight', 'module.encoder_k.layer3.5.bn1.weight', 'module.encoder_k.layer3.5.bn1.bias', 'module.encoder_k.layer3.5.bn1.running_mean', 'module.encoder_k.layer3.5.bn1.running_var', 'module.encoder_k.layer3.5.bn1.num_batches_tracked', 'module.encoder_k.layer3.5.conv2.weight', 'module.encoder_k.layer3.5.bn2.weight', 'module.encoder_k.layer3.5.bn2.bias', 'module.encoder_k.layer3.5.bn2.running_mean', 'module.encoder_k.layer3.5.bn2.running_var', 'module.encoder_k.layer3.5.bn2.num_batches_tracked', 'module.encoder_k.layer3.5.conv3.weight', 'module.encoder_k.layer3.5.bn3.weight', 'module.encoder_k.layer3.5.bn3.bias', 'module.encoder_k.layer3.5.bn3.running_mean', 'module.encoder_k.layer3.5.bn3.running_var', 'module.encoder_k.layer3.5.bn3.num_batches_tracked', 'module.encoder_k.layer4.0.conv1.weight', 'module.encoder_k.layer4.0.bn1.weight', 'module.encoder_k.layer4.0.bn1.bias', 'module.encoder_k.layer4.0.bn1.running_mean', 'module.encoder_k.layer4.0.bn1.running_var', 'module.encoder_k.layer4.0.bn1.num_batches_tracked', 'module.encoder_k.layer4.0.conv2.weight', 'module.encoder_k.layer4.0.bn2.weight', 'module.encoder_k.layer4.0.bn2.bias', 'module.encoder_k.layer4.0.bn2.running_mean', 'module.encoder_k.layer4.0.bn2.running_var', 'module.encoder_k.layer4.0.bn2.num_batches_tracked', 'module.encoder_k.layer4.0.conv3.weight', 'module.encoder_k.layer4.0.bn3.weight', 'module.encoder_k.layer4.0.bn3.bias', 'module.encoder_k.layer4.0.bn3.running_mean', 'module.encoder_k.layer4.0.bn3.running_var', 'module.encoder_k.layer4.0.bn3.num_batches_tracked', 'module.encoder_k.layer4.0.downsample.0.weight', 'module.encoder_k.layer4.0.downsample.1.weight', 'module.encoder_k.layer4.0.downsample.1.bias', 'module.encoder_k.layer4.0.downsample.1.running_mean', 'module.encoder_k.layer4.0.downsample.1.running_var', 'module.encoder_k.layer4.0.downsample.1.num_batches_tracked', 'module.encoder_k.layer4.1.conv1.weight', 'module.encoder_k.layer4.1.bn1.weight', 'module.encoder_k.layer4.1.bn1.bias', 'module.encoder_k.layer4.1.bn1.running_mean', 'module.encoder_k.layer4.1.bn1.running_var', 'module.encoder_k.layer4.1.bn1.num_batches_tracked', 'module.encoder_k.layer4.1.conv2.weight', 'module.encoder_k.layer4.1.bn2.weight', 'module.encoder_k.layer4.1.bn2.bias', 'module.encoder_k.layer4.1.bn2.running_mean', 'module.encoder_k.layer4.1.bn2.running_var', 'module.encoder_k.layer4.1.bn2.num_batches_tracked', 'module.encoder_k.layer4.1.conv3.weight', 'module.encoder_k.layer4.1.bn3.weight', 'module.encoder_k.layer4.1.bn3.bias', 'module.encoder_k.layer4.1.bn3.running_mean', 'module.encoder_k.layer4.1.bn3.running_var', 'module.encoder_k.layer4.1.bn3.num_batches_tracked', 'module.encoder_k.layer4.2.conv1.weight', 'module.encoder_k.layer4.2.bn1.weight', 'module.encoder_k.layer4.2.bn1.bias', 'module.encoder_k.layer4.2.bn1.running_mean', 'module.encoder_k.layer4.2.bn1.running_var', 'module.encoder_k.layer4.2.bn1.num_batches_tracked', 'module.encoder_k.layer4.2.conv2.weight', 'module.encoder_k.layer4.2.bn2.weight', 'module.encoder_k.layer4.2.bn2.bias', 'module.encoder_k.layer4.2.bn2.running_mean', 'module.encoder_k.layer4.2.bn2.running_var', 'module.encoder_k.layer4.2.bn2.num_batches_tracked', 'module.encoder_k.layer4.2.conv3.weight', 'module.encoder_k.layer4.2.bn3.weight', 'module.encoder_k.layer4.2.bn3.bias', 'module.encoder_k.layer4.2.bn3.running_mean', 'module.encoder_k.layer4.2.bn3.running_var', 'module.encoder_k.layer4.2.bn3.num_batches_tracked', 'module.encoder_k.fc.weight', 'module.encoder_k.fc.bias'])\n"
     ]
    }
   ],
   "source": [
    "print(checkpoint.keys())\n",
    "print(checkpoint[\"state_dict\"].keys())"
   ]
  },
  {
   "cell_type": "code",
   "execution_count": 13,
   "metadata": {},
   "outputs": [
    {
     "name": "stdout",
     "output_type": "stream",
     "text": [
      "ResNet(\n",
      "  (conv1): Conv2d(3, 64, kernel_size=(7, 7), stride=(2, 2), padding=(3, 3), bias=False)\n",
      "  (bn1): BatchNorm2d(64, eps=1e-05, momentum=0.1, affine=True, track_running_stats=True)\n",
      "  (relu): ReLU(inplace=True)\n",
      "  (maxpool): MaxPool2d(kernel_size=3, stride=2, padding=1, dilation=1, ceil_mode=False)\n",
      "  (layer1): Sequential(\n",
      "    (0): Bottleneck(\n",
      "      (conv1): Conv2d(64, 64, kernel_size=(1, 1), stride=(1, 1), bias=False)\n",
      "      (bn1): BatchNorm2d(64, eps=1e-05, momentum=0.1, affine=True, track_running_stats=True)\n",
      "      (conv2): Conv2d(64, 64, kernel_size=(3, 3), stride=(1, 1), padding=(1, 1), bias=False)\n",
      "      (bn2): BatchNorm2d(64, eps=1e-05, momentum=0.1, affine=True, track_running_stats=True)\n",
      "      (conv3): Conv2d(64, 256, kernel_size=(1, 1), stride=(1, 1), bias=False)\n",
      "      (bn3): BatchNorm2d(256, eps=1e-05, momentum=0.1, affine=True, track_running_stats=True)\n",
      "      (relu): ReLU(inplace=True)\n",
      "      (downsample): Sequential(\n",
      "        (0): Conv2d(64, 256, kernel_size=(1, 1), stride=(1, 1), bias=False)\n",
      "        (1): BatchNorm2d(256, eps=1e-05, momentum=0.1, affine=True, track_running_stats=True)\n",
      "      )\n",
      "    )\n",
      "    (1): Bottleneck(\n",
      "      (conv1): Conv2d(256, 64, kernel_size=(1, 1), stride=(1, 1), bias=False)\n",
      "      (bn1): BatchNorm2d(64, eps=1e-05, momentum=0.1, affine=True, track_running_stats=True)\n",
      "      (conv2): Conv2d(64, 64, kernel_size=(3, 3), stride=(1, 1), padding=(1, 1), bias=False)\n",
      "      (bn2): BatchNorm2d(64, eps=1e-05, momentum=0.1, affine=True, track_running_stats=True)\n",
      "      (conv3): Conv2d(64, 256, kernel_size=(1, 1), stride=(1, 1), bias=False)\n",
      "      (bn3): BatchNorm2d(256, eps=1e-05, momentum=0.1, affine=True, track_running_stats=True)\n",
      "      (relu): ReLU(inplace=True)\n",
      "    )\n",
      "    (2): Bottleneck(\n",
      "      (conv1): Conv2d(256, 64, kernel_size=(1, 1), stride=(1, 1), bias=False)\n",
      "      (bn1): BatchNorm2d(64, eps=1e-05, momentum=0.1, affine=True, track_running_stats=True)\n",
      "      (conv2): Conv2d(64, 64, kernel_size=(3, 3), stride=(1, 1), padding=(1, 1), bias=False)\n",
      "      (bn2): BatchNorm2d(64, eps=1e-05, momentum=0.1, affine=True, track_running_stats=True)\n",
      "      (conv3): Conv2d(64, 256, kernel_size=(1, 1), stride=(1, 1), bias=False)\n",
      "      (bn3): BatchNorm2d(256, eps=1e-05, momentum=0.1, affine=True, track_running_stats=True)\n",
      "      (relu): ReLU(inplace=True)\n",
      "    )\n",
      "  )\n",
      "  (layer2): Sequential(\n",
      "    (0): Bottleneck(\n",
      "      (conv1): Conv2d(256, 128, kernel_size=(1, 1), stride=(1, 1), bias=False)\n",
      "      (bn1): BatchNorm2d(128, eps=1e-05, momentum=0.1, affine=True, track_running_stats=True)\n",
      "      (conv2): Conv2d(128, 128, kernel_size=(3, 3), stride=(2, 2), padding=(1, 1), bias=False)\n",
      "      (bn2): BatchNorm2d(128, eps=1e-05, momentum=0.1, affine=True, track_running_stats=True)\n",
      "      (conv3): Conv2d(128, 512, kernel_size=(1, 1), stride=(1, 1), bias=False)\n",
      "      (bn3): BatchNorm2d(512, eps=1e-05, momentum=0.1, affine=True, track_running_stats=True)\n",
      "      (relu): ReLU(inplace=True)\n",
      "      (downsample): Sequential(\n",
      "        (0): Conv2d(256, 512, kernel_size=(1, 1), stride=(2, 2), bias=False)\n",
      "        (1): BatchNorm2d(512, eps=1e-05, momentum=0.1, affine=True, track_running_stats=True)\n",
      "      )\n",
      "    )\n",
      "    (1): Bottleneck(\n",
      "      (conv1): Conv2d(512, 128, kernel_size=(1, 1), stride=(1, 1), bias=False)\n",
      "      (bn1): BatchNorm2d(128, eps=1e-05, momentum=0.1, affine=True, track_running_stats=True)\n",
      "      (conv2): Conv2d(128, 128, kernel_size=(3, 3), stride=(1, 1), padding=(1, 1), bias=False)\n",
      "      (bn2): BatchNorm2d(128, eps=1e-05, momentum=0.1, affine=True, track_running_stats=True)\n",
      "      (conv3): Conv2d(128, 512, kernel_size=(1, 1), stride=(1, 1), bias=False)\n",
      "      (bn3): BatchNorm2d(512, eps=1e-05, momentum=0.1, affine=True, track_running_stats=True)\n",
      "      (relu): ReLU(inplace=True)\n",
      "    )\n",
      "    (2): Bottleneck(\n",
      "      (conv1): Conv2d(512, 128, kernel_size=(1, 1), stride=(1, 1), bias=False)\n",
      "      (bn1): BatchNorm2d(128, eps=1e-05, momentum=0.1, affine=True, track_running_stats=True)\n",
      "      (conv2): Conv2d(128, 128, kernel_size=(3, 3), stride=(1, 1), padding=(1, 1), bias=False)\n",
      "      (bn2): BatchNorm2d(128, eps=1e-05, momentum=0.1, affine=True, track_running_stats=True)\n",
      "      (conv3): Conv2d(128, 512, kernel_size=(1, 1), stride=(1, 1), bias=False)\n",
      "      (bn3): BatchNorm2d(512, eps=1e-05, momentum=0.1, affine=True, track_running_stats=True)\n",
      "      (relu): ReLU(inplace=True)\n",
      "    )\n",
      "    (3): Bottleneck(\n",
      "      (conv1): Conv2d(512, 128, kernel_size=(1, 1), stride=(1, 1), bias=False)\n",
      "      (bn1): BatchNorm2d(128, eps=1e-05, momentum=0.1, affine=True, track_running_stats=True)\n",
      "      (conv2): Conv2d(128, 128, kernel_size=(3, 3), stride=(1, 1), padding=(1, 1), bias=False)\n",
      "      (bn2): BatchNorm2d(128, eps=1e-05, momentum=0.1, affine=True, track_running_stats=True)\n",
      "      (conv3): Conv2d(128, 512, kernel_size=(1, 1), stride=(1, 1), bias=False)\n",
      "      (bn3): BatchNorm2d(512, eps=1e-05, momentum=0.1, affine=True, track_running_stats=True)\n",
      "      (relu): ReLU(inplace=True)\n",
      "    )\n",
      "  )\n",
      "  (layer3): Sequential(\n",
      "    (0): Bottleneck(\n",
      "      (conv1): Conv2d(512, 256, kernel_size=(1, 1), stride=(1, 1), bias=False)\n",
      "      (bn1): BatchNorm2d(256, eps=1e-05, momentum=0.1, affine=True, track_running_stats=True)\n",
      "      (conv2): Conv2d(256, 256, kernel_size=(3, 3), stride=(2, 2), padding=(1, 1), bias=False)\n",
      "      (bn2): BatchNorm2d(256, eps=1e-05, momentum=0.1, affine=True, track_running_stats=True)\n",
      "      (conv3): Conv2d(256, 1024, kernel_size=(1, 1), stride=(1, 1), bias=False)\n",
      "      (bn3): BatchNorm2d(1024, eps=1e-05, momentum=0.1, affine=True, track_running_stats=True)\n",
      "      (relu): ReLU(inplace=True)\n",
      "      (downsample): Sequential(\n",
      "        (0): Conv2d(512, 1024, kernel_size=(1, 1), stride=(2, 2), bias=False)\n",
      "        (1): BatchNorm2d(1024, eps=1e-05, momentum=0.1, affine=True, track_running_stats=True)\n",
      "      )\n",
      "    )\n",
      "    (1): Bottleneck(\n",
      "      (conv1): Conv2d(1024, 256, kernel_size=(1, 1), stride=(1, 1), bias=False)\n",
      "      (bn1): BatchNorm2d(256, eps=1e-05, momentum=0.1, affine=True, track_running_stats=True)\n",
      "      (conv2): Conv2d(256, 256, kernel_size=(3, 3), stride=(1, 1), padding=(1, 1), bias=False)\n",
      "      (bn2): BatchNorm2d(256, eps=1e-05, momentum=0.1, affine=True, track_running_stats=True)\n",
      "      (conv3): Conv2d(256, 1024, kernel_size=(1, 1), stride=(1, 1), bias=False)\n",
      "      (bn3): BatchNorm2d(1024, eps=1e-05, momentum=0.1, affine=True, track_running_stats=True)\n",
      "      (relu): ReLU(inplace=True)\n",
      "    )\n",
      "    (2): Bottleneck(\n",
      "      (conv1): Conv2d(1024, 256, kernel_size=(1, 1), stride=(1, 1), bias=False)\n",
      "      (bn1): BatchNorm2d(256, eps=1e-05, momentum=0.1, affine=True, track_running_stats=True)\n",
      "      (conv2): Conv2d(256, 256, kernel_size=(3, 3), stride=(1, 1), padding=(1, 1), bias=False)\n",
      "      (bn2): BatchNorm2d(256, eps=1e-05, momentum=0.1, affine=True, track_running_stats=True)\n",
      "      (conv3): Conv2d(256, 1024, kernel_size=(1, 1), stride=(1, 1), bias=False)\n",
      "      (bn3): BatchNorm2d(1024, eps=1e-05, momentum=0.1, affine=True, track_running_stats=True)\n",
      "      (relu): ReLU(inplace=True)\n",
      "    )\n",
      "    (3): Bottleneck(\n",
      "      (conv1): Conv2d(1024, 256, kernel_size=(1, 1), stride=(1, 1), bias=False)\n",
      "      (bn1): BatchNorm2d(256, eps=1e-05, momentum=0.1, affine=True, track_running_stats=True)\n",
      "      (conv2): Conv2d(256, 256, kernel_size=(3, 3), stride=(1, 1), padding=(1, 1), bias=False)\n",
      "      (bn2): BatchNorm2d(256, eps=1e-05, momentum=0.1, affine=True, track_running_stats=True)\n",
      "      (conv3): Conv2d(256, 1024, kernel_size=(1, 1), stride=(1, 1), bias=False)\n",
      "      (bn3): BatchNorm2d(1024, eps=1e-05, momentum=0.1, affine=True, track_running_stats=True)\n",
      "      (relu): ReLU(inplace=True)\n",
      "    )\n",
      "    (4): Bottleneck(\n",
      "      (conv1): Conv2d(1024, 256, kernel_size=(1, 1), stride=(1, 1), bias=False)\n",
      "      (bn1): BatchNorm2d(256, eps=1e-05, momentum=0.1, affine=True, track_running_stats=True)\n",
      "      (conv2): Conv2d(256, 256, kernel_size=(3, 3), stride=(1, 1), padding=(1, 1), bias=False)\n",
      "      (bn2): BatchNorm2d(256, eps=1e-05, momentum=0.1, affine=True, track_running_stats=True)\n",
      "      (conv3): Conv2d(256, 1024, kernel_size=(1, 1), stride=(1, 1), bias=False)\n",
      "      (bn3): BatchNorm2d(1024, eps=1e-05, momentum=0.1, affine=True, track_running_stats=True)\n",
      "      (relu): ReLU(inplace=True)\n",
      "    )\n",
      "    (5): Bottleneck(\n",
      "      (conv1): Conv2d(1024, 256, kernel_size=(1, 1), stride=(1, 1), bias=False)\n",
      "      (bn1): BatchNorm2d(256, eps=1e-05, momentum=0.1, affine=True, track_running_stats=True)\n",
      "      (conv2): Conv2d(256, 256, kernel_size=(3, 3), stride=(1, 1), padding=(1, 1), bias=False)\n",
      "      (bn2): BatchNorm2d(256, eps=1e-05, momentum=0.1, affine=True, track_running_stats=True)\n",
      "      (conv3): Conv2d(256, 1024, kernel_size=(1, 1), stride=(1, 1), bias=False)\n",
      "      (bn3): BatchNorm2d(1024, eps=1e-05, momentum=0.1, affine=True, track_running_stats=True)\n",
      "      (relu): ReLU(inplace=True)\n",
      "    )\n",
      "  )\n",
      "  (layer4): Sequential(\n",
      "    (0): Bottleneck(\n",
      "      (conv1): Conv2d(1024, 512, kernel_size=(1, 1), stride=(1, 1), bias=False)\n",
      "      (bn1): BatchNorm2d(512, eps=1e-05, momentum=0.1, affine=True, track_running_stats=True)\n",
      "      (conv2): Conv2d(512, 512, kernel_size=(3, 3), stride=(2, 2), padding=(1, 1), bias=False)\n",
      "      (bn2): BatchNorm2d(512, eps=1e-05, momentum=0.1, affine=True, track_running_stats=True)\n",
      "      (conv3): Conv2d(512, 2048, kernel_size=(1, 1), stride=(1, 1), bias=False)\n",
      "      (bn3): BatchNorm2d(2048, eps=1e-05, momentum=0.1, affine=True, track_running_stats=True)\n",
      "      (relu): ReLU(inplace=True)\n",
      "      (downsample): Sequential(\n",
      "        (0): Conv2d(1024, 2048, kernel_size=(1, 1), stride=(2, 2), bias=False)\n",
      "        (1): BatchNorm2d(2048, eps=1e-05, momentum=0.1, affine=True, track_running_stats=True)\n",
      "      )\n",
      "    )\n",
      "    (1): Bottleneck(\n",
      "      (conv1): Conv2d(2048, 512, kernel_size=(1, 1), stride=(1, 1), bias=False)\n",
      "      (bn1): BatchNorm2d(512, eps=1e-05, momentum=0.1, affine=True, track_running_stats=True)\n",
      "      (conv2): Conv2d(512, 512, kernel_size=(3, 3), stride=(1, 1), padding=(1, 1), bias=False)\n",
      "      (bn2): BatchNorm2d(512, eps=1e-05, momentum=0.1, affine=True, track_running_stats=True)\n",
      "      (conv3): Conv2d(512, 2048, kernel_size=(1, 1), stride=(1, 1), bias=False)\n",
      "      (bn3): BatchNorm2d(2048, eps=1e-05, momentum=0.1, affine=True, track_running_stats=True)\n",
      "      (relu): ReLU(inplace=True)\n",
      "    )\n",
      "    (2): Bottleneck(\n",
      "      (conv1): Conv2d(2048, 512, kernel_size=(1, 1), stride=(1, 1), bias=False)\n",
      "      (bn1): BatchNorm2d(512, eps=1e-05, momentum=0.1, affine=True, track_running_stats=True)\n",
      "      (conv2): Conv2d(512, 512, kernel_size=(3, 3), stride=(1, 1), padding=(1, 1), bias=False)\n",
      "      (bn2): BatchNorm2d(512, eps=1e-05, momentum=0.1, affine=True, track_running_stats=True)\n",
      "      (conv3): Conv2d(512, 2048, kernel_size=(1, 1), stride=(1, 1), bias=False)\n",
      "      (bn3): BatchNorm2d(2048, eps=1e-05, momentum=0.1, affine=True, track_running_stats=True)\n",
      "      (relu): ReLU(inplace=True)\n",
      "    )\n",
      "  )\n",
      "  (avgpool): AdaptiveAvgPool2d(output_size=(1, 1))\n",
      "  (fc): Linear(in_features=2048, out_features=128, bias=True)\n",
      ")\n"
     ]
    }
   ],
   "source": [
    "from torchvision.models.resnet import resnet50, ResNet\n",
    "model = resnet50(num_classes=128)\n",
    "print(model)"
   ]
  },
  {
   "cell_type": "code",
   "execution_count": 7,
   "metadata": {},
   "outputs": [],
   "source": [
    "def clean_state_dict(state_dict, prefix='module.'):\n",
    "    \"\"\"\n",
    "    去掉state_dict中的指定前缀。\n",
    "    \"\"\"\n",
    "    keys = sorted([key for key in state_dict if key.startswith(prefix)])\n",
    "    for key in keys:\n",
    "        state_dict[key.replace(prefix, '')] = state_dict[key]\n",
    "        del state_dict[key]\n",
    "    return state_dict"
   ]
  },
  {
   "cell_type": "code",
   "execution_count": 14,
   "metadata": {},
   "outputs": [
    {
     "data": {
      "text/plain": [
       "_IncompatibleKeys(missing_keys=[], unexpected_keys=['module.queue', 'module.queue_ptr'])"
      ]
     },
     "execution_count": 14,
     "metadata": {},
     "output_type": "execute_result"
    }
   ],
   "source": [
    "state_dict = clean_state_dict(checkpoint[\"state_dict\"],\"module.encoder_k.\")\n",
    "model.load_state_dict(state_dict, strict=False)"
   ]
  },
  {
   "cell_type": "code",
   "execution_count": 18,
   "metadata": {},
   "outputs": [
    {
     "name": "stdout",
     "output_type": "stream",
     "text": [
      "10000\n"
     ]
    }
   ],
   "source": [
    "path = os.listdir(\"/mnt/bn/data-tns-live-llm/leon/experiments/llm/face/cropped_test_imgs\")\n",
    "print(len(path))"
   ]
  },
  {
   "cell_type": "code",
   "execution_count": null,
   "metadata": {},
   "outputs": [],
   "source": []
  }
 ],
 "metadata": {
  "kernelspec": {
   "display_name": "Python 3.9.2 64-bit",
   "language": "python",
   "name": "python3"
  },
  "language_info": {
   "codemirror_mode": {
    "name": "ipython",
    "version": 3
   },
   "file_extension": ".py",
   "mimetype": "text/x-python",
   "name": "python",
   "nbconvert_exporter": "python",
   "pygments_lexer": "ipython3",
   "version": "3.9.2"
  },
  "orig_nbformat": 4,
  "vscode": {
   "interpreter": {
    "hash": "31f2aee4e71d21fbe5cf8b01ff0e069b9275f58929596ceb00d14d90e3e16cd6"
   }
  }
 },
 "nbformat": 4,
 "nbformat_minor": 2
}
