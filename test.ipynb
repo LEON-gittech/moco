{
 "cells": [
  {
   "cell_type": "code",
   "execution_count": 1,
   "metadata": {},
   "outputs": [
    {
     "data": {
      "text/plain": [
       "<torch._C.Generator at 0x7f94c050e150>"
      ]
     },
     "execution_count": 1,
     "metadata": {},
     "output_type": "execute_result"
    }
   ],
   "source": [
    "import argparse\n",
    "import builtins\n",
    "import math\n",
    "import os\n",
    "import random\n",
    "import shutil\n",
    "import time\n",
    "import warnings\n",
    "import sys\n",
    "sys.path.append(\"/opt/tiger/moco\")\n",
    "import torch\n",
    "import torch.backends.cudnn as cudnn\n",
    "import torch.distributed as dist\n",
    "import torch.multiprocessing as mp\n",
    "import torch.nn as nn\n",
    "import torch.nn.parallel\n",
    "import torch.optim\n",
    "import torch.utils.data\n",
    "import torch.utils.data.distributed\n",
    "import torchvision.datasets as datasets\n",
    "import torchvision.models as models\n",
    "import torchvision.transforms as transforms\n",
    "import multiprocessing\n",
    "torch.manual_seed(0)"
   ]
  },
  {
   "cell_type": "code",
   "execution_count": 2,
   "metadata": {},
   "outputs": [],
   "source": [
    "checkpoint = torch.load(\"/mnt/bn/data-tns-live-llm/leon/experiments/llm/face/trained_model_2m/checkpoint_0010.pth.tar\")"
   ]
  },
  {
   "cell_type": "code",
   "execution_count": 3,
   "metadata": {},
   "outputs": [
    {
     "name": "stdout",
     "output_type": "stream",
     "text": [
      "dict_keys(['epoch', 'arch', 'state_dict', 'optimizer'])\n"
     ]
    }
   ],
   "source": [
    "print(checkpoint.keys())\n",
    "# print(checkpoint[\"state_dict\"].keys())"
   ]
  },
  {
   "cell_type": "code",
   "execution_count": 3,
   "metadata": {},
   "outputs": [],
   "source": [
    "import torch.nn as nn\n",
    "import torchvision.models as models\n",
    "class ResNetSimCLR(nn.Module):\n",
    "    def __init__(self, base_model, out_dim):\n",
    "        super(ResNetSimCLR, self).__init__()\n",
    "        self.resnet_dict = {\"resnet18\": models.resnet18(pretrained=False, num_classes=out_dim),\n",
    "                            \"resnet50\": models.resnet50(pretrained=False, num_classes=out_dim)}\n",
    "\n",
    "        self.backbone = self._get_basemodel(base_model)\n",
    "        dim_mlp = self.backbone.fc.in_features\n",
    "\n",
    "        # add mlp projection head\n",
    "        self.backbone.fc = nn.Sequential(nn.Linear(dim_mlp, dim_mlp), nn.ReLU(), self.backbone.fc)\n",
    "\n",
    "    def _get_basemodel(self, model_name):\n",
    "        model = self.resnet_dict[model_name]\n",
    "        return model\n",
    "\n",
    "    def forward(self, x):\n",
    "        return self.backbone(x)\n"
   ]
  },
  {
   "cell_type": "code",
   "execution_count": 4,
   "metadata": {},
   "outputs": [
    {
     "name": "stderr",
     "output_type": "stream",
     "text": [
      "/home/tiger/miniconda3/envs/leon/lib/python3.12/site-packages/torchvision/models/_utils.py:208: UserWarning: The parameter 'pretrained' is deprecated since 0.13 and may be removed in the future, please use 'weights' instead.\n",
      "  warnings.warn(\n",
      "/home/tiger/miniconda3/envs/leon/lib/python3.12/site-packages/torchvision/models/_utils.py:223: UserWarning: Arguments other than a weight enum or `None` for 'weights' are deprecated since 0.13 and may be removed in the future. The current behavior is equivalent to passing `weights=None`.\n",
      "  warnings.warn(msg)\n"
     ]
    }
   ],
   "source": [
    "from torchvision.models.resnet import resnet50, ResNet\n",
    "from torch.nn.parallel import DataParallel\n",
    "model = ResNetSimCLR(base_model=\"resnet50\", out_dim=128).cuda()"
   ]
  },
  {
   "cell_type": "code",
   "execution_count": 5,
   "metadata": {},
   "outputs": [
    {
     "data": {
      "text/plain": [
       "<All keys matched successfully>"
      ]
     },
     "execution_count": 5,
     "metadata": {},
     "output_type": "execute_result"
    }
   ],
   "source": [
    "model.load_state_dict(checkpoint[\"state_dict\"])"
   ]
  },
  {
   "cell_type": "code",
   "execution_count": 71,
   "metadata": {},
   "outputs": [],
   "source": [
    "model = resnet50(num_classes=128)"
   ]
  },
  {
   "cell_type": "code",
   "execution_count": 5,
   "metadata": {},
   "outputs": [],
   "source": [
    "def clean_state_dict(state_dict, prefix='module.'):\n",
    "    \"\"\"\n",
    "    去掉state_dict中的指定前缀。\n",
    "    \"\"\"\n",
    "    keys = sorted([key for key in state_dict if key.startswith(prefix)])\n",
    "    for key in keys:\n",
    "        state_dict[key.replace(prefix, '')] = state_dict[key]\n",
    "        del state_dict[key]\n",
    "    return state_dict"
   ]
  },
  {
   "cell_type": "code",
   "execution_count": 6,
   "metadata": {},
   "outputs": [
    {
     "data": {
      "text/plain": [
       "<All keys matched successfully>"
      ]
     },
     "execution_count": 6,
     "metadata": {},
     "output_type": "execute_result"
    }
   ],
   "source": [
    "state_dict = clean_state_dict(checkpoint[\"state_dict\"],\"module.encoder_q.\")\n",
    "model.load_state_dict(state_dict, strict=False)"
   ]
  },
  {
   "cell_type": "code",
   "execution_count": 34,
   "metadata": {},
   "outputs": [
    {
     "name": "stdout",
     "output_type": "stream",
     "text": [
      "Using 8 GPUs\n"
     ]
    }
   ],
   "source": [
    "# 确保model能在多GPU上运行\n",
    "if torch.cuda.device_count() > 1:\n",
    "    print(\"Using\", torch.cuda.device_count(), \"GPUs\")\n",
    "    model = DataParallel(model)\n",
    "model = model.cuda()  # 将模型移到GPU上"
   ]
  },
  {
   "cell_type": "code",
   "execution_count": 12,
   "metadata": {},
   "outputs": [],
   "source": [
    "root = \"/mnt/bn/data-tns-live-llm/leon/experiments/llm/face/cropped_second_stage_imgs_2million/\"\n",
    "img_paths = os.listdir(root)"
   ]
  },
  {
   "cell_type": "code",
   "execution_count": 10,
   "metadata": {},
   "outputs": [],
   "source": [
    "import cv2 as cv\n",
    "from PIL import Image\n",
    "from torchvision.transforms import ToTensor"
   ]
  },
  {
   "cell_type": "code",
   "execution_count": 13,
   "metadata": {},
   "outputs": [],
   "source": [
    "imgs = []\n",
    "for i, path in enumerate(img_paths):\n",
    "    for object_id in os.listdir(os.path.join(root,path)):\n",
    "        for img in os.listdir(os.path.join(root,path,object_id)):\n",
    "            imgs.append(Image.open(os.path.join(root,path,object_id,img)))\n",
    "    if i==2: break"
   ]
  },
  {
   "cell_type": "markdown",
   "metadata": {},
   "source": [
    "# 构建检索数据集"
   ]
  },
  {
   "cell_type": "code",
   "execution_count": 7,
   "metadata": {},
   "outputs": [],
   "source": [
    "import os\n",
    "import random\n",
    "import glob\n",
    "from collections import defaultdict\n",
    "from PIL import Image\n",
    "import torch\n",
    "from torchvision import transforms\n",
    "from torch.nn import functional as F\n",
    "import copy\n",
    "from tqdm import tqdm\n",
    "from torch.nn.parallel import DataParallel\n",
    "from torch.utils.data import Dataset, DataLoader\n",
    "\n",
    "# 已经定义的转换器\n",
    "normalize = transforms.Normalize(\n",
    "    mean=[0.485, 0.456, 0.406], std=[0.229, 0.224, 0.225]\n",
    ")\n",
    "resize = transforms.Resize((224,224))\n",
    "transform = transforms.Compose([\n",
    "        transforms.ToTensor(),\n",
    "        resize, \n",
    "        normalize\n",
    "        ])\n",
    "\n",
    "def get_embedding(img):\n",
    "    # 确保输入也被转移到GPU上\n",
    "    img_gpu = transform(img).cuda().unsqueeze(0)\n",
    "    with torch.no_grad():  # 禁用梯度计算以节省内存\n",
    "        q = model(img_gpu)\n",
    "    q = F.normalize(q, dim=1)\n",
    "    return q.cpu()  # 将结果送回CPU以节省GPU内存\n",
    "\n",
    "class ImageDataset(Dataset):\n",
    "    def __init__(self, image_paths, transform=None):\n",
    "        self.image_paths = image_paths\n",
    "        self.transform = transform\n",
    "\n",
    "    def __len__(self):\n",
    "        return len(self.image_paths)\n",
    "\n",
    "    def __getitem__(self, idx):\n",
    "        image_path = self.image_paths[idx]\n",
    "        folder_name, img_name = image_path.split(\"/\")[-2], image_path.split(\"/\")[-1]\n",
    "        image = Image.open(image_path).convert('RGB')\n",
    "        if self.transform:\n",
    "            image = self.transform(image)\n",
    "        return image, folder_name, img_name\n",
    "\n",
    "def folder_selection(root_path):\n",
    "    \"\"\"计算符合条件的图片的嵌入，并为每个符合条件的文件夹随机选择两张图片\"\"\"\n",
    "    selected_pairs = defaultdict(list)\n",
    "    \n",
    "    for folder in os.listdir(root_path):\n",
    "        folder_path = os.path.join(root_path, folder)\n",
    "        if os.path.isdir(folder_path):\n",
    "            images = glob.glob(os.path.join(folder_path, '*.jpg'))\n",
    "            if len(images) >= 2:\n",
    "                selected_pairs[folder].extend(images[:2])\n",
    "    return selected_pairs\n",
    "\n",
    "def get_selected_embeddings_parallel(selected_pairs, dataloader, model=model, transform=transform):\n",
    "    embeddings_dict = {}\n",
    "    with torch.no_grad():\n",
    "        for images, folder_names, img_names in tqdm(dataloader):\n",
    "            images = images.cuda()\n",
    "            outputs = model(images)\n",
    "            embeddings = F.normalize(outputs, dim=1)\n",
    "            embeddings = embeddings.cpu()\n",
    "\n",
    "            for img, folder_name, img_name, emb in zip(images, folder_names, img_names, embeddings):\n",
    "                identifier = (folder_name, os.path.basename(img_name)[:-4])\n",
    "                embeddings_dict[identifier] = emb\n",
    "        torch.cuda.empty_cache()\n",
    "    return embeddings_dict\n",
    "\n",
    "def get_selected_embeddings(selected_pairs):\n",
    "    embeddings_dict = {}\n",
    "    for folder, images in tqdm(selected_pairs.items()):\n",
    "        # 从每个符合条件的文件夹中随机选择两张图片\n",
    "        img_k_path, img_v_path = random.sample(images, 2)\n",
    "        img_k = Image.open(img_k_path)\n",
    "        img_v = Image.open(img_v_path)\n",
    "        embeddings_dict[(folder, os.path.basename(img_k_path)[:-4])] = get_embedding(img_k)  # 存储img_k的嵌入\n",
    "        embeddings_dict[(folder, os.path.basename(img_v_path)[:-4])] = get_embedding(img_v)  # 存储img_v的嵌入\n",
    "        torch.cuda.empty_cache()\n",
    "    return embeddings_dict\n",
    "\n",
    "def evaluate_retrieval(embeddings_dict):\n",
    "    total_correct = 0\n",
    "    total_trials = len(embeddings_dict)  # 因为每个文件夹贡献了两次检索尝试\n",
    "    for folder, _ in tqdm(embeddings_dict):\n",
    "        query_embeddings = [emb.unsqueeze(0) for (k, emb) in embeddings_dict.items() if k[0] == folder] # 0用于做key\n",
    "        gallery_embeddings = [emb.unsqueeze(0) for (k, emb) in embeddings_dict.items() if k[0] != folder]\n",
    "        gallery_embeddings = torch.cat([query_embeddings[1], torch.cat(gallery_embeddings, dim=0)], dim=0)\n",
    "        similarities = F.cosine_similarity(query_embeddings[0], gallery_embeddings, dim=-1)\n",
    "        similarities = similarities.view(-1)  # 展平相似度矩阵以便于后续处理\n",
    "        _, sorted_indices = similarities.sort(descending=True)\n",
    "        if 0 in sorted_indices[:10]: total_correct += 1\n",
    "\n",
    "    print(total_trials)\n",
    "    print(total_correct)\n",
    "    accuracy = total_correct / total_trials if total_trials > 0 else 0\n",
    "    print(f\"检索准确率: {accuracy:.2f}\")"
   ]
  },
  {
   "cell_type": "code",
   "execution_count": 21,
   "metadata": {},
   "outputs": [],
   "source": [
    "# 主程序\n",
    "root_path = '/mnt/bn/data-tns-live-llm/leon/experiments/llm/face/cropped_test_imgs'\n",
    "selected_pairs = folder_selection(root_path)"
   ]
  },
  {
   "cell_type": "markdown",
   "metadata": {},
   "source": [
    "# 根据SimCLR训练出来的model的特性进行批量输入"
   ]
  },
  {
   "cell_type": "code",
   "execution_count": 22,
   "metadata": {},
   "outputs": [
    {
     "name": "stderr",
     "output_type": "stream",
     "text": [
      "100%|██████████| 6660/6660 [01:48<00:00, 61.59it/s] \n"
     ]
    },
    {
     "name": "stdout",
     "output_type": "stream",
     "text": [
      "torch.Size([13320, 3, 224, 224])\n"
     ]
    }
   ],
   "source": [
    "imgs = []\n",
    "from tqdm import tqdm\n",
    "for roomid in tqdm(list(selected_pairs.keys())):\n",
    "    img0 = transform(Image.open(selected_pairs[roomid][0])).unsqueeze(0)\n",
    "    img1 = transform(Image.open(selected_pairs[roomid][1])).unsqueeze(0)\n",
    "    imgs.append(img0)\n",
    "    imgs.append(img1)\n",
    "imgs = torch.cat(imgs,dim=0)\n",
    "print(imgs.shape)"
   ]
  },
  {
   "cell_type": "code",
   "execution_count": 14,
   "metadata": {},
   "outputs": [],
   "source": [
    "torch.cuda.empty_cache()"
   ]
  },
  {
   "cell_type": "code",
   "execution_count": 23,
   "metadata": {},
   "outputs": [
    {
     "name": "stdout",
     "output_type": "stream",
     "text": [
      "14\n"
     ]
    }
   ],
   "source": [
    "batch_size = 1024\n",
    "model.cuda()\n",
    "model.eval()\n",
    "embeddings=[]\n",
    "with torch.no_grad():\n",
    "    for i in range(math.ceil(imgs.shape[0]/batch_size)):\n",
    "        if i+batch_size<imgs.shape[0]:\n",
    "            tmp = imgs[i*batch_size:i*batch_size+batch_size]\n",
    "        else:\n",
    "            tmp = imgs[i*batch_size:imgs.shape[0]]\n",
    "        embeddings.append(model(tmp.cuda()).cpu())\n",
    "print(len(embeddings))"
   ]
  },
  {
   "cell_type": "code",
   "execution_count": 24,
   "metadata": {},
   "outputs": [],
   "source": [
    "embeddings = torch.cat(embeddings,dim=0)\n",
    "embeddings = F.normalize(embeddings, dim=1)"
   ]
  },
  {
   "cell_type": "code",
   "execution_count": 25,
   "metadata": {},
   "outputs": [
    {
     "name": "stdout",
     "output_type": "stream",
     "text": [
      "torch.Size([13320, 128])\n"
     ]
    }
   ],
   "source": [
    "print(embeddings.shape)"
   ]
  },
  {
   "cell_type": "code",
   "execution_count": 26,
   "metadata": {},
   "outputs": [],
   "source": [
    "similarity_matrix = torch.matmul(embeddings, embeddings.T)"
   ]
  },
  {
   "cell_type": "markdown",
   "metadata": {},
   "source": [
    "# 统计所有样本正例分数的前 5% 作为阈值"
   ]
  },
  {
   "cell_type": "code",
   "execution_count": 30,
   "metadata": {},
   "outputs": [
    {
     "name": "stdout",
     "output_type": "stream",
     "text": [
      "13320\n",
      "tensor(1.0000)\n"
     ]
    }
   ],
   "source": [
    "scores=[]\n",
    "for i in range(similarity_matrix.shape[0]):\n",
    "    if i%2==0: scores.append(similarity_matrix[i][i+1])\n",
    "    else: scores.append(similarity_matrix[i][i-1])\n",
    "scores = sorted(scores,reverse=True)\n",
    "print(len(scores))\n",
    "threshold = scores[math.ceil(len(scores)*0.005)]\n",
    "print(threshold)"
   ]
  },
  {
   "cell_type": "code",
   "execution_count": 31,
   "metadata": {},
   "outputs": [
    {
     "name": "stdout",
     "output_type": "stream",
     "text": [
      "0.014114114114114115\n"
     ]
    }
   ],
   "source": [
    "cnt = 0 \n",
    "for i in range(similarity_matrix.shape[0]):\n",
    "    if i%2==0: \n",
    "        if similarity_matrix[i][i+1]>=threshold: cnt+=1\n",
    "    else: \n",
    "        if similarity_matrix[i][i-1]>=threshold: cnt+=1\n",
    "        \n",
    "print(cnt/similarity_matrix.shape[0])"
   ]
  },
  {
   "cell_type": "markdown",
   "metadata": {},
   "source": [
    "# Moco 计算方式"
   ]
  },
  {
   "cell_type": "code",
   "execution_count": null,
   "metadata": {},
   "outputs": [],
   "source": [
    "print(selected_pairs.keys())\n",
    "print(len(list(selected_pairs.keys())))\n",
    "print(selected_pairs['7364924706707049222'])"
   ]
  },
  {
   "cell_type": "code",
   "execution_count": 35,
   "metadata": {},
   "outputs": [],
   "source": [
    "image_paths = [os.path.join(folder_path, img_name) for folder_path, images in selected_pairs.items() for img_name in images]\n",
    "dataset = ImageDataset(image_paths, transform=transform)\n",
    "dataloader = DataLoader(dataset, batch_size=32, shuffle=False, num_workers=4, pin_memory=True)"
   ]
  },
  {
   "cell_type": "code",
   "execution_count": 9,
   "metadata": {},
   "outputs": [],
   "source": [
    "import random\n",
    "# 随机选择100个键\n",
    "random_keys = random.sample(list(selected_pairs.keys()), 100)\n",
    "# 创建一个新的字典，包含随机选择的键值对\n",
    "tmp = {k: selected_pairs[k] for k in random_keys}"
   ]
  },
  {
   "cell_type": "code",
   "execution_count": null,
   "metadata": {},
   "outputs": [],
   "source": [
    "embeddings_dict = get_selected_embeddings(selected_pairs)"
   ]
  },
  {
   "cell_type": "code",
   "execution_count": 27,
   "metadata": {},
   "outputs": [],
   "source": [
    "import random\n",
    "# 随机选择100个键\n",
    "random_keys = random.sample(list(embeddings_dict.keys()), 100)\n",
    "# 创建一个新的字典，包含随机选择的键值对\n",
    "tmp = {k: embeddings_dict[k] for k in random_keys}"
   ]
  },
  {
   "cell_type": "code",
   "execution_count": 38,
   "metadata": {},
   "outputs": [
    {
     "name": "stdout",
     "output_type": "stream",
     "text": [
      "torch.Size([138, 128])\n"
     ]
    }
   ],
   "source": [
    "gallery_embeddings = torch.cat([emb for (k, emb) in embeddings_dict.items()]).cuda()\n",
    "print(gallery_embeddings.shape)\n",
    "similarity_matrix = torch.matmul(gallery_embeddings, gallery_embeddings.T).cpu()"
   ]
  },
  {
   "cell_type": "markdown",
   "metadata": {},
   "source": [
    "# 计算交叉检索准确率"
   ]
  },
  {
   "cell_type": "code",
   "execution_count": 86,
   "metadata": {},
   "outputs": [
    {
     "name": "stdout",
     "output_type": "stream",
     "text": [
      "Top-5 相同人脸的比例: 0.80\n"
     ]
    }
   ],
   "source": [
    "import torch\n",
    "# 初始化一个计数器，用于记录top-5的比例\n",
    "top5_same_person_count = 0\n",
    "\n",
    "# 遍历每一行（每个向量）\n",
    "for i in range(similarity_matrix.size(0)):\n",
    "    if i%2!=0: continue\n",
    "    # 获取当前向量与其他向量的相似度以及对应的索引\n",
    "    _, sorted_indices = torch.sort(similarity_matrix[i], descending=True)\n",
    "    same_person_index = (i + 1)\n",
    "    \n",
    "    # 如果相同人的另一张脸的索引在top-5中，则增加计数器\n",
    "    if same_person_index in sorted_indices[:10]:\n",
    "        top5_same_person_count += 1\n",
    "\n",
    "# 计算比例\n",
    "total_count = similarity_matrix.size(0)/2  # 总的向量数量\n",
    "proportion = top5_same_person_count / total_count\n",
    "\n",
    "print(f\"Top-5 相同人脸的比例: {proportion:.2f}\")"
   ]
  },
  {
   "cell_type": "code",
   "execution_count": 88,
   "metadata": {},
   "outputs": [
    {
     "name": "stdout",
     "output_type": "stream",
     "text": [
      "(50, 50)\n"
     ]
    }
   ],
   "source": [
    "tmp = similarity_matrix[1000:1050,1000:1050].detach().numpy()\n",
    "print(tmp.shape)"
   ]
  },
  {
   "cell_type": "code",
   "execution_count": 89,
   "metadata": {},
   "outputs": [
    {
     "data": {
      "application/vnd.plotly.v1+json": {
       "config": {
        "plotlyServerURL": "https://plot.ly"
       },
       "data": [
        {
         "coloraxis": "coloraxis",
         "hovertemplate": "x: %{x}<br>y: %{y}<br>color: %{z}<extra></extra>",
         "name": "0",
         "type": "heatmap",
         "xaxis": "x",
         "yaxis": "y",
         "z": [
          [
           1.0000001192092896,
           0.8958424925804138,
           0.42009738087654114,
           0.40898099541664124,
           0.41251736879348755,
           0.3539689779281616,
           0.5843408107757568,
           0.4851323068141937,
           0.3510596454143524,
           0.3510596454143524,
           0.3495118021965027,
           0.37234681844711304,
           0.3553851842880249,
           0.5539954304695129,
           0.23234699666500092,
           0.2631054222583771,
           0.41371259093284607,
           0.317912220954895,
           0.20619139075279236,
           0.15191711485385895,
           0.2085883766412735,
           0.17151373624801636,
           0.37128522992134094,
           0.4376664161682129,
           0.168466255068779,
           0.168466255068779,
           -0.0025339110288769007,
           0.04925321042537689,
           0.3410680294036865,
           0.34644684195518494,
           0.4625677466392517,
           0.4625677466392517,
           0.5786383748054504,
           0.6162403225898743,
           0.43000733852386475,
           0.43000733852386475,
           0.5685576796531677,
           0.5968539118766785,
           0.2536328136920929,
           0.25844016671180725,
           0.38112542033195496,
           0.2776722311973572,
           0.4336202144622803,
           0.46358343958854675,
           0.5143438577651978,
           0.44708698987960815,
           0.5250225067138672,
           0.6259687542915344,
           0.20922397077083588,
           0.1941913664340973
          ],
          [
           0.8958424925804138,
           1,
           0.2687247395515442,
           0.2548535168170929,
           0.3984040915966034,
           0.3349601924419403,
           0.5958304405212402,
           0.538184404373169,
           0.2766250669956207,
           0.2766250669956207,
           0.34591445326805115,
           0.37413549423217773,
           0.3323964774608612,
           0.5078399181365967,
           0.20874416828155518,
           0.26326385140419006,
           0.5392419695854187,
           0.3900819420814514,
           0.14818866550922394,
           0.13061894476413727,
           0.1558612585067749,
           0.12639795243740082,
           0.3721260726451874,
           0.4924698770046234,
           0.08464671671390533,
           0.08464671671390533,
           -0.033340130001306534,
           -0.01646238937973976,
           0.22433336079120636,
           0.22357994318008423,
           0.5170205235481262,
           0.5170205235481262,
           0.626879870891571,
           0.6388711929321289,
           0.3742016553878784,
           0.3742016553878784,
           0.612290620803833,
           0.6503558158874512,
           0.33185875415802,
           0.3463866710662842,
           0.4032788872718811,
           0.3124147057533264,
           0.367444783449173,
           0.3910733163356781,
           0.6541377305984497,
           0.599881112575531,
           0.578681468963623,
           0.666703999042511,
           0.11522538214921951,
           0.11046092957258224
          ],
          [
           0.42009738087654114,
           0.2687247395515442,
           1,
           0.9896863698959351,
           0.31280773878097534,
           0.23155605792999268,
           0.4219386577606201,
           0.290841281414032,
           0.1628645956516266,
           0.1628645956516266,
           0.4879551827907562,
           0.48267674446105957,
           0.1850481778383255,
           0.41013094782829285,
           0.12310638278722763,
           0.2411995381116867,
           0.076444610953331,
           0.07097642868757248,
           0.26736029982566833,
           0.12692928314208984,
           0.1128765419125557,
           0.1115630492568016,
           0.5532968640327454,
           0.5114074349403381,
           -0.010389811359345913,
           -0.010389811359345913,
           -0.15160271525382996,
           -0.1688583642244339,
           0.7793688774108887,
           0.7505220770835876,
           0.43731898069381714,
           0.43731898069381714,
           0.38100361824035645,
           0.4356418550014496,
           0.6507876515388489,
           0.6507876515388489,
           0.37201836705207825,
           0.370077908039093,
           0.01536999549716711,
           0.009140191599726677,
           0.15015865862369537,
           0.22017332911491394,
           0.15566542744636536,
           0.171722874045372,
           0.11442329734563828,
           0.1285855770111084,
           0.18094025552272797,
           0.25968852639198303,
           0.2749289274215698,
           0.17514245212078094
          ],
          [
           0.40898099541664124,
           0.2548535168170929,
           0.9896863698959351,
           0.9999997615814209,
           0.3356076180934906,
           0.25302156805992126,
           0.4023835062980652,
           0.28911092877388,
           0.1593003123998642,
           0.1593003123998642,
           0.5250857472419739,
           0.5172765851020813,
           0.1836470514535904,
           0.40723228454589844,
           0.12771621346473694,
           0.24357371032238007,
           0.09884414076805115,
           0.09449770301580429,
           0.2617601752281189,
           0.11526710540056229,
           0.12870314717292786,
           0.13112445175647736,
           0.5649425387382507,
           0.5242123603820801,
           -0.0019231645856052637,
           -0.0019231645856052637,
           -0.1526324599981308,
           -0.17499153316020966,
           0.7879173159599304,
           0.7641524076461792,
           0.42525675892829895,
           0.42525675892829895,
           0.37426644563674927,
           0.4203580915927887,
           0.6603959798812866,
           0.6603959798812866,
           0.34031379222869873,
           0.32404211163520813,
           0.04755028709769249,
           0.045361947268247604,
           0.1629866659641266,
           0.2382647693157196,
           0.1654631793498993,
           0.18773484230041504,
           0.11461614072322845,
           0.13079118728637695,
           0.1440909057855606,
           0.23264086246490479,
           0.27668651938438416,
           0.17498531937599182
          ],
          [
           0.41251736879348755,
           0.3984040915966034,
           0.31280773878097534,
           0.3356076180934906,
           1,
           0.9676400423049927,
           0.249179869890213,
           0.44525542855262756,
           0.14311851561069489,
           0.14311851561069489,
           0.5769433975219727,
           0.6117393970489502,
           0.2952199876308441,
           0.3971913754940033,
           0.23338526487350464,
           0.2784847915172577,
           0.192679300904274,
           0.11117842048406601,
           0.42521655559539795,
           0.37213876843452454,
           0.48329633474349976,
           0.42788055539131165,
           0.49615877866744995,
           0.562567949295044,
           0.03412773460149765,
           0.03412773460149765,
           -0.07996441423892975,
           0.007115854416042566,
           0.20458996295928955,
           0.26261287927627563,
           0.41264718770980835,
           0.41264718770980835,
           0.31246495246887207,
           0.32943055033683777,
           0.3147570490837097,
           0.3147570490837097,
           0.2999189496040344,
           0.24060899019241333,
           0.40765616297721863,
           0.39455991983413696,
           0.20103077590465546,
           0.22806517779827118,
           0.1416195034980774,
           0.16587558388710022,
           0.2691703140735626,
           0.22118470072746277,
           0.3845520317554474,
           0.4399290680885315,
           0.1666845828294754,
           0.17505384981632233
          ],
          [
           0.3539689779281616,
           0.3349601924419403,
           0.23155605792999268,
           0.25302156805992126,
           0.9676400423049927,
           1.0000001192092896,
           0.169550359249115,
           0.3594631552696228,
           0.15350653231143951,
           0.15350653231143951,
           0.5153619647026062,
           0.5548596382141113,
           0.27678802609443665,
           0.3322530686855316,
           0.1898265928030014,
           0.23228919506072998,
           0.18778665363788605,
           0.1282983422279358,
           0.4281955361366272,
           0.401762992143631,
           0.49306413531303406,
           0.4464639723300934,
           0.44355785846710205,
           0.4794437289237976,
           0.07950925827026367,
           0.07950925827026367,
           -0.06855503469705582,
           0.01481314655393362,
           0.1450265645980835,
           0.21104615926742554,
           0.36426645517349243,
           0.36426645517349243,
           0.2553636431694031,
           0.27132266759872437,
           0.21823789179325104,
           0.21823789179325104,
           0.27645638585090637,
           0.20465844869613647,
           0.41549038887023926,
           0.4036247730255127,
           0.17326508462429047,
           0.20141048729419708,
           0.1347670555114746,
           0.1565375179052353,
           0.2698281407356262,
           0.21731121838092804,
           0.3534908592700958,
           0.42414340376853943,
           0.2121346890926361,
           0.22213557362556458
          ],
          [
           0.5843408107757568,
           0.5958304405212402,
           0.4219386577606201,
           0.4023835062980652,
           0.249179869890213,
           0.169550359249115,
           0.9999998211860657,
           0.838962733745575,
           0.15968716144561768,
           0.15968716144561768,
           0.42262130975723267,
           0.4157813489437103,
           0.39046117663383484,
           0.5916652679443359,
           0.10364221781492233,
           0.21729327738285065,
           0.09227165579795837,
           0.03827556595206261,
           0.1293707638978958,
           0.12454722076654434,
           0.13776718080043793,
           0.14600199460983276,
           0.5165423154830933,
           0.49551963806152344,
           0.05138754844665527,
           0.05138754844665527,
           -0.05310004949569702,
           -0.04469848424196243,
           0.3150891661643982,
           0.2815350294113159,
           0.44426241517066956,
           0.44426241517066956,
           0.6448286175727844,
           0.716624915599823,
           0.35866254568099976,
           0.35866254568099976,
           0.4510241448879242,
           0.4150315225124359,
           0.13643333315849304,
           0.11825412511825562,
           0.18565383553504944,
           0.18557049334049225,
           0.2289181351661682,
           0.22576633095741272,
           0.3652896285057068,
           0.334748774766922,
           0.41965213418006897,
           0.46111056208610535,
           0.3422420918941498,
           0.33805251121520996
          ],
          [
           0.4851323068141937,
           0.538184404373169,
           0.290841281414032,
           0.28911092877388,
           0.44525542855262756,
           0.3594631552696228,
           0.838962733745575,
           0.9999998211860657,
           0.06588561832904816,
           0.06588561832904816,
           0.4561023414134979,
           0.4776404798030853,
           0.4642978310585022,
           0.5496826767921448,
           0.12970444560050964,
           0.22133292257785797,
           0.10602229833602905,
           0.01955599896609783,
           0.1230052188038826,
           0.13982996344566345,
           0.16075797379016876,
           0.15349352359771729,
           0.52127605676651,
           0.5512484312057495,
           0.011545379646122456,
           0.011545379646122456,
           -0.02921614795923233,
           0.03371840715408325,
           0.24456553161144257,
           0.25318238139152527,
           0.344875305891037,
           0.344875305891037,
           0.5479679107666016,
           0.5949798226356506,
           0.37386929988861084,
           0.37386929988861084,
           0.36715075373649597,
           0.33827608823776245,
           0.27717381715774536,
           0.26285672187805176,
           0.05220329388976097,
           0.12849107384681702,
           0.1749420464038849,
           0.17087717354297638,
           0.30166250467300415,
           0.265342116355896,
           0.3647956848144531,
           0.42186081409454346,
           0.32190951704978943,
           0.3470107614994049
          ],
          [
           0.3510596454143524,
           0.2766250669956207,
           0.1628645956516266,
           0.1593003123998642,
           0.14311851561069489,
           0.15350653231143951,
           0.15968716144561768,
           0.06588561832904816,
           0.9999998807907104,
           0.9999998807907104,
           0.23911383748054504,
           0.2417229861021042,
           0.4386061131954193,
           0.4553617238998413,
           0.40470966696739197,
           0.41596028208732605,
           0.4395434856414795,
           0.40808331966400146,
           0.2959582507610321,
           0.35146018862724304,
           0.2336616814136505,
           0.24470800161361694,
           0.17088793218135834,
           0.13423290848731995,
           0.5655087232589722,
           0.5655087232589722,
           0.07732944190502167,
           0.040112510323524475,
           0.03338168188929558,
           -0.03873308748006821,
           0.16608312726020813,
           0.16608312726020813,
           0.4926683008670807,
           0.43444034457206726,
           -0.004717522766441107,
           -0.004717522766441107,
           0.18299412727355957,
           0.1465522050857544,
           0.3858959972858429,
           0.3873584270477295,
           0.3028503954410553,
           0.21024870872497559,
           0.31811851263046265,
           0.3451198637485504,
           0.2542251646518707,
           0.2849132716655731,
           0.32813751697540283,
           0.3133607804775238,
           0.12894931435585022,
           0.06503787636756897
          ],
          [
           0.3510596454143524,
           0.2766250669956207,
           0.1628645956516266,
           0.1593003123998642,
           0.14311851561069489,
           0.15350653231143951,
           0.15968716144561768,
           0.06588561832904816,
           0.9999998807907104,
           0.9999998807907104,
           0.23911383748054504,
           0.2417229861021042,
           0.4386061131954193,
           0.4553617238998413,
           0.40470966696739197,
           0.41596028208732605,
           0.4395434856414795,
           0.40808331966400146,
           0.2959582507610321,
           0.35146018862724304,
           0.2336616814136505,
           0.24470800161361694,
           0.17088793218135834,
           0.13423290848731995,
           0.5655087232589722,
           0.5655087232589722,
           0.07732944190502167,
           0.040112510323524475,
           0.03338168188929558,
           -0.03873308748006821,
           0.16608312726020813,
           0.16608312726020813,
           0.4926683008670807,
           0.43444034457206726,
           -0.004717522766441107,
           -0.004717522766441107,
           0.18299412727355957,
           0.1465522050857544,
           0.3858959972858429,
           0.3873584270477295,
           0.3028503954410553,
           0.21024870872497559,
           0.31811851263046265,
           0.3451198637485504,
           0.2542251646518707,
           0.2849132716655731,
           0.32813751697540283,
           0.3133607804775238,
           0.12894931435585022,
           0.06503787636756897
          ],
          [
           0.3495118021965027,
           0.34591445326805115,
           0.4879551827907562,
           0.5250857472419739,
           0.5769433975219727,
           0.5153619647026062,
           0.42262130975723267,
           0.4561023414134979,
           0.23911383748054504,
           0.23911383748054504,
           1.0000001192092896,
           0.9852532744407654,
           0.161299467086792,
           0.27091965079307556,
           0.15791848301887512,
           0.24946507811546326,
           0.18724261224269867,
           0.16128289699554443,
           0.3116699457168579,
           0.16495223343372345,
           0.4165526032447815,
           0.399187833070755,
           0.8084936141967773,
           0.8198947310447693,
           0.01872401311993599,
           0.01872401311993599,
           -0.07615696638822556,
           -0.09485038369894028,
           0.42096057534217834,
           0.38896238803863525,
           0.5439467430114746,
           0.5439467430114746,
           0.5199323296546936,
           0.48620346188545227,
           0.375667542219162,
           0.375667542219162,
           0.4552538990974426,
           0.31725478172302246,
           0.36340200901031494,
           0.38899293541908264,
           0.2721780836582184,
           0.4046429991722107,
           0.0586472786962986,
           0.08065351843833923,
           0.26410624384880066,
           0.2654650807380676,
           0.2826743721961975,
           0.3536185920238495,
           0.4492979347705841,
           0.3355795443058014
          ],
          [
           0.37234681844711304,
           0.37413549423217773,
           0.48267674446105957,
           0.5172765851020813,
           0.6117393970489502,
           0.5548596382141113,
           0.4157813489437103,
           0.4776404798030853,
           0.2417229861021042,
           0.2417229861021042,
           0.9852532744407654,
           1.0000001192092896,
           0.19207283854484558,
           0.27815133333206177,
           0.1839367002248764,
           0.2793665826320648,
           0.2018589973449707,
           0.17293128371238708,
           0.3087919354438782,
           0.1702318638563156,
           0.4369524419307709,
           0.42379841208457947,
           0.8435810804367065,
           0.8549078702926636,
           0.03623327612876892,
           0.03623327612876892,
           -0.07583244144916534,
           -0.08118065446615219,
           0.45330312848091125,
           0.43286529183387756,
           0.5610463619232178,
           0.5610463619232178,
           0.4975614845752716,
           0.4754408299922943,
           0.40008971095085144,
           0.40008971095085144,
           0.5006313920021057,
           0.3742017447948456,
           0.36381909251213074,
           0.3923393189907074,
           0.25963085889816284,
           0.40899473428726196,
           0.05703600123524666,
           0.07880723476409912,
           0.27709832787513733,
           0.2674902677536011,
           0.28025394678115845,
           0.3675514757633209,
           0.48483023047447205,
           0.3770645558834076
          ],
          [
           0.3553851842880249,
           0.3323964774608612,
           0.1850481778383255,
           0.1836470514535904,
           0.2952199876308441,
           0.27678802609443665,
           0.39046117663383484,
           0.4642978310585022,
           0.4386061131954193,
           0.4386061131954193,
           0.161299467086792,
           0.19207283854484558,
           1.0000001192092896,
           0.8282039761543274,
           0.41520464420318604,
           0.4526320993900299,
           0.443307101726532,
           0.3676680028438568,
           0.07003244012594223,
           0.22689032554626465,
           0.14309605956077576,
           0.17786531150341034,
           0.19556836783885956,
           0.17523756623268127,
           0.3601216971874237,
           0.3601216971874237,
           -0.05591567978262901,
           0.0031464239582419395,
           0.09706579148769379,
           0.0883152186870575,
           0.1502574235200882,
           0.1502574235200882,
           0.48207759857177734,
           0.5028730034828186,
           0.12695902585983276,
           0.12695902585983276,
           0.20797839760780334,
           0.18448910117149353,
           0.4431634843349457,
           0.41925662755966187,
           0.15746477246284485,
           0.2328859120607376,
           0.3617064654827118,
           0.34357717633247375,
           0.23494777083396912,
           0.15603087842464447,
           0.20398223400115967,
           0.24983808398246765,
           0.3291819393634796,
           0.3674415946006775
          ],
          [
           0.5539954304695129,
           0.5078399181365967,
           0.41013094782829285,
           0.40723228454589844,
           0.3971913754940033,
           0.3322530686855316,
           0.5916652679443359,
           0.5496826767921448,
           0.4553617238998413,
           0.4553617238998413,
           0.27091965079307556,
           0.27815133333206177,
           0.8282039761543274,
           1,
           0.4069049656391144,
           0.4485195577144623,
           0.388597309589386,
           0.2922697961330414,
           0.1696656048297882,
           0.2654517889022827,
           0.18037013709545135,
           0.16999050974845886,
           0.3389328718185425,
           0.3225330710411072,
           0.27171245217323303,
           0.27171245217323303,
           -0.16133171319961548,
           -0.10239759087562561,
           0.22155293822288513,
           0.18020685017108917,
           0.3319002687931061,
           0.3319002687931061,
           0.620754063129425,
           0.6677373647689819,
           0.3034661114215851,
           0.3034661114215851,
           0.26806899905204773,
           0.2568342685699463,
           0.3697385787963867,
           0.3335796594619751,
           0.23934000730514526,
           0.2283855527639389,
           0.44221416115760803,
           0.43908947706222534,
           0.2426343858242035,
           0.1734960526227951,
           0.4122101366519928,
           0.4542231559753418,
           0.22139762341976166,
           0.23665176331996918
          ],
          [
           0.23234699666500092,
           0.20874416828155518,
           0.12310638278722763,
           0.12771621346473694,
           0.23338526487350464,
           0.1898265928030014,
           0.10364221781492233,
           0.12970444560050964,
           0.40470966696739197,
           0.40470966696739197,
           0.15791848301887512,
           0.1839367002248764,
           0.41520464420318604,
           0.4069049656391144,
           1,
           0.9474737644195557,
           0.3247906267642975,
           0.26223650574684143,
           0.28094688057899475,
           0.2875557243824005,
           0.42689234018325806,
           0.40357398986816406,
           0.08395468443632126,
           0.09518636018037796,
           0.25582966208457947,
           0.25582966208457947,
           0.1532478779554367,
           0.1778174340724945,
           -0.05308385565876961,
           -0.04814687743782997,
           0.18597230315208435,
           0.18597230315208435,
           0.27629339694976807,
           0.2542789578437805,
           0.10393010079860687,
           0.10393010079860687,
           0.2636406719684601,
           0.22418496012687683,
           0.2600303292274475,
           0.28472235798835754,
           0.21284645795822144,
           0.1906019002199173,
           0.2497277408838272,
           0.27255430817604065,
           0.21837860345840454,
           0.21529211103916168,
           0.21523697674274445,
           0.29766157269477844,
           0.19312156736850739,
           0.18476799130439758
          ],
          [
           0.2631054222583771,
           0.26326385140419006,
           0.2411995381116867,
           0.24357371032238007,
           0.2784847915172577,
           0.23228919506072998,
           0.21729327738285065,
           0.22133292257785797,
           0.41596028208732605,
           0.41596028208732605,
           0.24946507811546326,
           0.2793665826320648,
           0.4526320993900299,
           0.4485195577144623,
           0.9474737644195557,
           0.9999999403953552,
           0.312936931848526,
           0.24480129778385162,
           0.29345038533210754,
           0.30676913261413574,
           0.4472505450248718,
           0.4522559344768524,
           0.17753618955612183,
           0.17209286987781525,
           0.231478750705719,
           0.231478750705719,
           0.0836624950170517,
           0.10560882836580276,
           0.07454169541597366,
           0.07679333537817001,
           0.2335352599620819,
           0.2335352599620819,
           0.34334075450897217,
           0.3283938467502594,
           0.18186087906360626,
           0.18186087906360626,
           0.3347509205341339,
           0.2706333100795746,
           0.28506794571876526,
           0.3092963397502899,
           0.22649259865283966,
           0.2517602741718292,
           0.25969693064689636,
           0.2824075222015381,
           0.25431013107299805,
           0.26081937551498413,
           0.21070674061775208,
           0.3179062604904175,
           0.2452397495508194,
           0.2168736457824707
          ],
          [
           0.41371259093284607,
           0.5392419695854187,
           0.076444610953331,
           0.09884414076805115,
           0.192679300904274,
           0.18778665363788605,
           0.09227165579795837,
           0.10602229833602905,
           0.4395434856414795,
           0.4395434856414795,
           0.18724261224269867,
           0.2018589973449707,
           0.443307101726532,
           0.388597309589386,
           0.3247906267642975,
           0.312936931848526,
           1,
           0.8943943381309509,
           -0.0033704969100654125,
           0.07128141820430756,
           0.06968816369771957,
           0.08190100640058517,
           0.16099092364311218,
           0.23077832162380219,
           0.3236852288246155,
           0.3236852288246155,
           0.17862431704998016,
           0.06715668737888336,
           -0.013458763249218464,
           0.011884109117090702,
           0.22641262412071228,
           0.22641262412071228,
           0.5477160811424255,
           0.5009601712226868,
           0.07588254660367966,
           0.07588254660367966,
           0.4349023401737213,
           0.42731860280036926,
           0.4496834874153137,
           0.4907139241695404,
           0.6012217402458191,
           0.547667920589447,
           0.40650054812431335,
           0.4180789887905121,
           0.6765637993812561,
           0.6141639947891235,
           0.45884600281715393,
           0.468833327293396,
           0.10358525812625885,
           0.11641130596399307
          ],
          [
           0.317912220954895,
           0.3900819420814514,
           0.07097642868757248,
           0.09449770301580429,
           0.11117842048406601,
           0.1282983422279358,
           0.03827556595206261,
           0.01955599896609783,
           0.40808331966400146,
           0.40808331966400146,
           0.16128289699554443,
           0.17293128371238708,
           0.3676680028438568,
           0.2922697961330414,
           0.26223650574684143,
           0.24480129778385162,
           0.8943943381309509,
           0.9999998807907104,
           -0.04713647440075874,
           0.03827787563204765,
           0.12217124551534653,
           0.1549716591835022,
           0.10031324625015259,
           0.09870143979787827,
           0.3330971598625183,
           0.3330971598625183,
           0.34715700149536133,
           0.23019061982631683,
           -0.020776821300387383,
           -0.009256047196686268,
           0.18111959099769592,
           0.18111959099769592,
           0.38894256949424744,
           0.35360586643218994,
           -0.013817907311022282,
           -0.013817907311022282,
           0.29896679520606995,
           0.31702014803886414,
           0.32023242115974426,
           0.3713531196117401,
           0.6487285494804382,
           0.5715137124061584,
           0.25087541341781616,
           0.25820183753967285,
           0.651355504989624,
           0.5948188900947571,
           0.3657967150211334,
           0.3346063792705536,
           0.11944043636322021,
           0.12089424580335617
          ],
          [
           0.20619139075279236,
           0.14818866550922394,
           0.26736029982566833,
           0.2617601752281189,
           0.42521655559539795,
           0.4281955361366272,
           0.1293707638978958,
           0.1230052188038826,
           0.2959582507610321,
           0.2959582507610321,
           0.3116699457168579,
           0.3087919354438782,
           0.07003244012594223,
           0.1696656048297882,
           0.28094688057899475,
           0.29345038533210754,
           -0.0033704969100654125,
           -0.04713647440075874,
           1,
           0.8632774353027344,
           0.5159187316894531,
           0.4355573356151581,
           0.24065011739730835,
           0.27014875411987305,
           0.08094138652086258,
           0.08094138652086258,
           -0.0037281971890479326,
           0.09404092282056808,
           0.12752029299736023,
           0.10415122658014297,
           0.20876021683216095,
           0.20876021683216095,
           0.33533918857574463,
           0.3010983467102051,
           0.23649226129055023,
           0.23649226129055023,
           0.1953650712966919,
           0.07001147419214249,
           0.2708309292793274,
           0.27281811833381653,
           0.1797172576189041,
           0.16917330026626587,
           0.02038986049592495,
           0.042896028608083725,
           0.1796218454837799,
           0.12392087280750275,
           0.3305034935474396,
           0.3502626419067383,
           0.15095369517803192,
           0.10421733558177948
          ],
          [
           0.15191711485385895,
           0.13061894476413727,
           0.12692928314208984,
           0.11526710540056229,
           0.37213876843452454,
           0.401762992143631,
           0.12454722076654434,
           0.13982996344566345,
           0.35146018862724304,
           0.35146018862724304,
           0.16495223343372345,
           0.1702318638563156,
           0.22689032554626465,
           0.2654517889022827,
           0.2875557243824005,
           0.30676913261413574,
           0.07128141820430756,
           0.03827787563204765,
           0.8632774353027344,
           0.9999998211860657,
           0.4959990382194519,
           0.4574991762638092,
           0.1701958179473877,
           0.1530713587999344,
           0.16062051057815552,
           0.16062051057815552,
           -0.026546955108642578,
           0.08195600658655167,
           0.05598621070384979,
           0.020939210429787636,
           0.21472017467021942,
           0.21472017467021942,
           0.2819797396659851,
           0.2786889374256134,
           0.14577177166938782,
           0.14577177166938782,
           0.16587290167808533,
           0.06016954779624939,
           0.3044828772544861,
           0.2937726378440857,
           0.16300217807292938,
           0.11766473203897476,
           0.053073007613420486,
           0.06637224555015564,
           0.14081528782844543,
           0.0496956892311573,
           0.36084994673728943,
           0.34470218420028687,
           0.11155965179204941,
           0.0967024490237236
          ],
          [
           0.2085883766412735,
           0.1558612585067749,
           0.1128765419125557,
           0.12870314717292786,
           0.48329633474349976,
           0.49306413531303406,
           0.13776718080043793,
           0.16075797379016876,
           0.2336616814136505,
           0.2336616814136505,
           0.4165526032447815,
           0.4369524419307709,
           0.14309605956077576,
           0.18037013709545135,
           0.42689234018325806,
           0.4472505450248718,
           0.06968816369771957,
           0.12217124551534653,
           0.5159187316894531,
           0.4959990382194519,
           1,
           0.9753852486610413,
           0.3028055727481842,
           0.2757937014102936,
           0.03697756305336952,
           0.03697756305336952,
           0.06387186795473099,
           0.14972205460071564,
           0.05489759519696236,
           0.019976822659373283,
           0.39945176243782043,
           0.39945176243782043,
           0.2165747731924057,
           0.21900640428066254,
           0.08544797450304031,
           0.08544797450304031,
           0.21778525412082672,
           0.12141027301549911,
           0.22934746742248535,
           0.2547810673713684,
           0.32333821058273315,
           0.2955012619495392,
           -0.030300723388791084,
           -0.009664171375334263,
           0.18291719257831573,
           0.09433544427156448,
           0.14289280772209167,
           0.15558713674545288,
           0.2599237561225891,
           0.21104128658771515
          ],
          [
           0.17151373624801636,
           0.12639795243740082,
           0.1115630492568016,
           0.13112445175647736,
           0.42788055539131165,
           0.4464639723300934,
           0.14600199460983276,
           0.15349352359771729,
           0.24470800161361694,
           0.24470800161361694,
           0.399187833070755,
           0.42379841208457947,
           0.17786531150341034,
           0.16999050974845886,
           0.40357398986816406,
           0.4522559344768524,
           0.08190100640058517,
           0.1549716591835022,
           0.4355573356151581,
           0.4574991762638092,
           0.9753852486610413,
           0.9999998807907104,
           0.2956649661064148,
           0.23794177174568176,
           0.07302630692720413,
           0.07302630692720413,
           0.0543229766190052,
           0.1196720227599144,
           0.08779743313789368,
           0.04566313326358795,
           0.3791820704936981,
           0.3791820704936981,
           0.19279184937477112,
           0.20335720479488373,
           0.06881419569253922,
           0.06881419569253922,
           0.1960034966468811,
           0.09954996407032013,
           0.19286829233169556,
           0.22089721262454987,
           0.30714476108551025,
           0.28824275732040405,
           -0.02794604003429413,
           -0.01198967918753624,
           0.17129556834697723,
           0.08314241468906403,
           0.091086745262146,
           0.10561846941709518,
           0.2700232267379761,
           0.21619077026844025
          ],
          [
           0.37128522992134094,
           0.3721260726451874,
           0.5532968640327454,
           0.5649425387382507,
           0.49615877866744995,
           0.44355785846710205,
           0.5165423154830933,
           0.52127605676651,
           0.17088793218135834,
           0.17088793218135834,
           0.8084936141967773,
           0.8435810804367065,
           0.19556836783885956,
           0.3389328718185425,
           0.08395468443632126,
           0.17753618955612183,
           0.16099092364311218,
           0.10031324625015259,
           0.24065011739730835,
           0.1701958179473877,
           0.3028055727481842,
           0.2956649661064148,
           0.9999997019767761,
           0.9335094094276428,
           0.06023627147078514,
           0.06023627147078514,
           -0.09653938561677933,
           -0.11316411197185516,
           0.5926893949508667,
           0.5810956954956055,
           0.6226339340209961,
           0.6226339340209961,
           0.48428285121917725,
           0.5205702781677246,
           0.5696038603782654,
           0.5696038603782654,
           0.6440228819847107,
           0.5643409490585327,
           0.17360001802444458,
           0.18088151514530182,
           0.28806382417678833,
           0.4012313783168793,
           0.10121192038059235,
           0.11617891490459442,
           0.2601911723613739,
           0.20337045192718506,
           0.3232344388961792,
           0.393342524766922,
           0.5240195393562317,
           0.4586182236671448
          ],
          [
           0.4376664161682129,
           0.4924698770046234,
           0.5114074349403381,
           0.5242123603820801,
           0.562567949295044,
           0.4794437289237976,
           0.49551963806152344,
           0.5512484312057495,
           0.13423290848731995,
           0.13423290848731995,
           0.8198947310447693,
           0.8549078702926636,
           0.17523756623268127,
           0.3225330710411072,
           0.09518636018037796,
           0.17209286987781525,
           0.23077832162380219,
           0.09870143979787827,
           0.27014875411987305,
           0.1530713587999344,
           0.2757937014102936,
           0.23794177174568176,
           0.9335094094276428,
           1.000000238418579,
           0.029731594026088715,
           0.029731594026088715,
           -0.13639047741889954,
           -0.1434057354927063,
           0.5267997980117798,
           0.5102585554122925,
           0.6636056303977966,
           0.6636056303977966,
           0.5394889712333679,
           0.554405927658081,
           0.6118837594985962,
           0.6118837594985962,
           0.6525932550430298,
           0.6061035394668579,
           0.28100961446762085,
           0.2931414544582367,
           0.286086767911911,
           0.3697366416454315,
           0.14386436343193054,
           0.1604718416929245,
           0.3436765968799591,
           0.2801401615142822,
           0.3663550317287445,
           0.4365791976451874,
           0.39989155530929565,
           0.3441983163356781
          ],
          [
           0.168466255068779,
           0.08464671671390533,
           -0.010389811359345913,
           -0.0019231645856052637,
           0.03412773460149765,
           0.07950925827026367,
           0.05138754844665527,
           0.011545379646122456,
           0.5655087232589722,
           0.5655087232589722,
           0.01872401311993599,
           0.03623327612876892,
           0.3601216971874237,
           0.27171245217323303,
           0.25582966208457947,
           0.231478750705719,
           0.3236852288246155,
           0.3330971598625183,
           0.08094138652086258,
           0.16062051057815552,
           0.03697756305336952,
           0.07302630692720413,
           0.06023627147078514,
           0.029731594026088715,
           0.9999998807907104,
           0.9999998807907104,
           0.2866227924823761,
           0.20296934247016907,
           0.02761002443730831,
           0.004562116228044033,
           0.05623942241072655,
           0.05623942241072655,
           0.2077379822731018,
           0.21779346466064453,
           0.02240034006536007,
           0.02240034006536007,
           0.09837754815816879,
           0.11504411697387695,
           0.10090837627649307,
           0.12368811666965485,
           0.276576429605484,
           0.13302099704742432,
           0.36518874764442444,
           0.33941367268562317,
           0.2829524874687195,
           0.282990425825119,
           0.2403153032064438,
           0.24784275889396667,
           0.17434363067150116,
           0.20939718186855316
          ],
          [
           0.168466255068779,
           0.08464671671390533,
           -0.010389811359345913,
           -0.0019231645856052637,
           0.03412773460149765,
           0.07950925827026367,
           0.05138754844665527,
           0.011545379646122456,
           0.5655087232589722,
           0.5655087232589722,
           0.01872401311993599,
           0.03623327612876892,
           0.3601216971874237,
           0.27171245217323303,
           0.25582966208457947,
           0.231478750705719,
           0.3236852288246155,
           0.3330971598625183,
           0.08094138652086258,
           0.16062051057815552,
           0.03697756305336952,
           0.07302630692720413,
           0.06023627147078514,
           0.029731594026088715,
           0.9999998807907104,
           0.9999998807907104,
           0.2866227924823761,
           0.20296934247016907,
           0.02761002443730831,
           0.004562116228044033,
           0.05623942241072655,
           0.05623942241072655,
           0.2077379822731018,
           0.21779346466064453,
           0.02240034006536007,
           0.02240034006536007,
           0.09837754815816879,
           0.11504411697387695,
           0.10090837627649307,
           0.12368811666965485,
           0.276576429605484,
           0.13302099704742432,
           0.36518874764442444,
           0.33941367268562317,
           0.2829524874687195,
           0.282990425825119,
           0.2403153032064438,
           0.24784275889396667,
           0.17434363067150116,
           0.20939718186855316
          ],
          [
           -0.0025339110288769007,
           -0.033340130001306534,
           -0.15160271525382996,
           -0.1526324599981308,
           -0.07996441423892975,
           -0.06855503469705582,
           -0.05310004949569702,
           -0.02921614795923233,
           0.07732944190502167,
           0.07732944190502167,
           -0.07615696638822556,
           -0.07583244144916534,
           -0.05591567978262901,
           -0.16133171319961548,
           0.1532478779554367,
           0.0836624950170517,
           0.17862431704998016,
           0.34715700149536133,
           -0.0037281971890479326,
           -0.026546955108642578,
           0.06387186795473099,
           0.0543229766190052,
           -0.09653938561677933,
           -0.13639047741889954,
           0.2866227924823761,
           0.2866227924823761,
           0.9999998807907104,
           0.9270192384719849,
           -0.18329975008964539,
           -0.18035423755645752,
           -0.06830379366874695,
           -0.06830379366874695,
           -0.038548726588487625,
           -0.04878777638077736,
           -0.11769673973321915,
           -0.11769673973321915,
           0.027450023218989372,
           0.045367904007434845,
           -0.08849203586578369,
           -0.05637975037097931,
           0.31328538060188293,
           0.17356562614440918,
           -0.11045405268669128,
           -0.1094944030046463,
           0.40677300095558167,
           0.4284839332103729,
           0.10343290120363235,
           0.021707383915781975,
           0.13703623414039612,
           0.12537871301174164
          ],
          [
           0.04925321042537689,
           -0.01646238937973976,
           -0.1688583642244339,
           -0.17499153316020966,
           0.007115854416042566,
           0.01481314655393362,
           -0.04469848424196243,
           0.03371840715408325,
           0.040112510323524475,
           0.040112510323524475,
           -0.09485038369894028,
           -0.08118065446615219,
           0.0031464239582419395,
           -0.10239759087562561,
           0.1778174340724945,
           0.10560882836580276,
           0.06715668737888336,
           0.23019061982631683,
           0.09404092282056808,
           0.08195600658655167,
           0.14972205460071564,
           0.1196720227599144,
           -0.11316411197185516,
           -0.1434057354927063,
           0.20296934247016907,
           0.20296934247016907,
           0.9270192384719849,
           1.0000001192092896,
           -0.21954575181007385,
           -0.19606436789035797,
           -0.0606042742729187,
           -0.0606042742729187,
           -0.10339560359716415,
           -0.110764279961586,
           -0.1062372550368309,
           -0.1062372550368309,
           -0.008699275553226471,
           0.003089228877797723,
           -0.05997054651379585,
           -0.03715740516781807,
           0.2656169533729553,
           0.14145101606845856,
           -0.08729956299066544,
           -0.08853428065776825,
           0.33052170276641846,
           0.31210145354270935,
           0.10585050284862518,
           0.04762705788016319,
           0.15001201629638672,
           0.14873604476451874
          ],
          [
           0.3410680294036865,
           0.22433336079120636,
           0.7793688774108887,
           0.7879173159599304,
           0.20458996295928955,
           0.1450265645980835,
           0.3150891661643982,
           0.24456553161144257,
           0.03338168188929558,
           0.03338168188929558,
           0.42096057534217834,
           0.45330312848091125,
           0.09706579148769379,
           0.22155293822288513,
           -0.05308385565876961,
           0.07454169541597366,
           -0.013458763249218464,
           -0.020776821300387383,
           0.12752029299736023,
           0.05598621070384979,
           0.05489759519696236,
           0.08779743313789368,
           0.5926893949508667,
           0.5267997980117798,
           0.02761002443730831,
           0.02761002443730831,
           -0.18329975008964539,
           -0.21954575181007385,
           0.9999998211860657,
           0.9541691541671753,
           0.41783806681632996,
           0.41783806681632996,
           0.21587397158145905,
           0.2789127826690674,
           0.6783232688903809,
           0.6783232688903809,
           0.39646849036216736,
           0.39273762702941895,
           -0.10565423965454102,
           -0.10230752825737,
           0.11796839535236359,
           0.25508883595466614,
           0.11455801874399185,
           0.12568743526935577,
           0.05728663131594658,
           0.009934136644005775,
           0.07452072203159332,
           0.15309131145477295,
           0.4187299907207489,
           0.3370205760002136
          ],
          [
           0.34644684195518494,
           0.22357994318008423,
           0.7505220770835876,
           0.7641524076461792,
           0.26261287927627563,
           0.21104615926742554,
           0.2815350294113159,
           0.25318238139152527,
           -0.03873308748006821,
           -0.03873308748006821,
           0.38896238803863525,
           0.43286529183387756,
           0.0883152186870575,
           0.18020685017108917,
           -0.04814687743782997,
           0.07679333537817001,
           0.011884109117090702,
           -0.009256047196686268,
           0.10415122658014297,
           0.020939210429787636,
           0.019976822659373283,
           0.04566313326358795,
           0.5810956954956055,
           0.5102585554122925,
           0.004562116228044033,
           0.004562116228044033,
           -0.18035423755645752,
           -0.19606436789035797,
           0.9541691541671753,
           1,
           0.3555113673210144,
           0.3555113673210144,
           0.14932318031787872,
           0.23806272447109222,
           0.6841291189193726,
           0.6841291189193726,
           0.42550361156463623,
           0.4057610034942627,
           -0.10985187441110611,
           -0.10141927003860474,
           0.0986228957772255,
           0.29313892126083374,
           0.13554000854492188,
           0.14612217247486115,
           0.061590775847435,
           0.033456914126873016,
           0.05567508190870285,
           0.17755188047885895,
           0.39889034628868103,
           0.3536286950111389
          ],
          [
           0.4625677466392517,
           0.5170205235481262,
           0.43731898069381714,
           0.42525675892829895,
           0.41264718770980835,
           0.36426645517349243,
           0.44426241517066956,
           0.344875305891037,
           0.16608312726020813,
           0.16608312726020813,
           0.5439467430114746,
           0.5610463619232178,
           0.1502574235200882,
           0.3319002687931061,
           0.18597230315208435,
           0.2335352599620819,
           0.22641262412071228,
           0.18111959099769592,
           0.20876021683216095,
           0.21472017467021942,
           0.39945176243782043,
           0.3791820704936981,
           0.6226339340209961,
           0.6636056303977966,
           0.05623942241072655,
           0.05623942241072655,
           -0.06830379366874695,
           -0.0606042742729187,
           0.41783806681632996,
           0.3555113673210144,
           0.9999997019767761,
           0.9999997019767761,
           0.4540090560913086,
           0.4558528661727905,
           0.44614073634147644,
           0.44614073634147644,
           0.5775545835494995,
           0.6053360104560852,
           0.24222418665885925,
           0.2572183310985565,
           0.3580799102783203,
           0.24320557713508606,
           0.1560613363981247,
           0.1699417531490326,
           0.438422292470932,
           0.3718591034412384,
           0.4488617479801178,
           0.47590380907058716,
           0.30191442370414734,
           0.2266448438167572
          ],
          [
           0.4625677466392517,
           0.5170205235481262,
           0.43731898069381714,
           0.42525675892829895,
           0.41264718770980835,
           0.36426645517349243,
           0.44426241517066956,
           0.344875305891037,
           0.16608312726020813,
           0.16608312726020813,
           0.5439467430114746,
           0.5610463619232178,
           0.1502574235200882,
           0.3319002687931061,
           0.18597230315208435,
           0.2335352599620819,
           0.22641262412071228,
           0.18111959099769592,
           0.20876021683216095,
           0.21472017467021942,
           0.39945176243782043,
           0.3791820704936981,
           0.6226339340209961,
           0.6636056303977966,
           0.05623942241072655,
           0.05623942241072655,
           -0.06830379366874695,
           -0.0606042742729187,
           0.41783806681632996,
           0.3555113673210144,
           0.9999997019767761,
           0.9999997019767761,
           0.4540090560913086,
           0.4558528661727905,
           0.44614073634147644,
           0.44614073634147644,
           0.5775545835494995,
           0.6053360104560852,
           0.24222418665885925,
           0.2572183310985565,
           0.3580799102783203,
           0.24320557713508606,
           0.1560613363981247,
           0.1699417531490326,
           0.438422292470932,
           0.3718591034412384,
           0.4488617479801178,
           0.47590380907058716,
           0.30191442370414734,
           0.2266448438167572
          ],
          [
           0.5786383748054504,
           0.626879870891571,
           0.38100361824035645,
           0.37426644563674927,
           0.31246495246887207,
           0.2553636431694031,
           0.6448286175727844,
           0.5479679107666016,
           0.4926683008670807,
           0.4926683008670807,
           0.5199323296546936,
           0.4975614845752716,
           0.48207759857177734,
           0.620754063129425,
           0.27629339694976807,
           0.34334075450897217,
           0.5477160811424255,
           0.38894256949424744,
           0.33533918857574463,
           0.2819797396659851,
           0.2165747731924057,
           0.19279184937477112,
           0.48428285121917725,
           0.5394889712333679,
           0.2077379822731018,
           0.2077379822731018,
           -0.038548726588487625,
           -0.10339560359716415,
           0.21587397158145905,
           0.14932318031787872,
           0.4540090560913086,
           0.4540090560913086,
           1.000000238418579,
           0.9384440779685974,
           0.31538811326026917,
           0.31538811326026917,
           0.5243327617645264,
           0.4453255534172058,
           0.5389660000801086,
           0.5462534427642822,
           0.3958134651184082,
           0.3362422585487366,
           0.379526823759079,
           0.3998721241950989,
           0.4891153872013092,
           0.4585704803466797,
           0.580249547958374,
           0.5872991681098938,
           0.3064931035041809,
           0.26458537578582764
          ],
          [
           0.6162403225898743,
           0.6388711929321289,
           0.4356418550014496,
           0.4203580915927887,
           0.32943055033683777,
           0.27132266759872437,
           0.716624915599823,
           0.5949798226356506,
           0.43444034457206726,
           0.43444034457206726,
           0.48620346188545227,
           0.4754408299922943,
           0.5028730034828186,
           0.6677373647689819,
           0.2542789578437805,
           0.3283938467502594,
           0.5009601712226868,
           0.35360586643218994,
           0.3010983467102051,
           0.2786889374256134,
           0.21900640428066254,
           0.20335720479488373,
           0.5205702781677246,
           0.554405927658081,
           0.21779346466064453,
           0.21779346466064453,
           -0.04878777638077736,
           -0.110764279961586,
           0.2789127826690674,
           0.23806272447109222,
           0.4558528661727905,
           0.4558528661727905,
           0.9384440779685974,
           1.0000001192092896,
           0.38128799200057983,
           0.38128799200057983,
           0.5876922011375427,
           0.4956415295600891,
           0.3942277431488037,
           0.4036705791950226,
           0.3717203438282013,
           0.37561169266700745,
           0.33222126960754395,
           0.3415687084197998,
           0.45958495140075684,
           0.40047192573547363,
           0.5604766011238098,
           0.5917348265647888,
           0.3489995300769806,
           0.3302653729915619
          ],
          [
           0.43000733852386475,
           0.3742016553878784,
           0.6507876515388489,
           0.6603959798812866,
           0.3147570490837097,
           0.21823789179325104,
           0.35866254568099976,
           0.37386929988861084,
           -0.004717522766441107,
           -0.004717522766441107,
           0.375667542219162,
           0.40008971095085144,
           0.12695902585983276,
           0.3034661114215851,
           0.10393010079860687,
           0.18186087906360626,
           0.07588254660367966,
           -0.013817907311022282,
           0.23649226129055023,
           0.14577177166938782,
           0.08544797450304031,
           0.06881419569253922,
           0.5696038603782654,
           0.6118837594985962,
           0.02240034006536007,
           0.02240034006536007,
           -0.11769673973321915,
           -0.1062372550368309,
           0.6783232688903809,
           0.6841291189193726,
           0.44614073634147644,
           0.44614073634147644,
           0.31538811326026917,
           0.38128799200057983,
           1,
           1,
           0.39189329743385315,
           0.43337175250053406,
           0.10199909657239914,
           0.10058560222387314,
           0.13291916251182556,
           0.167940154671669,
           0.26926061511039734,
           0.28703075647354126,
           0.12174505740404129,
           0.07263222336769104,
           0.13422039151191711,
           0.24891754984855652,
           0.11847176402807236,
           0.09115095436573029
          ],
          [
           0.43000733852386475,
           0.3742016553878784,
           0.6507876515388489,
           0.6603959798812866,
           0.3147570490837097,
           0.21823789179325104,
           0.35866254568099976,
           0.37386929988861084,
           -0.004717522766441107,
           -0.004717522766441107,
           0.375667542219162,
           0.40008971095085144,
           0.12695902585983276,
           0.3034661114215851,
           0.10393010079860687,
           0.18186087906360626,
           0.07588254660367966,
           -0.013817907311022282,
           0.23649226129055023,
           0.14577177166938782,
           0.08544797450304031,
           0.06881419569253922,
           0.5696038603782654,
           0.6118837594985962,
           0.02240034006536007,
           0.02240034006536007,
           -0.11769673973321915,
           -0.1062372550368309,
           0.6783232688903809,
           0.6841291189193726,
           0.44614073634147644,
           0.44614073634147644,
           0.31538811326026917,
           0.38128799200057983,
           1,
           1,
           0.39189329743385315,
           0.43337175250053406,
           0.10199909657239914,
           0.10058560222387314,
           0.13291916251182556,
           0.167940154671669,
           0.26926061511039734,
           0.28703075647354126,
           0.12174505740404129,
           0.07263222336769104,
           0.13422039151191711,
           0.24891754984855652,
           0.11847176402807236,
           0.09115095436573029
          ],
          [
           0.5685576796531677,
           0.612290620803833,
           0.37201836705207825,
           0.34031379222869873,
           0.2999189496040344,
           0.27645638585090637,
           0.4510241448879242,
           0.36715075373649597,
           0.18299412727355957,
           0.18299412727355957,
           0.4552538990974426,
           0.5006313920021057,
           0.20797839760780334,
           0.26806899905204773,
           0.2636406719684601,
           0.3347509205341339,
           0.4349023401737213,
           0.29896679520606995,
           0.1953650712966919,
           0.16587290167808533,
           0.21778525412082672,
           0.1960034966468811,
           0.6440228819847107,
           0.6525932550430298,
           0.09837754815816879,
           0.09837754815816879,
           0.027450023218989372,
           -0.008699275553226471,
           0.39646849036216736,
           0.42550361156463623,
           0.5775545835494995,
           0.5775545835494995,
           0.5243327617645264,
           0.5876922011375427,
           0.39189329743385315,
           0.39189329743385315,
           0.9999997615814209,
           0.9155299067497253,
           0.12469383329153061,
           0.13961784541606903,
           0.44566604495048523,
           0.5500600934028625,
           0.23703444004058838,
           0.2407393902540207,
           0.5567038059234619,
           0.43354687094688416,
           0.4890386760234833,
           0.5908295512199402,
           0.4863046705722809,
           0.45145726203918457
          ],
          [
           0.5968539118766785,
           0.6503558158874512,
           0.370077908039093,
           0.32404211163520813,
           0.24060899019241333,
           0.20465844869613647,
           0.4150315225124359,
           0.33827608823776245,
           0.1465522050857544,
           0.1465522050857544,
           0.31725478172302246,
           0.3742017447948456,
           0.18448910117149353,
           0.2568342685699463,
           0.22418496012687683,
           0.2706333100795746,
           0.42731860280036926,
           0.31702014803886414,
           0.07001147419214249,
           0.06016954779624939,
           0.12141027301549911,
           0.09954996407032013,
           0.5643409490585327,
           0.6061035394668579,
           0.11504411697387695,
           0.11504411697387695,
           0.045367904007434845,
           0.003089228877797723,
           0.39273762702941895,
           0.4057610034942627,
           0.6053360104560852,
           0.6053360104560852,
           0.4453255534172058,
           0.4956415295600891,
           0.43337175250053406,
           0.43337175250053406,
           0.9155299067497253,
           1.000000238418579,
           0.0495385117828846,
           0.05633512884378433,
           0.418925017118454,
           0.40315285325050354,
           0.24205641448497772,
           0.23517416417598724,
           0.5737130641937256,
           0.46934425830841064,
           0.4225234091281891,
           0.5041689276695251,
           0.3660643696784973,
           0.34008675813674927
          ],
          [
           0.2536328136920929,
           0.33185875415802,
           0.01536999549716711,
           0.04755028709769249,
           0.40765616297721863,
           0.41549038887023926,
           0.13643333315849304,
           0.27717381715774536,
           0.3858959972858429,
           0.3858959972858429,
           0.36340200901031494,
           0.36381909251213074,
           0.4431634843349457,
           0.3697385787963867,
           0.2600303292274475,
           0.28506794571876526,
           0.4496834874153137,
           0.32023242115974426,
           0.2708309292793274,
           0.3044828772544861,
           0.22934746742248535,
           0.19286829233169556,
           0.17360001802444458,
           0.28100961446762085,
           0.10090837627649307,
           0.10090837627649307,
           -0.08849203586578369,
           -0.05997054651379585,
           -0.10565423965454102,
           -0.10985187441110611,
           0.24222418665885925,
           0.24222418665885925,
           0.5389660000801086,
           0.3942277431488037,
           0.10199909657239914,
           0.10199909657239914,
           0.12469383329153061,
           0.0495385117828846,
           0.9999999403953552,
           0.9892743825912476,
           0.061041735112667084,
           0.03421073406934738,
           0.14557874202728271,
           0.19432099163532257,
           0.2365543693304062,
           0.23937971889972687,
           0.2957373857498169,
           0.3347459137439728,
           0.06401477754116058,
           0.023781783878803253
          ],
          [
           0.25844016671180725,
           0.3463866710662842,
           0.009140191599726677,
           0.045361947268247604,
           0.39455991983413696,
           0.4036247730255127,
           0.11825412511825562,
           0.26285672187805176,
           0.3873584270477295,
           0.3873584270477295,
           0.38899293541908264,
           0.3923393189907074,
           0.41925662755966187,
           0.3335796594619751,
           0.28472235798835754,
           0.3092963397502899,
           0.4907139241695404,
           0.3713531196117401,
           0.27281811833381653,
           0.2937726378440857,
           0.2547810673713684,
           0.22089721262454987,
           0.18088151514530182,
           0.2931414544582367,
           0.12368811666965485,
           0.12368811666965485,
           -0.05637975037097931,
           -0.03715740516781807,
           -0.10230752825737,
           -0.10141927003860474,
           0.2572183310985565,
           0.2572183310985565,
           0.5462534427642822,
           0.4036705791950226,
           0.10058560222387314,
           0.10058560222387314,
           0.13961784541606903,
           0.05633512884378433,
           0.9892743825912476,
           1.0000001192092896,
           0.09496144205331802,
           0.06859567016363144,
           0.13293848931789398,
           0.18334737420082092,
           0.277908056974411,
           0.2825271487236023,
           0.30205610394477844,
           0.34780678153038025,
           0.08959423005580902,
           0.043177153915166855
          ],
          [
           0.38112542033195496,
           0.4032788872718811,
           0.15015865862369537,
           0.1629866659641266,
           0.20103077590465546,
           0.17326508462429047,
           0.18565383553504944,
           0.05220329388976097,
           0.3028503954410553,
           0.3028503954410553,
           0.2721780836582184,
           0.25963085889816284,
           0.15746477246284485,
           0.23934000730514526,
           0.21284645795822144,
           0.22649259865283966,
           0.6012217402458191,
           0.6487285494804382,
           0.1797172576189041,
           0.16300217807292938,
           0.32333821058273315,
           0.30714476108551025,
           0.28806382417678833,
           0.286086767911911,
           0.276576429605484,
           0.276576429605484,
           0.31328538060188293,
           0.2656169533729553,
           0.11796839535236359,
           0.0986228957772255,
           0.3580799102783203,
           0.3580799102783203,
           0.3958134651184082,
           0.3717203438282013,
           0.13291916251182556,
           0.13291916251182556,
           0.44566604495048523,
           0.418925017118454,
           0.061041735112667084,
           0.09496144205331802,
           0.9999998211860657,
           0.8120449781417847,
           0.2926673889160156,
           0.30802324414253235,
           0.6958279609680176,
           0.5461053252220154,
           0.45216041803359985,
           0.39151880145072937,
           0.2085399627685547,
           0.23491531610488892
          ],
          [
           0.2776722311973572,
           0.3124147057533264,
           0.22017332911491394,
           0.2382647693157196,
           0.22806517779827118,
           0.20141048729419708,
           0.18557049334049225,
           0.12849107384681702,
           0.21024870872497559,
           0.21024870872497559,
           0.4046429991722107,
           0.40899473428726196,
           0.2328859120607376,
           0.2283855527639389,
           0.1906019002199173,
           0.2517602741718292,
           0.547667920589447,
           0.5715137124061584,
           0.16917330026626587,
           0.11766473203897476,
           0.2955012619495392,
           0.28824275732040405,
           0.4012313783168793,
           0.3697366416454315,
           0.13302099704742432,
           0.13302099704742432,
           0.17356562614440918,
           0.14145101606845856,
           0.25508883595466614,
           0.29313892126083374,
           0.24320557713508606,
           0.24320557713508606,
           0.3362422585487366,
           0.37561169266700745,
           0.167940154671669,
           0.167940154671669,
           0.5500600934028625,
           0.40315285325050354,
           0.03421073406934738,
           0.06859567016363144,
           0.8120449781417847,
           1.0000001192092896,
           0.24064764380455017,
           0.24056747555732727,
           0.520595371723175,
           0.3762432932853699,
           0.3267195224761963,
           0.33727386593818665,
           0.35890865325927734,
           0.38584715127944946
          ],
          [
           0.4336202144622803,
           0.367444783449173,
           0.15566542744636536,
           0.1654631793498993,
           0.1416195034980774,
           0.1347670555114746,
           0.2289181351661682,
           0.1749420464038849,
           0.31811851263046265,
           0.31811851263046265,
           0.0586472786962986,
           0.05703600123524666,
           0.3617064654827118,
           0.44221416115760803,
           0.2497277408838272,
           0.25969693064689636,
           0.40650054812431335,
           0.25087541341781616,
           0.02038986049592495,
           0.053073007613420486,
           -0.030300723388791084,
           -0.02794604003429413,
           0.10121192038059235,
           0.14386436343193054,
           0.36518874764442444,
           0.36518874764442444,
           -0.11045405268669128,
           -0.08729956299066544,
           0.11455801874399185,
           0.13554000854492188,
           0.1560613363981247,
           0.1560613363981247,
           0.379526823759079,
           0.33222126960754395,
           0.26926061511039734,
           0.26926061511039734,
           0.23703444004058838,
           0.24205641448497772,
           0.14557874202728271,
           0.13293848931789398,
           0.2926673889160156,
           0.24064764380455017,
           0.9999998211860657,
           0.9898098707199097,
           0.27994176745414734,
           0.2293938398361206,
           0.27691105008125305,
           0.3672800660133362,
           0.0587751679122448,
           0.10819032043218613
          ],
          [
           0.46358343958854675,
           0.3910733163356781,
           0.171722874045372,
           0.18773484230041504,
           0.16587558388710022,
           0.1565375179052353,
           0.22576633095741272,
           0.17087717354297638,
           0.3451198637485504,
           0.3451198637485504,
           0.08065351843833923,
           0.07880723476409912,
           0.34357717633247375,
           0.43908947706222534,
           0.27255430817604065,
           0.2824075222015381,
           0.4180789887905121,
           0.25820183753967285,
           0.042896028608083725,
           0.06637224555015564,
           -0.009664171375334263,
           -0.01198967918753624,
           0.11617891490459442,
           0.1604718416929245,
           0.33941367268562317,
           0.33941367268562317,
           -0.1094944030046463,
           -0.08853428065776825,
           0.12568743526935577,
           0.14612217247486115,
           0.1699417531490326,
           0.1699417531490326,
           0.3998721241950989,
           0.3415687084197998,
           0.28703075647354126,
           0.28703075647354126,
           0.2407393902540207,
           0.23517416417598724,
           0.19432099163532257,
           0.18334737420082092,
           0.30802324414253235,
           0.24056747555732727,
           0.9898098707199097,
           1.000000238418579,
           0.2800482511520386,
           0.23418712615966797,
           0.2886843979358673,
           0.3797135055065155,
           0.049033649265766144,
           0.08748344331979752
          ],
          [
           0.5143438577651978,
           0.6541377305984497,
           0.11442329734563828,
           0.11461614072322845,
           0.2691703140735626,
           0.2698281407356262,
           0.3652896285057068,
           0.30166250467300415,
           0.2542251646518707,
           0.2542251646518707,
           0.26410624384880066,
           0.27709832787513733,
           0.23494777083396912,
           0.2426343858242035,
           0.21837860345840454,
           0.25431013107299805,
           0.6765637993812561,
           0.651355504989624,
           0.1796218454837799,
           0.14081528782844543,
           0.18291719257831573,
           0.17129556834697723,
           0.2601911723613739,
           0.3436765968799591,
           0.2829524874687195,
           0.2829524874687195,
           0.40677300095558167,
           0.33052170276641846,
           0.05728663131594658,
           0.061590775847435,
           0.438422292470932,
           0.438422292470932,
           0.4891153872013092,
           0.45958495140075684,
           0.12174505740404129,
           0.12174505740404129,
           0.5567038059234619,
           0.5737130641937256,
           0.2365543693304062,
           0.277908056974411,
           0.6958279609680176,
           0.520595371723175,
           0.27994176745414734,
           0.2800482511520386,
           0.9999998807907104,
           0.9243444204330444,
           0.4962255358695984,
           0.5259833931922913,
           0.2997046411037445,
           0.30145081877708435
          ],
          [
           0.44708698987960815,
           0.599881112575531,
           0.1285855770111084,
           0.13079118728637695,
           0.22118470072746277,
           0.21731121838092804,
           0.334748774766922,
           0.265342116355896,
           0.2849132716655731,
           0.2849132716655731,
           0.2654650807380676,
           0.2674902677536011,
           0.15603087842464447,
           0.1734960526227951,
           0.21529211103916168,
           0.26081937551498413,
           0.6141639947891235,
           0.5948188900947571,
           0.12392087280750275,
           0.0496956892311573,
           0.09433544427156448,
           0.08314241468906403,
           0.20337045192718506,
           0.2801401615142822,
           0.282990425825119,
           0.282990425825119,
           0.4284839332103729,
           0.31210145354270935,
           0.009934136644005775,
           0.033456914126873016,
           0.3718591034412384,
           0.3718591034412384,
           0.4585704803466797,
           0.40047192573547363,
           0.07263222336769104,
           0.07263222336769104,
           0.43354687094688416,
           0.46934425830841064,
           0.23937971889972687,
           0.2825271487236023,
           0.5461053252220154,
           0.3762432932853699,
           0.2293938398361206,
           0.23418712615966797,
           0.9243444204330444,
           1.000000238418579,
           0.4267151951789856,
           0.478145956993103,
           0.20794454216957092,
           0.19063636660575867
          ],
          [
           0.5250225067138672,
           0.578681468963623,
           0.18094025552272797,
           0.1440909057855606,
           0.3845520317554474,
           0.3534908592700958,
           0.41965213418006897,
           0.3647956848144531,
           0.32813751697540283,
           0.32813751697540283,
           0.2826743721961975,
           0.28025394678115845,
           0.20398223400115967,
           0.4122101366519928,
           0.21523697674274445,
           0.21070674061775208,
           0.45884600281715393,
           0.3657967150211334,
           0.3305034935474396,
           0.36084994673728943,
           0.14289280772209167,
           0.091086745262146,
           0.3232344388961792,
           0.3663550317287445,
           0.2403153032064438,
           0.2403153032064438,
           0.10343290120363235,
           0.10585050284862518,
           0.07452072203159332,
           0.05567508190870285,
           0.4488617479801178,
           0.4488617479801178,
           0.580249547958374,
           0.5604766011238098,
           0.13422039151191711,
           0.13422039151191711,
           0.4890386760234833,
           0.4225234091281891,
           0.2957373857498169,
           0.30205610394477844,
           0.45216041803359985,
           0.3267195224761963,
           0.27691105008125305,
           0.2886843979358673,
           0.4962255358695984,
           0.4267151951789856,
           1.000000238418579,
           0.9325137734413147,
           0.107620008289814,
           0.13324370980262756
          ],
          [
           0.6259687542915344,
           0.666703999042511,
           0.25968852639198303,
           0.23264086246490479,
           0.4399290680885315,
           0.42414340376853943,
           0.46111056208610535,
           0.42186081409454346,
           0.3133607804775238,
           0.3133607804775238,
           0.3536185920238495,
           0.3675514757633209,
           0.24983808398246765,
           0.4542231559753418,
           0.29766157269477844,
           0.3179062604904175,
           0.468833327293396,
           0.3346063792705536,
           0.3502626419067383,
           0.34470218420028687,
           0.15558713674545288,
           0.10561846941709518,
           0.393342524766922,
           0.4365791976451874,
           0.24784275889396667,
           0.24784275889396667,
           0.021707383915781975,
           0.04762705788016319,
           0.15309131145477295,
           0.17755188047885895,
           0.47590380907058716,
           0.47590380907058716,
           0.5872991681098938,
           0.5917348265647888,
           0.24891754984855652,
           0.24891754984855652,
           0.5908295512199402,
           0.5041689276695251,
           0.3347459137439728,
           0.34780678153038025,
           0.39151880145072937,
           0.33727386593818665,
           0.3672800660133362,
           0.3797135055065155,
           0.5259833931922913,
           0.478145956993103,
           0.9325137734413147,
           1,
           0.20780111849308014,
           0.22049514949321747
          ],
          [
           0.20922397077083588,
           0.11522538214921951,
           0.2749289274215698,
           0.27668651938438416,
           0.1666845828294754,
           0.2121346890926361,
           0.3422420918941498,
           0.32190951704978943,
           0.12894931435585022,
           0.12894931435585022,
           0.4492979347705841,
           0.48483023047447205,
           0.3291819393634796,
           0.22139762341976166,
           0.19312156736850739,
           0.2452397495508194,
           0.10358525812625885,
           0.11944043636322021,
           0.15095369517803192,
           0.11155965179204941,
           0.2599237561225891,
           0.2700232267379761,
           0.5240195393562317,
           0.39989155530929565,
           0.17434363067150116,
           0.17434363067150116,
           0.13703623414039612,
           0.15001201629638672,
           0.4187299907207489,
           0.39889034628868103,
           0.30191442370414734,
           0.30191442370414734,
           0.3064931035041809,
           0.3489995300769806,
           0.11847176402807236,
           0.11847176402807236,
           0.4863046705722809,
           0.3660643696784973,
           0.06401477754116058,
           0.08959423005580902,
           0.2085399627685547,
           0.35890865325927734,
           0.0587751679122448,
           0.049033649265766144,
           0.2997046411037445,
           0.20794454216957092,
           0.107620008289814,
           0.20780111849308014,
           1.0000001192092896,
           0.9513443112373352
          ],
          [
           0.1941913664340973,
           0.11046092957258224,
           0.17514245212078094,
           0.17498531937599182,
           0.17505384981632233,
           0.22213557362556458,
           0.33805251121520996,
           0.3470107614994049,
           0.06503787636756897,
           0.06503787636756897,
           0.3355795443058014,
           0.3770645558834076,
           0.3674415946006775,
           0.23665176331996918,
           0.18476799130439758,
           0.2168736457824707,
           0.11641130596399307,
           0.12089424580335617,
           0.10421733558177948,
           0.0967024490237236,
           0.21104128658771515,
           0.21619077026844025,
           0.4586182236671448,
           0.3441983163356781,
           0.20939718186855316,
           0.20939718186855316,
           0.12537871301174164,
           0.14873604476451874,
           0.3370205760002136,
           0.3536286950111389,
           0.2266448438167572,
           0.2266448438167572,
           0.26458537578582764,
           0.3302653729915619,
           0.09115095436573029,
           0.09115095436573029,
           0.45145726203918457,
           0.34008675813674927,
           0.023781783878803253,
           0.043177153915166855,
           0.23491531610488892,
           0.38584715127944946,
           0.10819032043218613,
           0.08748344331979752,
           0.30145081877708435,
           0.19063636660575867,
           0.13324370980262756,
           0.22049514949321747,
           0.9513443112373352,
           1.0000001192092896
          ]
         ]
        }
       ],
       "layout": {
        "coloraxis": {
         "colorscale": [
          [
           0,
           "#440154"
          ],
          [
           0.1111111111111111,
           "#482878"
          ],
          [
           0.2222222222222222,
           "#3e4989"
          ],
          [
           0.3333333333333333,
           "#31688e"
          ],
          [
           0.4444444444444444,
           "#26828e"
          ],
          [
           0.5555555555555556,
           "#1f9e89"
          ],
          [
           0.6666666666666666,
           "#35b779"
          ],
          [
           0.7777777777777778,
           "#6ece58"
          ],
          [
           0.8888888888888888,
           "#b5de2b"
          ],
          [
           1,
           "#fde725"
          ]
         ]
        },
        "height": 700,
        "margin": {
         "t": 60
        },
        "template": {
         "data": {
          "bar": [
           {
            "error_x": {
             "color": "#2a3f5f"
            },
            "error_y": {
             "color": "#2a3f5f"
            },
            "marker": {
             "line": {
              "color": "#E5ECF6",
              "width": 0.5
             },
             "pattern": {
              "fillmode": "overlay",
              "size": 10,
              "solidity": 0.2
             }
            },
            "type": "bar"
           }
          ],
          "barpolar": [
           {
            "marker": {
             "line": {
              "color": "#E5ECF6",
              "width": 0.5
             },
             "pattern": {
              "fillmode": "overlay",
              "size": 10,
              "solidity": 0.2
             }
            },
            "type": "barpolar"
           }
          ],
          "carpet": [
           {
            "aaxis": {
             "endlinecolor": "#2a3f5f",
             "gridcolor": "white",
             "linecolor": "white",
             "minorgridcolor": "white",
             "startlinecolor": "#2a3f5f"
            },
            "baxis": {
             "endlinecolor": "#2a3f5f",
             "gridcolor": "white",
             "linecolor": "white",
             "minorgridcolor": "white",
             "startlinecolor": "#2a3f5f"
            },
            "type": "carpet"
           }
          ],
          "choropleth": [
           {
            "colorbar": {
             "outlinewidth": 0,
             "ticks": ""
            },
            "type": "choropleth"
           }
          ],
          "contour": [
           {
            "colorbar": {
             "outlinewidth": 0,
             "ticks": ""
            },
            "colorscale": [
             [
              0,
              "#0d0887"
             ],
             [
              0.1111111111111111,
              "#46039f"
             ],
             [
              0.2222222222222222,
              "#7201a8"
             ],
             [
              0.3333333333333333,
              "#9c179e"
             ],
             [
              0.4444444444444444,
              "#bd3786"
             ],
             [
              0.5555555555555556,
              "#d8576b"
             ],
             [
              0.6666666666666666,
              "#ed7953"
             ],
             [
              0.7777777777777778,
              "#fb9f3a"
             ],
             [
              0.8888888888888888,
              "#fdca26"
             ],
             [
              1,
              "#f0f921"
             ]
            ],
            "type": "contour"
           }
          ],
          "contourcarpet": [
           {
            "colorbar": {
             "outlinewidth": 0,
             "ticks": ""
            },
            "type": "contourcarpet"
           }
          ],
          "heatmap": [
           {
            "colorbar": {
             "outlinewidth": 0,
             "ticks": ""
            },
            "colorscale": [
             [
              0,
              "#0d0887"
             ],
             [
              0.1111111111111111,
              "#46039f"
             ],
             [
              0.2222222222222222,
              "#7201a8"
             ],
             [
              0.3333333333333333,
              "#9c179e"
             ],
             [
              0.4444444444444444,
              "#bd3786"
             ],
             [
              0.5555555555555556,
              "#d8576b"
             ],
             [
              0.6666666666666666,
              "#ed7953"
             ],
             [
              0.7777777777777778,
              "#fb9f3a"
             ],
             [
              0.8888888888888888,
              "#fdca26"
             ],
             [
              1,
              "#f0f921"
             ]
            ],
            "type": "heatmap"
           }
          ],
          "heatmapgl": [
           {
            "colorbar": {
             "outlinewidth": 0,
             "ticks": ""
            },
            "colorscale": [
             [
              0,
              "#0d0887"
             ],
             [
              0.1111111111111111,
              "#46039f"
             ],
             [
              0.2222222222222222,
              "#7201a8"
             ],
             [
              0.3333333333333333,
              "#9c179e"
             ],
             [
              0.4444444444444444,
              "#bd3786"
             ],
             [
              0.5555555555555556,
              "#d8576b"
             ],
             [
              0.6666666666666666,
              "#ed7953"
             ],
             [
              0.7777777777777778,
              "#fb9f3a"
             ],
             [
              0.8888888888888888,
              "#fdca26"
             ],
             [
              1,
              "#f0f921"
             ]
            ],
            "type": "heatmapgl"
           }
          ],
          "histogram": [
           {
            "marker": {
             "pattern": {
              "fillmode": "overlay",
              "size": 10,
              "solidity": 0.2
             }
            },
            "type": "histogram"
           }
          ],
          "histogram2d": [
           {
            "colorbar": {
             "outlinewidth": 0,
             "ticks": ""
            },
            "colorscale": [
             [
              0,
              "#0d0887"
             ],
             [
              0.1111111111111111,
              "#46039f"
             ],
             [
              0.2222222222222222,
              "#7201a8"
             ],
             [
              0.3333333333333333,
              "#9c179e"
             ],
             [
              0.4444444444444444,
              "#bd3786"
             ],
             [
              0.5555555555555556,
              "#d8576b"
             ],
             [
              0.6666666666666666,
              "#ed7953"
             ],
             [
              0.7777777777777778,
              "#fb9f3a"
             ],
             [
              0.8888888888888888,
              "#fdca26"
             ],
             [
              1,
              "#f0f921"
             ]
            ],
            "type": "histogram2d"
           }
          ],
          "histogram2dcontour": [
           {
            "colorbar": {
             "outlinewidth": 0,
             "ticks": ""
            },
            "colorscale": [
             [
              0,
              "#0d0887"
             ],
             [
              0.1111111111111111,
              "#46039f"
             ],
             [
              0.2222222222222222,
              "#7201a8"
             ],
             [
              0.3333333333333333,
              "#9c179e"
             ],
             [
              0.4444444444444444,
              "#bd3786"
             ],
             [
              0.5555555555555556,
              "#d8576b"
             ],
             [
              0.6666666666666666,
              "#ed7953"
             ],
             [
              0.7777777777777778,
              "#fb9f3a"
             ],
             [
              0.8888888888888888,
              "#fdca26"
             ],
             [
              1,
              "#f0f921"
             ]
            ],
            "type": "histogram2dcontour"
           }
          ],
          "mesh3d": [
           {
            "colorbar": {
             "outlinewidth": 0,
             "ticks": ""
            },
            "type": "mesh3d"
           }
          ],
          "parcoords": [
           {
            "line": {
             "colorbar": {
              "outlinewidth": 0,
              "ticks": ""
             }
            },
            "type": "parcoords"
           }
          ],
          "pie": [
           {
            "automargin": true,
            "type": "pie"
           }
          ],
          "scatter": [
           {
            "fillpattern": {
             "fillmode": "overlay",
             "size": 10,
             "solidity": 0.2
            },
            "type": "scatter"
           }
          ],
          "scatter3d": [
           {
            "line": {
             "colorbar": {
              "outlinewidth": 0,
              "ticks": ""
             }
            },
            "marker": {
             "colorbar": {
              "outlinewidth": 0,
              "ticks": ""
             }
            },
            "type": "scatter3d"
           }
          ],
          "scattercarpet": [
           {
            "marker": {
             "colorbar": {
              "outlinewidth": 0,
              "ticks": ""
             }
            },
            "type": "scattercarpet"
           }
          ],
          "scattergeo": [
           {
            "marker": {
             "colorbar": {
              "outlinewidth": 0,
              "ticks": ""
             }
            },
            "type": "scattergeo"
           }
          ],
          "scattergl": [
           {
            "marker": {
             "colorbar": {
              "outlinewidth": 0,
              "ticks": ""
             }
            },
            "type": "scattergl"
           }
          ],
          "scattermapbox": [
           {
            "marker": {
             "colorbar": {
              "outlinewidth": 0,
              "ticks": ""
             }
            },
            "type": "scattermapbox"
           }
          ],
          "scatterpolar": [
           {
            "marker": {
             "colorbar": {
              "outlinewidth": 0,
              "ticks": ""
             }
            },
            "type": "scatterpolar"
           }
          ],
          "scatterpolargl": [
           {
            "marker": {
             "colorbar": {
              "outlinewidth": 0,
              "ticks": ""
             }
            },
            "type": "scatterpolargl"
           }
          ],
          "scatterternary": [
           {
            "marker": {
             "colorbar": {
              "outlinewidth": 0,
              "ticks": ""
             }
            },
            "type": "scatterternary"
           }
          ],
          "surface": [
           {
            "colorbar": {
             "outlinewidth": 0,
             "ticks": ""
            },
            "colorscale": [
             [
              0,
              "#0d0887"
             ],
             [
              0.1111111111111111,
              "#46039f"
             ],
             [
              0.2222222222222222,
              "#7201a8"
             ],
             [
              0.3333333333333333,
              "#9c179e"
             ],
             [
              0.4444444444444444,
              "#bd3786"
             ],
             [
              0.5555555555555556,
              "#d8576b"
             ],
             [
              0.6666666666666666,
              "#ed7953"
             ],
             [
              0.7777777777777778,
              "#fb9f3a"
             ],
             [
              0.8888888888888888,
              "#fdca26"
             ],
             [
              1,
              "#f0f921"
             ]
            ],
            "type": "surface"
           }
          ],
          "table": [
           {
            "cells": {
             "fill": {
              "color": "#EBF0F8"
             },
             "line": {
              "color": "white"
             }
            },
            "header": {
             "fill": {
              "color": "#C8D4E3"
             },
             "line": {
              "color": "white"
             }
            },
            "type": "table"
           }
          ]
         },
         "layout": {
          "annotationdefaults": {
           "arrowcolor": "#2a3f5f",
           "arrowhead": 0,
           "arrowwidth": 1
          },
          "autotypenumbers": "strict",
          "coloraxis": {
           "colorbar": {
            "outlinewidth": 0,
            "ticks": ""
           }
          },
          "colorscale": {
           "diverging": [
            [
             0,
             "#8e0152"
            ],
            [
             0.1,
             "#c51b7d"
            ],
            [
             0.2,
             "#de77ae"
            ],
            [
             0.3,
             "#f1b6da"
            ],
            [
             0.4,
             "#fde0ef"
            ],
            [
             0.5,
             "#f7f7f7"
            ],
            [
             0.6,
             "#e6f5d0"
            ],
            [
             0.7,
             "#b8e186"
            ],
            [
             0.8,
             "#7fbc41"
            ],
            [
             0.9,
             "#4d9221"
            ],
            [
             1,
             "#276419"
            ]
           ],
           "sequential": [
            [
             0,
             "#0d0887"
            ],
            [
             0.1111111111111111,
             "#46039f"
            ],
            [
             0.2222222222222222,
             "#7201a8"
            ],
            [
             0.3333333333333333,
             "#9c179e"
            ],
            [
             0.4444444444444444,
             "#bd3786"
            ],
            [
             0.5555555555555556,
             "#d8576b"
            ],
            [
             0.6666666666666666,
             "#ed7953"
            ],
            [
             0.7777777777777778,
             "#fb9f3a"
            ],
            [
             0.8888888888888888,
             "#fdca26"
            ],
            [
             1,
             "#f0f921"
            ]
           ],
           "sequentialminus": [
            [
             0,
             "#0d0887"
            ],
            [
             0.1111111111111111,
             "#46039f"
            ],
            [
             0.2222222222222222,
             "#7201a8"
            ],
            [
             0.3333333333333333,
             "#9c179e"
            ],
            [
             0.4444444444444444,
             "#bd3786"
            ],
            [
             0.5555555555555556,
             "#d8576b"
            ],
            [
             0.6666666666666666,
             "#ed7953"
            ],
            [
             0.7777777777777778,
             "#fb9f3a"
            ],
            [
             0.8888888888888888,
             "#fdca26"
            ],
            [
             1,
             "#f0f921"
            ]
           ]
          },
          "colorway": [
           "#636efa",
           "#EF553B",
           "#00cc96",
           "#ab63fa",
           "#FFA15A",
           "#19d3f3",
           "#FF6692",
           "#B6E880",
           "#FF97FF",
           "#FECB52"
          ],
          "font": {
           "color": "#2a3f5f"
          },
          "geo": {
           "bgcolor": "white",
           "lakecolor": "white",
           "landcolor": "#E5ECF6",
           "showlakes": true,
           "showland": true,
           "subunitcolor": "white"
          },
          "hoverlabel": {
           "align": "left"
          },
          "hovermode": "closest",
          "mapbox": {
           "style": "light"
          },
          "paper_bgcolor": "white",
          "plot_bgcolor": "#E5ECF6",
          "polar": {
           "angularaxis": {
            "gridcolor": "white",
            "linecolor": "white",
            "ticks": ""
           },
           "bgcolor": "#E5ECF6",
           "radialaxis": {
            "gridcolor": "white",
            "linecolor": "white",
            "ticks": ""
           }
          },
          "scene": {
           "xaxis": {
            "backgroundcolor": "#E5ECF6",
            "gridcolor": "white",
            "gridwidth": 2,
            "linecolor": "white",
            "showbackground": true,
            "ticks": "",
            "zerolinecolor": "white"
           },
           "yaxis": {
            "backgroundcolor": "#E5ECF6",
            "gridcolor": "white",
            "gridwidth": 2,
            "linecolor": "white",
            "showbackground": true,
            "ticks": "",
            "zerolinecolor": "white"
           },
           "zaxis": {
            "backgroundcolor": "#E5ECF6",
            "gridcolor": "white",
            "gridwidth": 2,
            "linecolor": "white",
            "showbackground": true,
            "ticks": "",
            "zerolinecolor": "white"
           }
          },
          "shapedefaults": {
           "line": {
            "color": "#2a3f5f"
           }
          },
          "ternary": {
           "aaxis": {
            "gridcolor": "white",
            "linecolor": "white",
            "ticks": ""
           },
           "baxis": {
            "gridcolor": "white",
            "linecolor": "white",
            "ticks": ""
           },
           "bgcolor": "#E5ECF6",
           "caxis": {
            "gridcolor": "white",
            "linecolor": "white",
            "ticks": ""
           }
          },
          "title": {
           "x": 0.05
          },
          "xaxis": {
           "automargin": true,
           "gridcolor": "white",
           "linecolor": "white",
           "ticks": "",
           "title": {
            "standoff": 15
           },
           "zerolinecolor": "white",
           "zerolinewidth": 2
          },
          "yaxis": {
           "automargin": true,
           "gridcolor": "white",
           "linecolor": "white",
           "ticks": "",
           "title": {
            "standoff": 15
           },
           "zerolinecolor": "white",
           "zerolinewidth": 2
          }
         }
        },
        "title": {
         "text": "Interactive Heatmap Visualization"
        },
        "width": 700,
        "xaxis": {
         "anchor": "y",
         "constrain": "domain",
         "domain": [
          0,
          1
         ],
         "scaleanchor": "y"
        },
        "yaxis": {
         "anchor": "x",
         "autorange": "reversed",
         "constrain": "domain",
         "domain": [
          0,
          1
         ]
        }
       }
      },
      "text/html": [
       "<div>                            <div id=\"4eca80fb-1626-44d0-bc54-7715f0927d75\" class=\"plotly-graph-div\" style=\"height:700px; width:700px;\"></div>            <script type=\"text/javascript\">                require([\"plotly\"], function(Plotly) {                    window.PLOTLYENV=window.PLOTLYENV || {};                                    if (document.getElementById(\"4eca80fb-1626-44d0-bc54-7715f0927d75\")) {                    Plotly.newPlot(                        \"4eca80fb-1626-44d0-bc54-7715f0927d75\",                        [{\"coloraxis\":\"coloraxis\",\"name\":\"0\",\"z\":[[1.0000001192092896,0.8958424925804138,0.42009738087654114,0.40898099541664124,0.41251736879348755,0.3539689779281616,0.5843408107757568,0.4851323068141937,0.3510596454143524,0.3510596454143524,0.3495118021965027,0.37234681844711304,0.3553851842880249,0.5539954304695129,0.23234699666500092,0.2631054222583771,0.41371259093284607,0.317912220954895,0.20619139075279236,0.15191711485385895,0.2085883766412735,0.17151373624801636,0.37128522992134094,0.4376664161682129,0.168466255068779,0.168466255068779,-0.0025339110288769007,0.04925321042537689,0.3410680294036865,0.34644684195518494,0.4625677466392517,0.4625677466392517,0.5786383748054504,0.6162403225898743,0.43000733852386475,0.43000733852386475,0.5685576796531677,0.5968539118766785,0.2536328136920929,0.25844016671180725,0.38112542033195496,0.2776722311973572,0.4336202144622803,0.46358343958854675,0.5143438577651978,0.44708698987960815,0.5250225067138672,0.6259687542915344,0.20922397077083588,0.1941913664340973],[0.8958424925804138,1.0,0.2687247395515442,0.2548535168170929,0.3984040915966034,0.3349601924419403,0.5958304405212402,0.538184404373169,0.2766250669956207,0.2766250669956207,0.34591445326805115,0.37413549423217773,0.3323964774608612,0.5078399181365967,0.20874416828155518,0.26326385140419006,0.5392419695854187,0.3900819420814514,0.14818866550922394,0.13061894476413727,0.1558612585067749,0.12639795243740082,0.3721260726451874,0.4924698770046234,0.08464671671390533,0.08464671671390533,-0.033340130001306534,-0.01646238937973976,0.22433336079120636,0.22357994318008423,0.5170205235481262,0.5170205235481262,0.626879870891571,0.6388711929321289,0.3742016553878784,0.3742016553878784,0.612290620803833,0.6503558158874512,0.33185875415802,0.3463866710662842,0.4032788872718811,0.3124147057533264,0.367444783449173,0.3910733163356781,0.6541377305984497,0.599881112575531,0.578681468963623,0.666703999042511,0.11522538214921951,0.11046092957258224],[0.42009738087654114,0.2687247395515442,1.0,0.9896863698959351,0.31280773878097534,0.23155605792999268,0.4219386577606201,0.290841281414032,0.1628645956516266,0.1628645956516266,0.4879551827907562,0.48267674446105957,0.1850481778383255,0.41013094782829285,0.12310638278722763,0.2411995381116867,0.076444610953331,0.07097642868757248,0.26736029982566833,0.12692928314208984,0.1128765419125557,0.1115630492568016,0.5532968640327454,0.5114074349403381,-0.010389811359345913,-0.010389811359345913,-0.15160271525382996,-0.1688583642244339,0.7793688774108887,0.7505220770835876,0.43731898069381714,0.43731898069381714,0.38100361824035645,0.4356418550014496,0.6507876515388489,0.6507876515388489,0.37201836705207825,0.370077908039093,0.01536999549716711,0.009140191599726677,0.15015865862369537,0.22017332911491394,0.15566542744636536,0.171722874045372,0.11442329734563828,0.1285855770111084,0.18094025552272797,0.25968852639198303,0.2749289274215698,0.17514245212078094],[0.40898099541664124,0.2548535168170929,0.9896863698959351,0.9999997615814209,0.3356076180934906,0.25302156805992126,0.4023835062980652,0.28911092877388,0.1593003123998642,0.1593003123998642,0.5250857472419739,0.5172765851020813,0.1836470514535904,0.40723228454589844,0.12771621346473694,0.24357371032238007,0.09884414076805115,0.09449770301580429,0.2617601752281189,0.11526710540056229,0.12870314717292786,0.13112445175647736,0.5649425387382507,0.5242123603820801,-0.0019231645856052637,-0.0019231645856052637,-0.1526324599981308,-0.17499153316020966,0.7879173159599304,0.7641524076461792,0.42525675892829895,0.42525675892829895,0.37426644563674927,0.4203580915927887,0.6603959798812866,0.6603959798812866,0.34031379222869873,0.32404211163520813,0.04755028709769249,0.045361947268247604,0.1629866659641266,0.2382647693157196,0.1654631793498993,0.18773484230041504,0.11461614072322845,0.13079118728637695,0.1440909057855606,0.23264086246490479,0.27668651938438416,0.17498531937599182],[0.41251736879348755,0.3984040915966034,0.31280773878097534,0.3356076180934906,1.0,0.9676400423049927,0.249179869890213,0.44525542855262756,0.14311851561069489,0.14311851561069489,0.5769433975219727,0.6117393970489502,0.2952199876308441,0.3971913754940033,0.23338526487350464,0.2784847915172577,0.192679300904274,0.11117842048406601,0.42521655559539795,0.37213876843452454,0.48329633474349976,0.42788055539131165,0.49615877866744995,0.562567949295044,0.03412773460149765,0.03412773460149765,-0.07996441423892975,0.007115854416042566,0.20458996295928955,0.26261287927627563,0.41264718770980835,0.41264718770980835,0.31246495246887207,0.32943055033683777,0.3147570490837097,0.3147570490837097,0.2999189496040344,0.24060899019241333,0.40765616297721863,0.39455991983413696,0.20103077590465546,0.22806517779827118,0.1416195034980774,0.16587558388710022,0.2691703140735626,0.22118470072746277,0.3845520317554474,0.4399290680885315,0.1666845828294754,0.17505384981632233],[0.3539689779281616,0.3349601924419403,0.23155605792999268,0.25302156805992126,0.9676400423049927,1.0000001192092896,0.169550359249115,0.3594631552696228,0.15350653231143951,0.15350653231143951,0.5153619647026062,0.5548596382141113,0.27678802609443665,0.3322530686855316,0.1898265928030014,0.23228919506072998,0.18778665363788605,0.1282983422279358,0.4281955361366272,0.401762992143631,0.49306413531303406,0.4464639723300934,0.44355785846710205,0.4794437289237976,0.07950925827026367,0.07950925827026367,-0.06855503469705582,0.01481314655393362,0.1450265645980835,0.21104615926742554,0.36426645517349243,0.36426645517349243,0.2553636431694031,0.27132266759872437,0.21823789179325104,0.21823789179325104,0.27645638585090637,0.20465844869613647,0.41549038887023926,0.4036247730255127,0.17326508462429047,0.20141048729419708,0.1347670555114746,0.1565375179052353,0.2698281407356262,0.21731121838092804,0.3534908592700958,0.42414340376853943,0.2121346890926361,0.22213557362556458],[0.5843408107757568,0.5958304405212402,0.4219386577606201,0.4023835062980652,0.249179869890213,0.169550359249115,0.9999998211860657,0.838962733745575,0.15968716144561768,0.15968716144561768,0.42262130975723267,0.4157813489437103,0.39046117663383484,0.5916652679443359,0.10364221781492233,0.21729327738285065,0.09227165579795837,0.03827556595206261,0.1293707638978958,0.12454722076654434,0.13776718080043793,0.14600199460983276,0.5165423154830933,0.49551963806152344,0.05138754844665527,0.05138754844665527,-0.05310004949569702,-0.04469848424196243,0.3150891661643982,0.2815350294113159,0.44426241517066956,0.44426241517066956,0.6448286175727844,0.716624915599823,0.35866254568099976,0.35866254568099976,0.4510241448879242,0.4150315225124359,0.13643333315849304,0.11825412511825562,0.18565383553504944,0.18557049334049225,0.2289181351661682,0.22576633095741272,0.3652896285057068,0.334748774766922,0.41965213418006897,0.46111056208610535,0.3422420918941498,0.33805251121520996],[0.4851323068141937,0.538184404373169,0.290841281414032,0.28911092877388,0.44525542855262756,0.3594631552696228,0.838962733745575,0.9999998211860657,0.06588561832904816,0.06588561832904816,0.4561023414134979,0.4776404798030853,0.4642978310585022,0.5496826767921448,0.12970444560050964,0.22133292257785797,0.10602229833602905,0.01955599896609783,0.1230052188038826,0.13982996344566345,0.16075797379016876,0.15349352359771729,0.52127605676651,0.5512484312057495,0.011545379646122456,0.011545379646122456,-0.02921614795923233,0.03371840715408325,0.24456553161144257,0.25318238139152527,0.344875305891037,0.344875305891037,0.5479679107666016,0.5949798226356506,0.37386929988861084,0.37386929988861084,0.36715075373649597,0.33827608823776245,0.27717381715774536,0.26285672187805176,0.05220329388976097,0.12849107384681702,0.1749420464038849,0.17087717354297638,0.30166250467300415,0.265342116355896,0.3647956848144531,0.42186081409454346,0.32190951704978943,0.3470107614994049],[0.3510596454143524,0.2766250669956207,0.1628645956516266,0.1593003123998642,0.14311851561069489,0.15350653231143951,0.15968716144561768,0.06588561832904816,0.9999998807907104,0.9999998807907104,0.23911383748054504,0.2417229861021042,0.4386061131954193,0.4553617238998413,0.40470966696739197,0.41596028208732605,0.4395434856414795,0.40808331966400146,0.2959582507610321,0.35146018862724304,0.2336616814136505,0.24470800161361694,0.17088793218135834,0.13423290848731995,0.5655087232589722,0.5655087232589722,0.07732944190502167,0.040112510323524475,0.03338168188929558,-0.03873308748006821,0.16608312726020813,0.16608312726020813,0.4926683008670807,0.43444034457206726,-0.004717522766441107,-0.004717522766441107,0.18299412727355957,0.1465522050857544,0.3858959972858429,0.3873584270477295,0.3028503954410553,0.21024870872497559,0.31811851263046265,0.3451198637485504,0.2542251646518707,0.2849132716655731,0.32813751697540283,0.3133607804775238,0.12894931435585022,0.06503787636756897],[0.3510596454143524,0.2766250669956207,0.1628645956516266,0.1593003123998642,0.14311851561069489,0.15350653231143951,0.15968716144561768,0.06588561832904816,0.9999998807907104,0.9999998807907104,0.23911383748054504,0.2417229861021042,0.4386061131954193,0.4553617238998413,0.40470966696739197,0.41596028208732605,0.4395434856414795,0.40808331966400146,0.2959582507610321,0.35146018862724304,0.2336616814136505,0.24470800161361694,0.17088793218135834,0.13423290848731995,0.5655087232589722,0.5655087232589722,0.07732944190502167,0.040112510323524475,0.03338168188929558,-0.03873308748006821,0.16608312726020813,0.16608312726020813,0.4926683008670807,0.43444034457206726,-0.004717522766441107,-0.004717522766441107,0.18299412727355957,0.1465522050857544,0.3858959972858429,0.3873584270477295,0.3028503954410553,0.21024870872497559,0.31811851263046265,0.3451198637485504,0.2542251646518707,0.2849132716655731,0.32813751697540283,0.3133607804775238,0.12894931435585022,0.06503787636756897],[0.3495118021965027,0.34591445326805115,0.4879551827907562,0.5250857472419739,0.5769433975219727,0.5153619647026062,0.42262130975723267,0.4561023414134979,0.23911383748054504,0.23911383748054504,1.0000001192092896,0.9852532744407654,0.161299467086792,0.27091965079307556,0.15791848301887512,0.24946507811546326,0.18724261224269867,0.16128289699554443,0.3116699457168579,0.16495223343372345,0.4165526032447815,0.399187833070755,0.8084936141967773,0.8198947310447693,0.01872401311993599,0.01872401311993599,-0.07615696638822556,-0.09485038369894028,0.42096057534217834,0.38896238803863525,0.5439467430114746,0.5439467430114746,0.5199323296546936,0.48620346188545227,0.375667542219162,0.375667542219162,0.4552538990974426,0.31725478172302246,0.36340200901031494,0.38899293541908264,0.2721780836582184,0.4046429991722107,0.0586472786962986,0.08065351843833923,0.26410624384880066,0.2654650807380676,0.2826743721961975,0.3536185920238495,0.4492979347705841,0.3355795443058014],[0.37234681844711304,0.37413549423217773,0.48267674446105957,0.5172765851020813,0.6117393970489502,0.5548596382141113,0.4157813489437103,0.4776404798030853,0.2417229861021042,0.2417229861021042,0.9852532744407654,1.0000001192092896,0.19207283854484558,0.27815133333206177,0.1839367002248764,0.2793665826320648,0.2018589973449707,0.17293128371238708,0.3087919354438782,0.1702318638563156,0.4369524419307709,0.42379841208457947,0.8435810804367065,0.8549078702926636,0.03623327612876892,0.03623327612876892,-0.07583244144916534,-0.08118065446615219,0.45330312848091125,0.43286529183387756,0.5610463619232178,0.5610463619232178,0.4975614845752716,0.4754408299922943,0.40008971095085144,0.40008971095085144,0.5006313920021057,0.3742017447948456,0.36381909251213074,0.3923393189907074,0.25963085889816284,0.40899473428726196,0.05703600123524666,0.07880723476409912,0.27709832787513733,0.2674902677536011,0.28025394678115845,0.3675514757633209,0.48483023047447205,0.3770645558834076],[0.3553851842880249,0.3323964774608612,0.1850481778383255,0.1836470514535904,0.2952199876308441,0.27678802609443665,0.39046117663383484,0.4642978310585022,0.4386061131954193,0.4386061131954193,0.161299467086792,0.19207283854484558,1.0000001192092896,0.8282039761543274,0.41520464420318604,0.4526320993900299,0.443307101726532,0.3676680028438568,0.07003244012594223,0.22689032554626465,0.14309605956077576,0.17786531150341034,0.19556836783885956,0.17523756623268127,0.3601216971874237,0.3601216971874237,-0.05591567978262901,0.0031464239582419395,0.09706579148769379,0.0883152186870575,0.1502574235200882,0.1502574235200882,0.48207759857177734,0.5028730034828186,0.12695902585983276,0.12695902585983276,0.20797839760780334,0.18448910117149353,0.4431634843349457,0.41925662755966187,0.15746477246284485,0.2328859120607376,0.3617064654827118,0.34357717633247375,0.23494777083396912,0.15603087842464447,0.20398223400115967,0.24983808398246765,0.3291819393634796,0.3674415946006775],[0.5539954304695129,0.5078399181365967,0.41013094782829285,0.40723228454589844,0.3971913754940033,0.3322530686855316,0.5916652679443359,0.5496826767921448,0.4553617238998413,0.4553617238998413,0.27091965079307556,0.27815133333206177,0.8282039761543274,1.0,0.4069049656391144,0.4485195577144623,0.388597309589386,0.2922697961330414,0.1696656048297882,0.2654517889022827,0.18037013709545135,0.16999050974845886,0.3389328718185425,0.3225330710411072,0.27171245217323303,0.27171245217323303,-0.16133171319961548,-0.10239759087562561,0.22155293822288513,0.18020685017108917,0.3319002687931061,0.3319002687931061,0.620754063129425,0.6677373647689819,0.3034661114215851,0.3034661114215851,0.26806899905204773,0.2568342685699463,0.3697385787963867,0.3335796594619751,0.23934000730514526,0.2283855527639389,0.44221416115760803,0.43908947706222534,0.2426343858242035,0.1734960526227951,0.4122101366519928,0.4542231559753418,0.22139762341976166,0.23665176331996918],[0.23234699666500092,0.20874416828155518,0.12310638278722763,0.12771621346473694,0.23338526487350464,0.1898265928030014,0.10364221781492233,0.12970444560050964,0.40470966696739197,0.40470966696739197,0.15791848301887512,0.1839367002248764,0.41520464420318604,0.4069049656391144,1.0,0.9474737644195557,0.3247906267642975,0.26223650574684143,0.28094688057899475,0.2875557243824005,0.42689234018325806,0.40357398986816406,0.08395468443632126,0.09518636018037796,0.25582966208457947,0.25582966208457947,0.1532478779554367,0.1778174340724945,-0.05308385565876961,-0.04814687743782997,0.18597230315208435,0.18597230315208435,0.27629339694976807,0.2542789578437805,0.10393010079860687,0.10393010079860687,0.2636406719684601,0.22418496012687683,0.2600303292274475,0.28472235798835754,0.21284645795822144,0.1906019002199173,0.2497277408838272,0.27255430817604065,0.21837860345840454,0.21529211103916168,0.21523697674274445,0.29766157269477844,0.19312156736850739,0.18476799130439758],[0.2631054222583771,0.26326385140419006,0.2411995381116867,0.24357371032238007,0.2784847915172577,0.23228919506072998,0.21729327738285065,0.22133292257785797,0.41596028208732605,0.41596028208732605,0.24946507811546326,0.2793665826320648,0.4526320993900299,0.4485195577144623,0.9474737644195557,0.9999999403953552,0.312936931848526,0.24480129778385162,0.29345038533210754,0.30676913261413574,0.4472505450248718,0.4522559344768524,0.17753618955612183,0.17209286987781525,0.231478750705719,0.231478750705719,0.0836624950170517,0.10560882836580276,0.07454169541597366,0.07679333537817001,0.2335352599620819,0.2335352599620819,0.34334075450897217,0.3283938467502594,0.18186087906360626,0.18186087906360626,0.3347509205341339,0.2706333100795746,0.28506794571876526,0.3092963397502899,0.22649259865283966,0.2517602741718292,0.25969693064689636,0.2824075222015381,0.25431013107299805,0.26081937551498413,0.21070674061775208,0.3179062604904175,0.2452397495508194,0.2168736457824707],[0.41371259093284607,0.5392419695854187,0.076444610953331,0.09884414076805115,0.192679300904274,0.18778665363788605,0.09227165579795837,0.10602229833602905,0.4395434856414795,0.4395434856414795,0.18724261224269867,0.2018589973449707,0.443307101726532,0.388597309589386,0.3247906267642975,0.312936931848526,1.0,0.8943943381309509,-0.0033704969100654125,0.07128141820430756,0.06968816369771957,0.08190100640058517,0.16099092364311218,0.23077832162380219,0.3236852288246155,0.3236852288246155,0.17862431704998016,0.06715668737888336,-0.013458763249218464,0.011884109117090702,0.22641262412071228,0.22641262412071228,0.5477160811424255,0.5009601712226868,0.07588254660367966,0.07588254660367966,0.4349023401737213,0.42731860280036926,0.4496834874153137,0.4907139241695404,0.6012217402458191,0.547667920589447,0.40650054812431335,0.4180789887905121,0.6765637993812561,0.6141639947891235,0.45884600281715393,0.468833327293396,0.10358525812625885,0.11641130596399307],[0.317912220954895,0.3900819420814514,0.07097642868757248,0.09449770301580429,0.11117842048406601,0.1282983422279358,0.03827556595206261,0.01955599896609783,0.40808331966400146,0.40808331966400146,0.16128289699554443,0.17293128371238708,0.3676680028438568,0.2922697961330414,0.26223650574684143,0.24480129778385162,0.8943943381309509,0.9999998807907104,-0.04713647440075874,0.03827787563204765,0.12217124551534653,0.1549716591835022,0.10031324625015259,0.09870143979787827,0.3330971598625183,0.3330971598625183,0.34715700149536133,0.23019061982631683,-0.020776821300387383,-0.009256047196686268,0.18111959099769592,0.18111959099769592,0.38894256949424744,0.35360586643218994,-0.013817907311022282,-0.013817907311022282,0.29896679520606995,0.31702014803886414,0.32023242115974426,0.3713531196117401,0.6487285494804382,0.5715137124061584,0.25087541341781616,0.25820183753967285,0.651355504989624,0.5948188900947571,0.3657967150211334,0.3346063792705536,0.11944043636322021,0.12089424580335617],[0.20619139075279236,0.14818866550922394,0.26736029982566833,0.2617601752281189,0.42521655559539795,0.4281955361366272,0.1293707638978958,0.1230052188038826,0.2959582507610321,0.2959582507610321,0.3116699457168579,0.3087919354438782,0.07003244012594223,0.1696656048297882,0.28094688057899475,0.29345038533210754,-0.0033704969100654125,-0.04713647440075874,1.0,0.8632774353027344,0.5159187316894531,0.4355573356151581,0.24065011739730835,0.27014875411987305,0.08094138652086258,0.08094138652086258,-0.0037281971890479326,0.09404092282056808,0.12752029299736023,0.10415122658014297,0.20876021683216095,0.20876021683216095,0.33533918857574463,0.3010983467102051,0.23649226129055023,0.23649226129055023,0.1953650712966919,0.07001147419214249,0.2708309292793274,0.27281811833381653,0.1797172576189041,0.16917330026626587,0.02038986049592495,0.042896028608083725,0.1796218454837799,0.12392087280750275,0.3305034935474396,0.3502626419067383,0.15095369517803192,0.10421733558177948],[0.15191711485385895,0.13061894476413727,0.12692928314208984,0.11526710540056229,0.37213876843452454,0.401762992143631,0.12454722076654434,0.13982996344566345,0.35146018862724304,0.35146018862724304,0.16495223343372345,0.1702318638563156,0.22689032554626465,0.2654517889022827,0.2875557243824005,0.30676913261413574,0.07128141820430756,0.03827787563204765,0.8632774353027344,0.9999998211860657,0.4959990382194519,0.4574991762638092,0.1701958179473877,0.1530713587999344,0.16062051057815552,0.16062051057815552,-0.026546955108642578,0.08195600658655167,0.05598621070384979,0.020939210429787636,0.21472017467021942,0.21472017467021942,0.2819797396659851,0.2786889374256134,0.14577177166938782,0.14577177166938782,0.16587290167808533,0.06016954779624939,0.3044828772544861,0.2937726378440857,0.16300217807292938,0.11766473203897476,0.053073007613420486,0.06637224555015564,0.14081528782844543,0.0496956892311573,0.36084994673728943,0.34470218420028687,0.11155965179204941,0.0967024490237236],[0.2085883766412735,0.1558612585067749,0.1128765419125557,0.12870314717292786,0.48329633474349976,0.49306413531303406,0.13776718080043793,0.16075797379016876,0.2336616814136505,0.2336616814136505,0.4165526032447815,0.4369524419307709,0.14309605956077576,0.18037013709545135,0.42689234018325806,0.4472505450248718,0.06968816369771957,0.12217124551534653,0.5159187316894531,0.4959990382194519,1.0,0.9753852486610413,0.3028055727481842,0.2757937014102936,0.03697756305336952,0.03697756305336952,0.06387186795473099,0.14972205460071564,0.05489759519696236,0.019976822659373283,0.39945176243782043,0.39945176243782043,0.2165747731924057,0.21900640428066254,0.08544797450304031,0.08544797450304031,0.21778525412082672,0.12141027301549911,0.22934746742248535,0.2547810673713684,0.32333821058273315,0.2955012619495392,-0.030300723388791084,-0.009664171375334263,0.18291719257831573,0.09433544427156448,0.14289280772209167,0.15558713674545288,0.2599237561225891,0.21104128658771515],[0.17151373624801636,0.12639795243740082,0.1115630492568016,0.13112445175647736,0.42788055539131165,0.4464639723300934,0.14600199460983276,0.15349352359771729,0.24470800161361694,0.24470800161361694,0.399187833070755,0.42379841208457947,0.17786531150341034,0.16999050974845886,0.40357398986816406,0.4522559344768524,0.08190100640058517,0.1549716591835022,0.4355573356151581,0.4574991762638092,0.9753852486610413,0.9999998807907104,0.2956649661064148,0.23794177174568176,0.07302630692720413,0.07302630692720413,0.0543229766190052,0.1196720227599144,0.08779743313789368,0.04566313326358795,0.3791820704936981,0.3791820704936981,0.19279184937477112,0.20335720479488373,0.06881419569253922,0.06881419569253922,0.1960034966468811,0.09954996407032013,0.19286829233169556,0.22089721262454987,0.30714476108551025,0.28824275732040405,-0.02794604003429413,-0.01198967918753624,0.17129556834697723,0.08314241468906403,0.091086745262146,0.10561846941709518,0.2700232267379761,0.21619077026844025],[0.37128522992134094,0.3721260726451874,0.5532968640327454,0.5649425387382507,0.49615877866744995,0.44355785846710205,0.5165423154830933,0.52127605676651,0.17088793218135834,0.17088793218135834,0.8084936141967773,0.8435810804367065,0.19556836783885956,0.3389328718185425,0.08395468443632126,0.17753618955612183,0.16099092364311218,0.10031324625015259,0.24065011739730835,0.1701958179473877,0.3028055727481842,0.2956649661064148,0.9999997019767761,0.9335094094276428,0.06023627147078514,0.06023627147078514,-0.09653938561677933,-0.11316411197185516,0.5926893949508667,0.5810956954956055,0.6226339340209961,0.6226339340209961,0.48428285121917725,0.5205702781677246,0.5696038603782654,0.5696038603782654,0.6440228819847107,0.5643409490585327,0.17360001802444458,0.18088151514530182,0.28806382417678833,0.4012313783168793,0.10121192038059235,0.11617891490459442,0.2601911723613739,0.20337045192718506,0.3232344388961792,0.393342524766922,0.5240195393562317,0.4586182236671448],[0.4376664161682129,0.4924698770046234,0.5114074349403381,0.5242123603820801,0.562567949295044,0.4794437289237976,0.49551963806152344,0.5512484312057495,0.13423290848731995,0.13423290848731995,0.8198947310447693,0.8549078702926636,0.17523756623268127,0.3225330710411072,0.09518636018037796,0.17209286987781525,0.23077832162380219,0.09870143979787827,0.27014875411987305,0.1530713587999344,0.2757937014102936,0.23794177174568176,0.9335094094276428,1.000000238418579,0.029731594026088715,0.029731594026088715,-0.13639047741889954,-0.1434057354927063,0.5267997980117798,0.5102585554122925,0.6636056303977966,0.6636056303977966,0.5394889712333679,0.554405927658081,0.6118837594985962,0.6118837594985962,0.6525932550430298,0.6061035394668579,0.28100961446762085,0.2931414544582367,0.286086767911911,0.3697366416454315,0.14386436343193054,0.1604718416929245,0.3436765968799591,0.2801401615142822,0.3663550317287445,0.4365791976451874,0.39989155530929565,0.3441983163356781],[0.168466255068779,0.08464671671390533,-0.010389811359345913,-0.0019231645856052637,0.03412773460149765,0.07950925827026367,0.05138754844665527,0.011545379646122456,0.5655087232589722,0.5655087232589722,0.01872401311993599,0.03623327612876892,0.3601216971874237,0.27171245217323303,0.25582966208457947,0.231478750705719,0.3236852288246155,0.3330971598625183,0.08094138652086258,0.16062051057815552,0.03697756305336952,0.07302630692720413,0.06023627147078514,0.029731594026088715,0.9999998807907104,0.9999998807907104,0.2866227924823761,0.20296934247016907,0.02761002443730831,0.004562116228044033,0.05623942241072655,0.05623942241072655,0.2077379822731018,0.21779346466064453,0.02240034006536007,0.02240034006536007,0.09837754815816879,0.11504411697387695,0.10090837627649307,0.12368811666965485,0.276576429605484,0.13302099704742432,0.36518874764442444,0.33941367268562317,0.2829524874687195,0.282990425825119,0.2403153032064438,0.24784275889396667,0.17434363067150116,0.20939718186855316],[0.168466255068779,0.08464671671390533,-0.010389811359345913,-0.0019231645856052637,0.03412773460149765,0.07950925827026367,0.05138754844665527,0.011545379646122456,0.5655087232589722,0.5655087232589722,0.01872401311993599,0.03623327612876892,0.3601216971874237,0.27171245217323303,0.25582966208457947,0.231478750705719,0.3236852288246155,0.3330971598625183,0.08094138652086258,0.16062051057815552,0.03697756305336952,0.07302630692720413,0.06023627147078514,0.029731594026088715,0.9999998807907104,0.9999998807907104,0.2866227924823761,0.20296934247016907,0.02761002443730831,0.004562116228044033,0.05623942241072655,0.05623942241072655,0.2077379822731018,0.21779346466064453,0.02240034006536007,0.02240034006536007,0.09837754815816879,0.11504411697387695,0.10090837627649307,0.12368811666965485,0.276576429605484,0.13302099704742432,0.36518874764442444,0.33941367268562317,0.2829524874687195,0.282990425825119,0.2403153032064438,0.24784275889396667,0.17434363067150116,0.20939718186855316],[-0.0025339110288769007,-0.033340130001306534,-0.15160271525382996,-0.1526324599981308,-0.07996441423892975,-0.06855503469705582,-0.05310004949569702,-0.02921614795923233,0.07732944190502167,0.07732944190502167,-0.07615696638822556,-0.07583244144916534,-0.05591567978262901,-0.16133171319961548,0.1532478779554367,0.0836624950170517,0.17862431704998016,0.34715700149536133,-0.0037281971890479326,-0.026546955108642578,0.06387186795473099,0.0543229766190052,-0.09653938561677933,-0.13639047741889954,0.2866227924823761,0.2866227924823761,0.9999998807907104,0.9270192384719849,-0.18329975008964539,-0.18035423755645752,-0.06830379366874695,-0.06830379366874695,-0.038548726588487625,-0.04878777638077736,-0.11769673973321915,-0.11769673973321915,0.027450023218989372,0.045367904007434845,-0.08849203586578369,-0.05637975037097931,0.31328538060188293,0.17356562614440918,-0.11045405268669128,-0.1094944030046463,0.40677300095558167,0.4284839332103729,0.10343290120363235,0.021707383915781975,0.13703623414039612,0.12537871301174164],[0.04925321042537689,-0.01646238937973976,-0.1688583642244339,-0.17499153316020966,0.007115854416042566,0.01481314655393362,-0.04469848424196243,0.03371840715408325,0.040112510323524475,0.040112510323524475,-0.09485038369894028,-0.08118065446615219,0.0031464239582419395,-0.10239759087562561,0.1778174340724945,0.10560882836580276,0.06715668737888336,0.23019061982631683,0.09404092282056808,0.08195600658655167,0.14972205460071564,0.1196720227599144,-0.11316411197185516,-0.1434057354927063,0.20296934247016907,0.20296934247016907,0.9270192384719849,1.0000001192092896,-0.21954575181007385,-0.19606436789035797,-0.0606042742729187,-0.0606042742729187,-0.10339560359716415,-0.110764279961586,-0.1062372550368309,-0.1062372550368309,-0.008699275553226471,0.003089228877797723,-0.05997054651379585,-0.03715740516781807,0.2656169533729553,0.14145101606845856,-0.08729956299066544,-0.08853428065776825,0.33052170276641846,0.31210145354270935,0.10585050284862518,0.04762705788016319,0.15001201629638672,0.14873604476451874],[0.3410680294036865,0.22433336079120636,0.7793688774108887,0.7879173159599304,0.20458996295928955,0.1450265645980835,0.3150891661643982,0.24456553161144257,0.03338168188929558,0.03338168188929558,0.42096057534217834,0.45330312848091125,0.09706579148769379,0.22155293822288513,-0.05308385565876961,0.07454169541597366,-0.013458763249218464,-0.020776821300387383,0.12752029299736023,0.05598621070384979,0.05489759519696236,0.08779743313789368,0.5926893949508667,0.5267997980117798,0.02761002443730831,0.02761002443730831,-0.18329975008964539,-0.21954575181007385,0.9999998211860657,0.9541691541671753,0.41783806681632996,0.41783806681632996,0.21587397158145905,0.2789127826690674,0.6783232688903809,0.6783232688903809,0.39646849036216736,0.39273762702941895,-0.10565423965454102,-0.10230752825737,0.11796839535236359,0.25508883595466614,0.11455801874399185,0.12568743526935577,0.05728663131594658,0.009934136644005775,0.07452072203159332,0.15309131145477295,0.4187299907207489,0.3370205760002136],[0.34644684195518494,0.22357994318008423,0.7505220770835876,0.7641524076461792,0.26261287927627563,0.21104615926742554,0.2815350294113159,0.25318238139152527,-0.03873308748006821,-0.03873308748006821,0.38896238803863525,0.43286529183387756,0.0883152186870575,0.18020685017108917,-0.04814687743782997,0.07679333537817001,0.011884109117090702,-0.009256047196686268,0.10415122658014297,0.020939210429787636,0.019976822659373283,0.04566313326358795,0.5810956954956055,0.5102585554122925,0.004562116228044033,0.004562116228044033,-0.18035423755645752,-0.19606436789035797,0.9541691541671753,1.0,0.3555113673210144,0.3555113673210144,0.14932318031787872,0.23806272447109222,0.6841291189193726,0.6841291189193726,0.42550361156463623,0.4057610034942627,-0.10985187441110611,-0.10141927003860474,0.0986228957772255,0.29313892126083374,0.13554000854492188,0.14612217247486115,0.061590775847435,0.033456914126873016,0.05567508190870285,0.17755188047885895,0.39889034628868103,0.3536286950111389],[0.4625677466392517,0.5170205235481262,0.43731898069381714,0.42525675892829895,0.41264718770980835,0.36426645517349243,0.44426241517066956,0.344875305891037,0.16608312726020813,0.16608312726020813,0.5439467430114746,0.5610463619232178,0.1502574235200882,0.3319002687931061,0.18597230315208435,0.2335352599620819,0.22641262412071228,0.18111959099769592,0.20876021683216095,0.21472017467021942,0.39945176243782043,0.3791820704936981,0.6226339340209961,0.6636056303977966,0.05623942241072655,0.05623942241072655,-0.06830379366874695,-0.0606042742729187,0.41783806681632996,0.3555113673210144,0.9999997019767761,0.9999997019767761,0.4540090560913086,0.4558528661727905,0.44614073634147644,0.44614073634147644,0.5775545835494995,0.6053360104560852,0.24222418665885925,0.2572183310985565,0.3580799102783203,0.24320557713508606,0.1560613363981247,0.1699417531490326,0.438422292470932,0.3718591034412384,0.4488617479801178,0.47590380907058716,0.30191442370414734,0.2266448438167572],[0.4625677466392517,0.5170205235481262,0.43731898069381714,0.42525675892829895,0.41264718770980835,0.36426645517349243,0.44426241517066956,0.344875305891037,0.16608312726020813,0.16608312726020813,0.5439467430114746,0.5610463619232178,0.1502574235200882,0.3319002687931061,0.18597230315208435,0.2335352599620819,0.22641262412071228,0.18111959099769592,0.20876021683216095,0.21472017467021942,0.39945176243782043,0.3791820704936981,0.6226339340209961,0.6636056303977966,0.05623942241072655,0.05623942241072655,-0.06830379366874695,-0.0606042742729187,0.41783806681632996,0.3555113673210144,0.9999997019767761,0.9999997019767761,0.4540090560913086,0.4558528661727905,0.44614073634147644,0.44614073634147644,0.5775545835494995,0.6053360104560852,0.24222418665885925,0.2572183310985565,0.3580799102783203,0.24320557713508606,0.1560613363981247,0.1699417531490326,0.438422292470932,0.3718591034412384,0.4488617479801178,0.47590380907058716,0.30191442370414734,0.2266448438167572],[0.5786383748054504,0.626879870891571,0.38100361824035645,0.37426644563674927,0.31246495246887207,0.2553636431694031,0.6448286175727844,0.5479679107666016,0.4926683008670807,0.4926683008670807,0.5199323296546936,0.4975614845752716,0.48207759857177734,0.620754063129425,0.27629339694976807,0.34334075450897217,0.5477160811424255,0.38894256949424744,0.33533918857574463,0.2819797396659851,0.2165747731924057,0.19279184937477112,0.48428285121917725,0.5394889712333679,0.2077379822731018,0.2077379822731018,-0.038548726588487625,-0.10339560359716415,0.21587397158145905,0.14932318031787872,0.4540090560913086,0.4540090560913086,1.000000238418579,0.9384440779685974,0.31538811326026917,0.31538811326026917,0.5243327617645264,0.4453255534172058,0.5389660000801086,0.5462534427642822,0.3958134651184082,0.3362422585487366,0.379526823759079,0.3998721241950989,0.4891153872013092,0.4585704803466797,0.580249547958374,0.5872991681098938,0.3064931035041809,0.26458537578582764],[0.6162403225898743,0.6388711929321289,0.4356418550014496,0.4203580915927887,0.32943055033683777,0.27132266759872437,0.716624915599823,0.5949798226356506,0.43444034457206726,0.43444034457206726,0.48620346188545227,0.4754408299922943,0.5028730034828186,0.6677373647689819,0.2542789578437805,0.3283938467502594,0.5009601712226868,0.35360586643218994,0.3010983467102051,0.2786889374256134,0.21900640428066254,0.20335720479488373,0.5205702781677246,0.554405927658081,0.21779346466064453,0.21779346466064453,-0.04878777638077736,-0.110764279961586,0.2789127826690674,0.23806272447109222,0.4558528661727905,0.4558528661727905,0.9384440779685974,1.0000001192092896,0.38128799200057983,0.38128799200057983,0.5876922011375427,0.4956415295600891,0.3942277431488037,0.4036705791950226,0.3717203438282013,0.37561169266700745,0.33222126960754395,0.3415687084197998,0.45958495140075684,0.40047192573547363,0.5604766011238098,0.5917348265647888,0.3489995300769806,0.3302653729915619],[0.43000733852386475,0.3742016553878784,0.6507876515388489,0.6603959798812866,0.3147570490837097,0.21823789179325104,0.35866254568099976,0.37386929988861084,-0.004717522766441107,-0.004717522766441107,0.375667542219162,0.40008971095085144,0.12695902585983276,0.3034661114215851,0.10393010079860687,0.18186087906360626,0.07588254660367966,-0.013817907311022282,0.23649226129055023,0.14577177166938782,0.08544797450304031,0.06881419569253922,0.5696038603782654,0.6118837594985962,0.02240034006536007,0.02240034006536007,-0.11769673973321915,-0.1062372550368309,0.6783232688903809,0.6841291189193726,0.44614073634147644,0.44614073634147644,0.31538811326026917,0.38128799200057983,1.0,1.0,0.39189329743385315,0.43337175250053406,0.10199909657239914,0.10058560222387314,0.13291916251182556,0.167940154671669,0.26926061511039734,0.28703075647354126,0.12174505740404129,0.07263222336769104,0.13422039151191711,0.24891754984855652,0.11847176402807236,0.09115095436573029],[0.43000733852386475,0.3742016553878784,0.6507876515388489,0.6603959798812866,0.3147570490837097,0.21823789179325104,0.35866254568099976,0.37386929988861084,-0.004717522766441107,-0.004717522766441107,0.375667542219162,0.40008971095085144,0.12695902585983276,0.3034661114215851,0.10393010079860687,0.18186087906360626,0.07588254660367966,-0.013817907311022282,0.23649226129055023,0.14577177166938782,0.08544797450304031,0.06881419569253922,0.5696038603782654,0.6118837594985962,0.02240034006536007,0.02240034006536007,-0.11769673973321915,-0.1062372550368309,0.6783232688903809,0.6841291189193726,0.44614073634147644,0.44614073634147644,0.31538811326026917,0.38128799200057983,1.0,1.0,0.39189329743385315,0.43337175250053406,0.10199909657239914,0.10058560222387314,0.13291916251182556,0.167940154671669,0.26926061511039734,0.28703075647354126,0.12174505740404129,0.07263222336769104,0.13422039151191711,0.24891754984855652,0.11847176402807236,0.09115095436573029],[0.5685576796531677,0.612290620803833,0.37201836705207825,0.34031379222869873,0.2999189496040344,0.27645638585090637,0.4510241448879242,0.36715075373649597,0.18299412727355957,0.18299412727355957,0.4552538990974426,0.5006313920021057,0.20797839760780334,0.26806899905204773,0.2636406719684601,0.3347509205341339,0.4349023401737213,0.29896679520606995,0.1953650712966919,0.16587290167808533,0.21778525412082672,0.1960034966468811,0.6440228819847107,0.6525932550430298,0.09837754815816879,0.09837754815816879,0.027450023218989372,-0.008699275553226471,0.39646849036216736,0.42550361156463623,0.5775545835494995,0.5775545835494995,0.5243327617645264,0.5876922011375427,0.39189329743385315,0.39189329743385315,0.9999997615814209,0.9155299067497253,0.12469383329153061,0.13961784541606903,0.44566604495048523,0.5500600934028625,0.23703444004058838,0.2407393902540207,0.5567038059234619,0.43354687094688416,0.4890386760234833,0.5908295512199402,0.4863046705722809,0.45145726203918457],[0.5968539118766785,0.6503558158874512,0.370077908039093,0.32404211163520813,0.24060899019241333,0.20465844869613647,0.4150315225124359,0.33827608823776245,0.1465522050857544,0.1465522050857544,0.31725478172302246,0.3742017447948456,0.18448910117149353,0.2568342685699463,0.22418496012687683,0.2706333100795746,0.42731860280036926,0.31702014803886414,0.07001147419214249,0.06016954779624939,0.12141027301549911,0.09954996407032013,0.5643409490585327,0.6061035394668579,0.11504411697387695,0.11504411697387695,0.045367904007434845,0.003089228877797723,0.39273762702941895,0.4057610034942627,0.6053360104560852,0.6053360104560852,0.4453255534172058,0.4956415295600891,0.43337175250053406,0.43337175250053406,0.9155299067497253,1.000000238418579,0.0495385117828846,0.05633512884378433,0.418925017118454,0.40315285325050354,0.24205641448497772,0.23517416417598724,0.5737130641937256,0.46934425830841064,0.4225234091281891,0.5041689276695251,0.3660643696784973,0.34008675813674927],[0.2536328136920929,0.33185875415802,0.01536999549716711,0.04755028709769249,0.40765616297721863,0.41549038887023926,0.13643333315849304,0.27717381715774536,0.3858959972858429,0.3858959972858429,0.36340200901031494,0.36381909251213074,0.4431634843349457,0.3697385787963867,0.2600303292274475,0.28506794571876526,0.4496834874153137,0.32023242115974426,0.2708309292793274,0.3044828772544861,0.22934746742248535,0.19286829233169556,0.17360001802444458,0.28100961446762085,0.10090837627649307,0.10090837627649307,-0.08849203586578369,-0.05997054651379585,-0.10565423965454102,-0.10985187441110611,0.24222418665885925,0.24222418665885925,0.5389660000801086,0.3942277431488037,0.10199909657239914,0.10199909657239914,0.12469383329153061,0.0495385117828846,0.9999999403953552,0.9892743825912476,0.061041735112667084,0.03421073406934738,0.14557874202728271,0.19432099163532257,0.2365543693304062,0.23937971889972687,0.2957373857498169,0.3347459137439728,0.06401477754116058,0.023781783878803253],[0.25844016671180725,0.3463866710662842,0.009140191599726677,0.045361947268247604,0.39455991983413696,0.4036247730255127,0.11825412511825562,0.26285672187805176,0.3873584270477295,0.3873584270477295,0.38899293541908264,0.3923393189907074,0.41925662755966187,0.3335796594619751,0.28472235798835754,0.3092963397502899,0.4907139241695404,0.3713531196117401,0.27281811833381653,0.2937726378440857,0.2547810673713684,0.22089721262454987,0.18088151514530182,0.2931414544582367,0.12368811666965485,0.12368811666965485,-0.05637975037097931,-0.03715740516781807,-0.10230752825737,-0.10141927003860474,0.2572183310985565,0.2572183310985565,0.5462534427642822,0.4036705791950226,0.10058560222387314,0.10058560222387314,0.13961784541606903,0.05633512884378433,0.9892743825912476,1.0000001192092896,0.09496144205331802,0.06859567016363144,0.13293848931789398,0.18334737420082092,0.277908056974411,0.2825271487236023,0.30205610394477844,0.34780678153038025,0.08959423005580902,0.043177153915166855],[0.38112542033195496,0.4032788872718811,0.15015865862369537,0.1629866659641266,0.20103077590465546,0.17326508462429047,0.18565383553504944,0.05220329388976097,0.3028503954410553,0.3028503954410553,0.2721780836582184,0.25963085889816284,0.15746477246284485,0.23934000730514526,0.21284645795822144,0.22649259865283966,0.6012217402458191,0.6487285494804382,0.1797172576189041,0.16300217807292938,0.32333821058273315,0.30714476108551025,0.28806382417678833,0.286086767911911,0.276576429605484,0.276576429605484,0.31328538060188293,0.2656169533729553,0.11796839535236359,0.0986228957772255,0.3580799102783203,0.3580799102783203,0.3958134651184082,0.3717203438282013,0.13291916251182556,0.13291916251182556,0.44566604495048523,0.418925017118454,0.061041735112667084,0.09496144205331802,0.9999998211860657,0.8120449781417847,0.2926673889160156,0.30802324414253235,0.6958279609680176,0.5461053252220154,0.45216041803359985,0.39151880145072937,0.2085399627685547,0.23491531610488892],[0.2776722311973572,0.3124147057533264,0.22017332911491394,0.2382647693157196,0.22806517779827118,0.20141048729419708,0.18557049334049225,0.12849107384681702,0.21024870872497559,0.21024870872497559,0.4046429991722107,0.40899473428726196,0.2328859120607376,0.2283855527639389,0.1906019002199173,0.2517602741718292,0.547667920589447,0.5715137124061584,0.16917330026626587,0.11766473203897476,0.2955012619495392,0.28824275732040405,0.4012313783168793,0.3697366416454315,0.13302099704742432,0.13302099704742432,0.17356562614440918,0.14145101606845856,0.25508883595466614,0.29313892126083374,0.24320557713508606,0.24320557713508606,0.3362422585487366,0.37561169266700745,0.167940154671669,0.167940154671669,0.5500600934028625,0.40315285325050354,0.03421073406934738,0.06859567016363144,0.8120449781417847,1.0000001192092896,0.24064764380455017,0.24056747555732727,0.520595371723175,0.3762432932853699,0.3267195224761963,0.33727386593818665,0.35890865325927734,0.38584715127944946],[0.4336202144622803,0.367444783449173,0.15566542744636536,0.1654631793498993,0.1416195034980774,0.1347670555114746,0.2289181351661682,0.1749420464038849,0.31811851263046265,0.31811851263046265,0.0586472786962986,0.05703600123524666,0.3617064654827118,0.44221416115760803,0.2497277408838272,0.25969693064689636,0.40650054812431335,0.25087541341781616,0.02038986049592495,0.053073007613420486,-0.030300723388791084,-0.02794604003429413,0.10121192038059235,0.14386436343193054,0.36518874764442444,0.36518874764442444,-0.11045405268669128,-0.08729956299066544,0.11455801874399185,0.13554000854492188,0.1560613363981247,0.1560613363981247,0.379526823759079,0.33222126960754395,0.26926061511039734,0.26926061511039734,0.23703444004058838,0.24205641448497772,0.14557874202728271,0.13293848931789398,0.2926673889160156,0.24064764380455017,0.9999998211860657,0.9898098707199097,0.27994176745414734,0.2293938398361206,0.27691105008125305,0.3672800660133362,0.0587751679122448,0.10819032043218613],[0.46358343958854675,0.3910733163356781,0.171722874045372,0.18773484230041504,0.16587558388710022,0.1565375179052353,0.22576633095741272,0.17087717354297638,0.3451198637485504,0.3451198637485504,0.08065351843833923,0.07880723476409912,0.34357717633247375,0.43908947706222534,0.27255430817604065,0.2824075222015381,0.4180789887905121,0.25820183753967285,0.042896028608083725,0.06637224555015564,-0.009664171375334263,-0.01198967918753624,0.11617891490459442,0.1604718416929245,0.33941367268562317,0.33941367268562317,-0.1094944030046463,-0.08853428065776825,0.12568743526935577,0.14612217247486115,0.1699417531490326,0.1699417531490326,0.3998721241950989,0.3415687084197998,0.28703075647354126,0.28703075647354126,0.2407393902540207,0.23517416417598724,0.19432099163532257,0.18334737420082092,0.30802324414253235,0.24056747555732727,0.9898098707199097,1.000000238418579,0.2800482511520386,0.23418712615966797,0.2886843979358673,0.3797135055065155,0.049033649265766144,0.08748344331979752],[0.5143438577651978,0.6541377305984497,0.11442329734563828,0.11461614072322845,0.2691703140735626,0.2698281407356262,0.3652896285057068,0.30166250467300415,0.2542251646518707,0.2542251646518707,0.26410624384880066,0.27709832787513733,0.23494777083396912,0.2426343858242035,0.21837860345840454,0.25431013107299805,0.6765637993812561,0.651355504989624,0.1796218454837799,0.14081528782844543,0.18291719257831573,0.17129556834697723,0.2601911723613739,0.3436765968799591,0.2829524874687195,0.2829524874687195,0.40677300095558167,0.33052170276641846,0.05728663131594658,0.061590775847435,0.438422292470932,0.438422292470932,0.4891153872013092,0.45958495140075684,0.12174505740404129,0.12174505740404129,0.5567038059234619,0.5737130641937256,0.2365543693304062,0.277908056974411,0.6958279609680176,0.520595371723175,0.27994176745414734,0.2800482511520386,0.9999998807907104,0.9243444204330444,0.4962255358695984,0.5259833931922913,0.2997046411037445,0.30145081877708435],[0.44708698987960815,0.599881112575531,0.1285855770111084,0.13079118728637695,0.22118470072746277,0.21731121838092804,0.334748774766922,0.265342116355896,0.2849132716655731,0.2849132716655731,0.2654650807380676,0.2674902677536011,0.15603087842464447,0.1734960526227951,0.21529211103916168,0.26081937551498413,0.6141639947891235,0.5948188900947571,0.12392087280750275,0.0496956892311573,0.09433544427156448,0.08314241468906403,0.20337045192718506,0.2801401615142822,0.282990425825119,0.282990425825119,0.4284839332103729,0.31210145354270935,0.009934136644005775,0.033456914126873016,0.3718591034412384,0.3718591034412384,0.4585704803466797,0.40047192573547363,0.07263222336769104,0.07263222336769104,0.43354687094688416,0.46934425830841064,0.23937971889972687,0.2825271487236023,0.5461053252220154,0.3762432932853699,0.2293938398361206,0.23418712615966797,0.9243444204330444,1.000000238418579,0.4267151951789856,0.478145956993103,0.20794454216957092,0.19063636660575867],[0.5250225067138672,0.578681468963623,0.18094025552272797,0.1440909057855606,0.3845520317554474,0.3534908592700958,0.41965213418006897,0.3647956848144531,0.32813751697540283,0.32813751697540283,0.2826743721961975,0.28025394678115845,0.20398223400115967,0.4122101366519928,0.21523697674274445,0.21070674061775208,0.45884600281715393,0.3657967150211334,0.3305034935474396,0.36084994673728943,0.14289280772209167,0.091086745262146,0.3232344388961792,0.3663550317287445,0.2403153032064438,0.2403153032064438,0.10343290120363235,0.10585050284862518,0.07452072203159332,0.05567508190870285,0.4488617479801178,0.4488617479801178,0.580249547958374,0.5604766011238098,0.13422039151191711,0.13422039151191711,0.4890386760234833,0.4225234091281891,0.2957373857498169,0.30205610394477844,0.45216041803359985,0.3267195224761963,0.27691105008125305,0.2886843979358673,0.4962255358695984,0.4267151951789856,1.000000238418579,0.9325137734413147,0.107620008289814,0.13324370980262756],[0.6259687542915344,0.666703999042511,0.25968852639198303,0.23264086246490479,0.4399290680885315,0.42414340376853943,0.46111056208610535,0.42186081409454346,0.3133607804775238,0.3133607804775238,0.3536185920238495,0.3675514757633209,0.24983808398246765,0.4542231559753418,0.29766157269477844,0.3179062604904175,0.468833327293396,0.3346063792705536,0.3502626419067383,0.34470218420028687,0.15558713674545288,0.10561846941709518,0.393342524766922,0.4365791976451874,0.24784275889396667,0.24784275889396667,0.021707383915781975,0.04762705788016319,0.15309131145477295,0.17755188047885895,0.47590380907058716,0.47590380907058716,0.5872991681098938,0.5917348265647888,0.24891754984855652,0.24891754984855652,0.5908295512199402,0.5041689276695251,0.3347459137439728,0.34780678153038025,0.39151880145072937,0.33727386593818665,0.3672800660133362,0.3797135055065155,0.5259833931922913,0.478145956993103,0.9325137734413147,1.0,0.20780111849308014,0.22049514949321747],[0.20922397077083588,0.11522538214921951,0.2749289274215698,0.27668651938438416,0.1666845828294754,0.2121346890926361,0.3422420918941498,0.32190951704978943,0.12894931435585022,0.12894931435585022,0.4492979347705841,0.48483023047447205,0.3291819393634796,0.22139762341976166,0.19312156736850739,0.2452397495508194,0.10358525812625885,0.11944043636322021,0.15095369517803192,0.11155965179204941,0.2599237561225891,0.2700232267379761,0.5240195393562317,0.39989155530929565,0.17434363067150116,0.17434363067150116,0.13703623414039612,0.15001201629638672,0.4187299907207489,0.39889034628868103,0.30191442370414734,0.30191442370414734,0.3064931035041809,0.3489995300769806,0.11847176402807236,0.11847176402807236,0.4863046705722809,0.3660643696784973,0.06401477754116058,0.08959423005580902,0.2085399627685547,0.35890865325927734,0.0587751679122448,0.049033649265766144,0.2997046411037445,0.20794454216957092,0.107620008289814,0.20780111849308014,1.0000001192092896,0.9513443112373352],[0.1941913664340973,0.11046092957258224,0.17514245212078094,0.17498531937599182,0.17505384981632233,0.22213557362556458,0.33805251121520996,0.3470107614994049,0.06503787636756897,0.06503787636756897,0.3355795443058014,0.3770645558834076,0.3674415946006775,0.23665176331996918,0.18476799130439758,0.2168736457824707,0.11641130596399307,0.12089424580335617,0.10421733558177948,0.0967024490237236,0.21104128658771515,0.21619077026844025,0.4586182236671448,0.3441983163356781,0.20939718186855316,0.20939718186855316,0.12537871301174164,0.14873604476451874,0.3370205760002136,0.3536286950111389,0.2266448438167572,0.2266448438167572,0.26458537578582764,0.3302653729915619,0.09115095436573029,0.09115095436573029,0.45145726203918457,0.34008675813674927,0.023781783878803253,0.043177153915166855,0.23491531610488892,0.38584715127944946,0.10819032043218613,0.08748344331979752,0.30145081877708435,0.19063636660575867,0.13324370980262756,0.22049514949321747,0.9513443112373352,1.0000001192092896]],\"type\":\"heatmap\",\"xaxis\":\"x\",\"yaxis\":\"y\",\"hovertemplate\":\"x: %{x}\\u003cbr\\u003ey: %{y}\\u003cbr\\u003ecolor: %{z}\\u003cextra\\u003e\\u003c\\u002fextra\\u003e\"}],                        {\"template\":{\"data\":{\"histogram2dcontour\":[{\"type\":\"histogram2dcontour\",\"colorbar\":{\"outlinewidth\":0,\"ticks\":\"\"},\"colorscale\":[[0.0,\"#0d0887\"],[0.1111111111111111,\"#46039f\"],[0.2222222222222222,\"#7201a8\"],[0.3333333333333333,\"#9c179e\"],[0.4444444444444444,\"#bd3786\"],[0.5555555555555556,\"#d8576b\"],[0.6666666666666666,\"#ed7953\"],[0.7777777777777778,\"#fb9f3a\"],[0.8888888888888888,\"#fdca26\"],[1.0,\"#f0f921\"]]}],\"choropleth\":[{\"type\":\"choropleth\",\"colorbar\":{\"outlinewidth\":0,\"ticks\":\"\"}}],\"histogram2d\":[{\"type\":\"histogram2d\",\"colorbar\":{\"outlinewidth\":0,\"ticks\":\"\"},\"colorscale\":[[0.0,\"#0d0887\"],[0.1111111111111111,\"#46039f\"],[0.2222222222222222,\"#7201a8\"],[0.3333333333333333,\"#9c179e\"],[0.4444444444444444,\"#bd3786\"],[0.5555555555555556,\"#d8576b\"],[0.6666666666666666,\"#ed7953\"],[0.7777777777777778,\"#fb9f3a\"],[0.8888888888888888,\"#fdca26\"],[1.0,\"#f0f921\"]]}],\"heatmap\":[{\"type\":\"heatmap\",\"colorbar\":{\"outlinewidth\":0,\"ticks\":\"\"},\"colorscale\":[[0.0,\"#0d0887\"],[0.1111111111111111,\"#46039f\"],[0.2222222222222222,\"#7201a8\"],[0.3333333333333333,\"#9c179e\"],[0.4444444444444444,\"#bd3786\"],[0.5555555555555556,\"#d8576b\"],[0.6666666666666666,\"#ed7953\"],[0.7777777777777778,\"#fb9f3a\"],[0.8888888888888888,\"#fdca26\"],[1.0,\"#f0f921\"]]}],\"heatmapgl\":[{\"type\":\"heatmapgl\",\"colorbar\":{\"outlinewidth\":0,\"ticks\":\"\"},\"colorscale\":[[0.0,\"#0d0887\"],[0.1111111111111111,\"#46039f\"],[0.2222222222222222,\"#7201a8\"],[0.3333333333333333,\"#9c179e\"],[0.4444444444444444,\"#bd3786\"],[0.5555555555555556,\"#d8576b\"],[0.6666666666666666,\"#ed7953\"],[0.7777777777777778,\"#fb9f3a\"],[0.8888888888888888,\"#fdca26\"],[1.0,\"#f0f921\"]]}],\"contourcarpet\":[{\"type\":\"contourcarpet\",\"colorbar\":{\"outlinewidth\":0,\"ticks\":\"\"}}],\"contour\":[{\"type\":\"contour\",\"colorbar\":{\"outlinewidth\":0,\"ticks\":\"\"},\"colorscale\":[[0.0,\"#0d0887\"],[0.1111111111111111,\"#46039f\"],[0.2222222222222222,\"#7201a8\"],[0.3333333333333333,\"#9c179e\"],[0.4444444444444444,\"#bd3786\"],[0.5555555555555556,\"#d8576b\"],[0.6666666666666666,\"#ed7953\"],[0.7777777777777778,\"#fb9f3a\"],[0.8888888888888888,\"#fdca26\"],[1.0,\"#f0f921\"]]}],\"surface\":[{\"type\":\"surface\",\"colorbar\":{\"outlinewidth\":0,\"ticks\":\"\"},\"colorscale\":[[0.0,\"#0d0887\"],[0.1111111111111111,\"#46039f\"],[0.2222222222222222,\"#7201a8\"],[0.3333333333333333,\"#9c179e\"],[0.4444444444444444,\"#bd3786\"],[0.5555555555555556,\"#d8576b\"],[0.6666666666666666,\"#ed7953\"],[0.7777777777777778,\"#fb9f3a\"],[0.8888888888888888,\"#fdca26\"],[1.0,\"#f0f921\"]]}],\"mesh3d\":[{\"type\":\"mesh3d\",\"colorbar\":{\"outlinewidth\":0,\"ticks\":\"\"}}],\"scatter\":[{\"fillpattern\":{\"fillmode\":\"overlay\",\"size\":10,\"solidity\":0.2},\"type\":\"scatter\"}],\"parcoords\":[{\"type\":\"parcoords\",\"line\":{\"colorbar\":{\"outlinewidth\":0,\"ticks\":\"\"}}}],\"scatterpolargl\":[{\"type\":\"scatterpolargl\",\"marker\":{\"colorbar\":{\"outlinewidth\":0,\"ticks\":\"\"}}}],\"bar\":[{\"error_x\":{\"color\":\"#2a3f5f\"},\"error_y\":{\"color\":\"#2a3f5f\"},\"marker\":{\"line\":{\"color\":\"#E5ECF6\",\"width\":0.5},\"pattern\":{\"fillmode\":\"overlay\",\"size\":10,\"solidity\":0.2}},\"type\":\"bar\"}],\"scattergeo\":[{\"type\":\"scattergeo\",\"marker\":{\"colorbar\":{\"outlinewidth\":0,\"ticks\":\"\"}}}],\"scatterpolar\":[{\"type\":\"scatterpolar\",\"marker\":{\"colorbar\":{\"outlinewidth\":0,\"ticks\":\"\"}}}],\"histogram\":[{\"marker\":{\"pattern\":{\"fillmode\":\"overlay\",\"size\":10,\"solidity\":0.2}},\"type\":\"histogram\"}],\"scattergl\":[{\"type\":\"scattergl\",\"marker\":{\"colorbar\":{\"outlinewidth\":0,\"ticks\":\"\"}}}],\"scatter3d\":[{\"type\":\"scatter3d\",\"line\":{\"colorbar\":{\"outlinewidth\":0,\"ticks\":\"\"}},\"marker\":{\"colorbar\":{\"outlinewidth\":0,\"ticks\":\"\"}}}],\"scattermapbox\":[{\"type\":\"scattermapbox\",\"marker\":{\"colorbar\":{\"outlinewidth\":0,\"ticks\":\"\"}}}],\"scatterternary\":[{\"type\":\"scatterternary\",\"marker\":{\"colorbar\":{\"outlinewidth\":0,\"ticks\":\"\"}}}],\"scattercarpet\":[{\"type\":\"scattercarpet\",\"marker\":{\"colorbar\":{\"outlinewidth\":0,\"ticks\":\"\"}}}],\"carpet\":[{\"aaxis\":{\"endlinecolor\":\"#2a3f5f\",\"gridcolor\":\"white\",\"linecolor\":\"white\",\"minorgridcolor\":\"white\",\"startlinecolor\":\"#2a3f5f\"},\"baxis\":{\"endlinecolor\":\"#2a3f5f\",\"gridcolor\":\"white\",\"linecolor\":\"white\",\"minorgridcolor\":\"white\",\"startlinecolor\":\"#2a3f5f\"},\"type\":\"carpet\"}],\"table\":[{\"cells\":{\"fill\":{\"color\":\"#EBF0F8\"},\"line\":{\"color\":\"white\"}},\"header\":{\"fill\":{\"color\":\"#C8D4E3\"},\"line\":{\"color\":\"white\"}},\"type\":\"table\"}],\"barpolar\":[{\"marker\":{\"line\":{\"color\":\"#E5ECF6\",\"width\":0.5},\"pattern\":{\"fillmode\":\"overlay\",\"size\":10,\"solidity\":0.2}},\"type\":\"barpolar\"}],\"pie\":[{\"automargin\":true,\"type\":\"pie\"}]},\"layout\":{\"autotypenumbers\":\"strict\",\"colorway\":[\"#636efa\",\"#EF553B\",\"#00cc96\",\"#ab63fa\",\"#FFA15A\",\"#19d3f3\",\"#FF6692\",\"#B6E880\",\"#FF97FF\",\"#FECB52\"],\"font\":{\"color\":\"#2a3f5f\"},\"hovermode\":\"closest\",\"hoverlabel\":{\"align\":\"left\"},\"paper_bgcolor\":\"white\",\"plot_bgcolor\":\"#E5ECF6\",\"polar\":{\"bgcolor\":\"#E5ECF6\",\"angularaxis\":{\"gridcolor\":\"white\",\"linecolor\":\"white\",\"ticks\":\"\"},\"radialaxis\":{\"gridcolor\":\"white\",\"linecolor\":\"white\",\"ticks\":\"\"}},\"ternary\":{\"bgcolor\":\"#E5ECF6\",\"aaxis\":{\"gridcolor\":\"white\",\"linecolor\":\"white\",\"ticks\":\"\"},\"baxis\":{\"gridcolor\":\"white\",\"linecolor\":\"white\",\"ticks\":\"\"},\"caxis\":{\"gridcolor\":\"white\",\"linecolor\":\"white\",\"ticks\":\"\"}},\"coloraxis\":{\"colorbar\":{\"outlinewidth\":0,\"ticks\":\"\"}},\"colorscale\":{\"sequential\":[[0.0,\"#0d0887\"],[0.1111111111111111,\"#46039f\"],[0.2222222222222222,\"#7201a8\"],[0.3333333333333333,\"#9c179e\"],[0.4444444444444444,\"#bd3786\"],[0.5555555555555556,\"#d8576b\"],[0.6666666666666666,\"#ed7953\"],[0.7777777777777778,\"#fb9f3a\"],[0.8888888888888888,\"#fdca26\"],[1.0,\"#f0f921\"]],\"sequentialminus\":[[0.0,\"#0d0887\"],[0.1111111111111111,\"#46039f\"],[0.2222222222222222,\"#7201a8\"],[0.3333333333333333,\"#9c179e\"],[0.4444444444444444,\"#bd3786\"],[0.5555555555555556,\"#d8576b\"],[0.6666666666666666,\"#ed7953\"],[0.7777777777777778,\"#fb9f3a\"],[0.8888888888888888,\"#fdca26\"],[1.0,\"#f0f921\"]],\"diverging\":[[0,\"#8e0152\"],[0.1,\"#c51b7d\"],[0.2,\"#de77ae\"],[0.3,\"#f1b6da\"],[0.4,\"#fde0ef\"],[0.5,\"#f7f7f7\"],[0.6,\"#e6f5d0\"],[0.7,\"#b8e186\"],[0.8,\"#7fbc41\"],[0.9,\"#4d9221\"],[1,\"#276419\"]]},\"xaxis\":{\"gridcolor\":\"white\",\"linecolor\":\"white\",\"ticks\":\"\",\"title\":{\"standoff\":15},\"zerolinecolor\":\"white\",\"automargin\":true,\"zerolinewidth\":2},\"yaxis\":{\"gridcolor\":\"white\",\"linecolor\":\"white\",\"ticks\":\"\",\"title\":{\"standoff\":15},\"zerolinecolor\":\"white\",\"automargin\":true,\"zerolinewidth\":2},\"scene\":{\"xaxis\":{\"backgroundcolor\":\"#E5ECF6\",\"gridcolor\":\"white\",\"linecolor\":\"white\",\"showbackground\":true,\"ticks\":\"\",\"zerolinecolor\":\"white\",\"gridwidth\":2},\"yaxis\":{\"backgroundcolor\":\"#E5ECF6\",\"gridcolor\":\"white\",\"linecolor\":\"white\",\"showbackground\":true,\"ticks\":\"\",\"zerolinecolor\":\"white\",\"gridwidth\":2},\"zaxis\":{\"backgroundcolor\":\"#E5ECF6\",\"gridcolor\":\"white\",\"linecolor\":\"white\",\"showbackground\":true,\"ticks\":\"\",\"zerolinecolor\":\"white\",\"gridwidth\":2}},\"shapedefaults\":{\"line\":{\"color\":\"#2a3f5f\"}},\"annotationdefaults\":{\"arrowcolor\":\"#2a3f5f\",\"arrowhead\":0,\"arrowwidth\":1},\"geo\":{\"bgcolor\":\"white\",\"landcolor\":\"#E5ECF6\",\"subunitcolor\":\"white\",\"showland\":true,\"showlakes\":true,\"lakecolor\":\"white\"},\"title\":{\"x\":0.05},\"mapbox\":{\"style\":\"light\"}}},\"xaxis\":{\"anchor\":\"y\",\"domain\":[0.0,1.0],\"scaleanchor\":\"y\",\"constrain\":\"domain\"},\"yaxis\":{\"anchor\":\"x\",\"domain\":[0.0,1.0],\"autorange\":\"reversed\",\"constrain\":\"domain\"},\"coloraxis\":{\"colorscale\":[[0.0,\"#440154\"],[0.1111111111111111,\"#482878\"],[0.2222222222222222,\"#3e4989\"],[0.3333333333333333,\"#31688e\"],[0.4444444444444444,\"#26828e\"],[0.5555555555555556,\"#1f9e89\"],[0.6666666666666666,\"#35b779\"],[0.7777777777777778,\"#6ece58\"],[0.8888888888888888,\"#b5de2b\"],[1.0,\"#fde725\"]]},\"margin\":{\"t\":60},\"title\":{\"text\":\"Interactive Heatmap Visualization\"},\"width\":700,\"height\":700},                        {\"responsive\": true}                    ).then(function(){\n",
       "                            \n",
       "var gd = document.getElementById('4eca80fb-1626-44d0-bc54-7715f0927d75');\n",
       "var x = new MutationObserver(function (mutations, observer) {{\n",
       "        var display = window.getComputedStyle(gd).display;\n",
       "        if (!display || display === 'none') {{\n",
       "            console.log([gd, 'removed!']);\n",
       "            Plotly.purge(gd);\n",
       "            observer.disconnect();\n",
       "        }}\n",
       "}});\n",
       "\n",
       "// Listen for the removal of the full notebook cells\n",
       "var notebookContainer = gd.closest('#notebook-container');\n",
       "if (notebookContainer) {{\n",
       "    x.observe(notebookContainer, {childList: true});\n",
       "}}\n",
       "\n",
       "// Listen for the clearing of the current output cell\n",
       "var outputEl = gd.closest('.output');\n",
       "if (outputEl) {{\n",
       "    x.observe(outputEl, {childList: true});\n",
       "}}\n",
       "\n",
       "                        })                };                });            </script>        </div>"
      ]
     },
     "metadata": {},
     "output_type": "display_data"
    }
   ],
   "source": [
    "import plotly.express as px\n",
    "# 使用Plotly Express创建交互式热力图\n",
    "fig = px.imshow(tmp,  # 确保tensor_sample是numpy数组\n",
    "                 color_continuous_scale='Viridis',  # 颜色映射表\n",
    "                 aspect='equal')  # 保持纵横比\n",
    "\n",
    "# 添加标题\n",
    "fig.update_layout(title_text='Interactive Heatmap Visualization')\n",
    "fig.update_layout(width=700, height=700)\n",
    "# 显示图表\n",
    "fig.show()"
   ]
  },
  {
   "cell_type": "code",
   "execution_count": 59,
   "metadata": {},
   "outputs": [
    {
     "name": "stderr",
     "output_type": "stream",
     "text": [
      "100%|██████████| 128/128 [00:00<00:00, 2249.72it/s]"
     ]
    },
    {
     "name": "stdout",
     "output_type": "stream",
     "text": [
      "128\n",
      "118\n",
      "检索准确率: 0.92\n"
     ]
    },
    {
     "name": "stderr",
     "output_type": "stream",
     "text": [
      "\n"
     ]
    }
   ],
   "source": [
    "evaluate_retrieval(embeddings_dict)"
   ]
  },
  {
   "cell_type": "code",
   "execution_count": 1,
   "metadata": {},
   "outputs": [
    {
     "name": "stdout",
     "output_type": "stream",
     "text": [
      "393114\n"
     ]
    }
   ],
   "source": [
    "import os\n",
    "path = os.listdir(\"/mnt/bn/data-tns-live-llm/leon/experiments/llm/face/cropped_second_stage_imgs_2million\")\n",
    "print(len(path))"
   ]
  },
  {
   "cell_type": "code",
   "execution_count": null,
   "metadata": {},
   "outputs": [],
   "source": []
  }
 ],
 "metadata": {
  "kernelspec": {
   "display_name": "Python 3.12.3 64-bit ('leon')",
   "language": "python",
   "name": "python3"
  },
  "language_info": {
   "codemirror_mode": {
    "name": "ipython",
    "version": 3
   },
   "file_extension": ".py",
   "mimetype": "text/x-python",
   "name": "python",
   "nbconvert_exporter": "python",
   "pygments_lexer": "ipython3",
   "version": "3.12.3"
  },
  "orig_nbformat": 4,
  "vscode": {
   "interpreter": {
    "hash": "e8b6f802d015e86ff131672ca41fd309fa3f5735a0e8ffe3aa5de12a854f4114"
   }
  }
 },
 "nbformat": 4,
 "nbformat_minor": 2
}
